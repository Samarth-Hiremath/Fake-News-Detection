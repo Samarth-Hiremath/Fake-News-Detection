{
  "nbformat": 4,
  "nbformat_minor": 0,
  "metadata": {
    "colab": {
      "name": "Fake_News_Detection_new.ipynb",
      "provenance": [],
      "collapsed_sections": []
    },
    "kernelspec": {
      "name": "python3",
      "display_name": "Python 3"
    },
    "language_info": {
      "name": "python"
    },
    "accelerator": "GPU",
    "widgets": {
      "application/vnd.jupyter.widget-state+json": {
        "85a3652d768e4c73887700341d8e8ee9": {
          "model_module": "@jupyter-widgets/controls",
          "model_name": "HBoxModel",
          "state": {
            "_view_name": "HBoxView",
            "_dom_classes": [],
            "_model_name": "HBoxModel",
            "_view_module": "@jupyter-widgets/controls",
            "_model_module_version": "1.5.0",
            "_view_count": null,
            "_view_module_version": "1.5.0",
            "box_style": "",
            "layout": "IPY_MODEL_887f58737b85443baf1fc0920d4a5beb",
            "_model_module": "@jupyter-widgets/controls",
            "children": [
              "IPY_MODEL_a2c791418e3f4ddca5aae10950129b5a",
              "IPY_MODEL_f2709e213c6b4db29f8785fccbd8d34e"
            ]
          }
        },
        "887f58737b85443baf1fc0920d4a5beb": {
          "model_module": "@jupyter-widgets/base",
          "model_name": "LayoutModel",
          "state": {
            "_view_name": "LayoutView",
            "grid_template_rows": null,
            "right": null,
            "justify_content": null,
            "_view_module": "@jupyter-widgets/base",
            "overflow": null,
            "_model_module_version": "1.2.0",
            "_view_count": null,
            "flex_flow": null,
            "width": null,
            "min_width": null,
            "border": null,
            "align_items": null,
            "bottom": null,
            "_model_module": "@jupyter-widgets/base",
            "top": null,
            "grid_column": null,
            "overflow_y": null,
            "overflow_x": null,
            "grid_auto_flow": null,
            "grid_area": null,
            "grid_template_columns": null,
            "flex": null,
            "_model_name": "LayoutModel",
            "justify_items": null,
            "grid_row": null,
            "max_height": null,
            "align_content": null,
            "visibility": null,
            "align_self": null,
            "height": null,
            "min_height": null,
            "padding": null,
            "grid_auto_rows": null,
            "grid_gap": null,
            "max_width": null,
            "order": null,
            "_view_module_version": "1.2.0",
            "grid_template_areas": null,
            "object_position": null,
            "object_fit": null,
            "grid_auto_columns": null,
            "margin": null,
            "display": null,
            "left": null
          }
        },
        "a2c791418e3f4ddca5aae10950129b5a": {
          "model_module": "@jupyter-widgets/controls",
          "model_name": "FloatProgressModel",
          "state": {
            "_view_name": "ProgressView",
            "style": "IPY_MODEL_6c0a992d31dc4ba9abb1130e695a0c74",
            "_dom_classes": [],
            "description": "Downloading: 100%",
            "_model_name": "FloatProgressModel",
            "bar_style": "success",
            "max": 213450,
            "_view_module": "@jupyter-widgets/controls",
            "_model_module_version": "1.5.0",
            "value": 213450,
            "_view_count": null,
            "_view_module_version": "1.5.0",
            "orientation": "horizontal",
            "min": 0,
            "description_tooltip": null,
            "_model_module": "@jupyter-widgets/controls",
            "layout": "IPY_MODEL_c3b460d6d6124e0ba7bca04aab8eeeca"
          }
        },
        "f2709e213c6b4db29f8785fccbd8d34e": {
          "model_module": "@jupyter-widgets/controls",
          "model_name": "HTMLModel",
          "state": {
            "_view_name": "HTMLView",
            "style": "IPY_MODEL_1d371e9383e145aaab0d949a1dd128e3",
            "_dom_classes": [],
            "description": "",
            "_model_name": "HTMLModel",
            "placeholder": "​",
            "_view_module": "@jupyter-widgets/controls",
            "_model_module_version": "1.5.0",
            "value": " 213k/213k [00:00&lt;00:00, 671kB/s]",
            "_view_count": null,
            "_view_module_version": "1.5.0",
            "description_tooltip": null,
            "_model_module": "@jupyter-widgets/controls",
            "layout": "IPY_MODEL_1684e7f672524815a90992a63022c9ba"
          }
        },
        "6c0a992d31dc4ba9abb1130e695a0c74": {
          "model_module": "@jupyter-widgets/controls",
          "model_name": "ProgressStyleModel",
          "state": {
            "_view_name": "StyleView",
            "_model_name": "ProgressStyleModel",
            "description_width": "initial",
            "_view_module": "@jupyter-widgets/base",
            "_model_module_version": "1.5.0",
            "_view_count": null,
            "_view_module_version": "1.2.0",
            "bar_color": null,
            "_model_module": "@jupyter-widgets/controls"
          }
        },
        "c3b460d6d6124e0ba7bca04aab8eeeca": {
          "model_module": "@jupyter-widgets/base",
          "model_name": "LayoutModel",
          "state": {
            "_view_name": "LayoutView",
            "grid_template_rows": null,
            "right": null,
            "justify_content": null,
            "_view_module": "@jupyter-widgets/base",
            "overflow": null,
            "_model_module_version": "1.2.0",
            "_view_count": null,
            "flex_flow": null,
            "width": null,
            "min_width": null,
            "border": null,
            "align_items": null,
            "bottom": null,
            "_model_module": "@jupyter-widgets/base",
            "top": null,
            "grid_column": null,
            "overflow_y": null,
            "overflow_x": null,
            "grid_auto_flow": null,
            "grid_area": null,
            "grid_template_columns": null,
            "flex": null,
            "_model_name": "LayoutModel",
            "justify_items": null,
            "grid_row": null,
            "max_height": null,
            "align_content": null,
            "visibility": null,
            "align_self": null,
            "height": null,
            "min_height": null,
            "padding": null,
            "grid_auto_rows": null,
            "grid_gap": null,
            "max_width": null,
            "order": null,
            "_view_module_version": "1.2.0",
            "grid_template_areas": null,
            "object_position": null,
            "object_fit": null,
            "grid_auto_columns": null,
            "margin": null,
            "display": null,
            "left": null
          }
        },
        "1d371e9383e145aaab0d949a1dd128e3": {
          "model_module": "@jupyter-widgets/controls",
          "model_name": "DescriptionStyleModel",
          "state": {
            "_view_name": "StyleView",
            "_model_name": "DescriptionStyleModel",
            "description_width": "",
            "_view_module": "@jupyter-widgets/base",
            "_model_module_version": "1.5.0",
            "_view_count": null,
            "_view_module_version": "1.2.0",
            "_model_module": "@jupyter-widgets/controls"
          }
        },
        "1684e7f672524815a90992a63022c9ba": {
          "model_module": "@jupyter-widgets/base",
          "model_name": "LayoutModel",
          "state": {
            "_view_name": "LayoutView",
            "grid_template_rows": null,
            "right": null,
            "justify_content": null,
            "_view_module": "@jupyter-widgets/base",
            "overflow": null,
            "_model_module_version": "1.2.0",
            "_view_count": null,
            "flex_flow": null,
            "width": null,
            "min_width": null,
            "border": null,
            "align_items": null,
            "bottom": null,
            "_model_module": "@jupyter-widgets/base",
            "top": null,
            "grid_column": null,
            "overflow_y": null,
            "overflow_x": null,
            "grid_auto_flow": null,
            "grid_area": null,
            "grid_template_columns": null,
            "flex": null,
            "_model_name": "LayoutModel",
            "justify_items": null,
            "grid_row": null,
            "max_height": null,
            "align_content": null,
            "visibility": null,
            "align_self": null,
            "height": null,
            "min_height": null,
            "padding": null,
            "grid_auto_rows": null,
            "grid_gap": null,
            "max_width": null,
            "order": null,
            "_view_module_version": "1.2.0",
            "grid_template_areas": null,
            "object_position": null,
            "object_fit": null,
            "grid_auto_columns": null,
            "margin": null,
            "display": null,
            "left": null
          }
        },
        "05ed0361fbfa45bf98248f6c7b8a2748": {
          "model_module": "@jupyter-widgets/controls",
          "model_name": "HBoxModel",
          "state": {
            "_view_name": "HBoxView",
            "_dom_classes": [],
            "_model_name": "HBoxModel",
            "_view_module": "@jupyter-widgets/controls",
            "_model_module_version": "1.5.0",
            "_view_count": null,
            "_view_module_version": "1.5.0",
            "box_style": "",
            "layout": "IPY_MODEL_a9ee6c8eb4714c9cbb2341110bfc00ac",
            "_model_module": "@jupyter-widgets/controls",
            "children": [
              "IPY_MODEL_58ed6d2e3241491bac1c78334043af0e",
              "IPY_MODEL_07ab669dda724cccbf4e1f370cf8f162"
            ]
          }
        },
        "a9ee6c8eb4714c9cbb2341110bfc00ac": {
          "model_module": "@jupyter-widgets/base",
          "model_name": "LayoutModel",
          "state": {
            "_view_name": "LayoutView",
            "grid_template_rows": null,
            "right": null,
            "justify_content": null,
            "_view_module": "@jupyter-widgets/base",
            "overflow": null,
            "_model_module_version": "1.2.0",
            "_view_count": null,
            "flex_flow": null,
            "width": null,
            "min_width": null,
            "border": null,
            "align_items": null,
            "bottom": null,
            "_model_module": "@jupyter-widgets/base",
            "top": null,
            "grid_column": null,
            "overflow_y": null,
            "overflow_x": null,
            "grid_auto_flow": null,
            "grid_area": null,
            "grid_template_columns": null,
            "flex": null,
            "_model_name": "LayoutModel",
            "justify_items": null,
            "grid_row": null,
            "max_height": null,
            "align_content": null,
            "visibility": null,
            "align_self": null,
            "height": null,
            "min_height": null,
            "padding": null,
            "grid_auto_rows": null,
            "grid_gap": null,
            "max_width": null,
            "order": null,
            "_view_module_version": "1.2.0",
            "grid_template_areas": null,
            "object_position": null,
            "object_fit": null,
            "grid_auto_columns": null,
            "margin": null,
            "display": null,
            "left": null
          }
        },
        "58ed6d2e3241491bac1c78334043af0e": {
          "model_module": "@jupyter-widgets/controls",
          "model_name": "FloatProgressModel",
          "state": {
            "_view_name": "ProgressView",
            "style": "IPY_MODEL_5f06102e765846e5aac7c5effa59e297",
            "_dom_classes": [],
            "description": "Downloading: 100%",
            "_model_name": "FloatProgressModel",
            "bar_style": "success",
            "max": 29,
            "_view_module": "@jupyter-widgets/controls",
            "_model_module_version": "1.5.0",
            "value": 29,
            "_view_count": null,
            "_view_module_version": "1.5.0",
            "orientation": "horizontal",
            "min": 0,
            "description_tooltip": null,
            "_model_module": "@jupyter-widgets/controls",
            "layout": "IPY_MODEL_de9e3818152a4d24a69d6072a67e46c5"
          }
        },
        "07ab669dda724cccbf4e1f370cf8f162": {
          "model_module": "@jupyter-widgets/controls",
          "model_name": "HTMLModel",
          "state": {
            "_view_name": "HTMLView",
            "style": "IPY_MODEL_045856e07b2f41d5bad6475f89af6694",
            "_dom_classes": [],
            "description": "",
            "_model_name": "HTMLModel",
            "placeholder": "​",
            "_view_module": "@jupyter-widgets/controls",
            "_model_module_version": "1.5.0",
            "value": " 29.0/29.0 [00:00&lt;00:00, 159B/s]",
            "_view_count": null,
            "_view_module_version": "1.5.0",
            "description_tooltip": null,
            "_model_module": "@jupyter-widgets/controls",
            "layout": "IPY_MODEL_a23ad8bd4c2444e5be70d648b09b8410"
          }
        },
        "5f06102e765846e5aac7c5effa59e297": {
          "model_module": "@jupyter-widgets/controls",
          "model_name": "ProgressStyleModel",
          "state": {
            "_view_name": "StyleView",
            "_model_name": "ProgressStyleModel",
            "description_width": "initial",
            "_view_module": "@jupyter-widgets/base",
            "_model_module_version": "1.5.0",
            "_view_count": null,
            "_view_module_version": "1.2.0",
            "bar_color": null,
            "_model_module": "@jupyter-widgets/controls"
          }
        },
        "de9e3818152a4d24a69d6072a67e46c5": {
          "model_module": "@jupyter-widgets/base",
          "model_name": "LayoutModel",
          "state": {
            "_view_name": "LayoutView",
            "grid_template_rows": null,
            "right": null,
            "justify_content": null,
            "_view_module": "@jupyter-widgets/base",
            "overflow": null,
            "_model_module_version": "1.2.0",
            "_view_count": null,
            "flex_flow": null,
            "width": null,
            "min_width": null,
            "border": null,
            "align_items": null,
            "bottom": null,
            "_model_module": "@jupyter-widgets/base",
            "top": null,
            "grid_column": null,
            "overflow_y": null,
            "overflow_x": null,
            "grid_auto_flow": null,
            "grid_area": null,
            "grid_template_columns": null,
            "flex": null,
            "_model_name": "LayoutModel",
            "justify_items": null,
            "grid_row": null,
            "max_height": null,
            "align_content": null,
            "visibility": null,
            "align_self": null,
            "height": null,
            "min_height": null,
            "padding": null,
            "grid_auto_rows": null,
            "grid_gap": null,
            "max_width": null,
            "order": null,
            "_view_module_version": "1.2.0",
            "grid_template_areas": null,
            "object_position": null,
            "object_fit": null,
            "grid_auto_columns": null,
            "margin": null,
            "display": null,
            "left": null
          }
        },
        "045856e07b2f41d5bad6475f89af6694": {
          "model_module": "@jupyter-widgets/controls",
          "model_name": "DescriptionStyleModel",
          "state": {
            "_view_name": "StyleView",
            "_model_name": "DescriptionStyleModel",
            "description_width": "",
            "_view_module": "@jupyter-widgets/base",
            "_model_module_version": "1.5.0",
            "_view_count": null,
            "_view_module_version": "1.2.0",
            "_model_module": "@jupyter-widgets/controls"
          }
        },
        "a23ad8bd4c2444e5be70d648b09b8410": {
          "model_module": "@jupyter-widgets/base",
          "model_name": "LayoutModel",
          "state": {
            "_view_name": "LayoutView",
            "grid_template_rows": null,
            "right": null,
            "justify_content": null,
            "_view_module": "@jupyter-widgets/base",
            "overflow": null,
            "_model_module_version": "1.2.0",
            "_view_count": null,
            "flex_flow": null,
            "width": null,
            "min_width": null,
            "border": null,
            "align_items": null,
            "bottom": null,
            "_model_module": "@jupyter-widgets/base",
            "top": null,
            "grid_column": null,
            "overflow_y": null,
            "overflow_x": null,
            "grid_auto_flow": null,
            "grid_area": null,
            "grid_template_columns": null,
            "flex": null,
            "_model_name": "LayoutModel",
            "justify_items": null,
            "grid_row": null,
            "max_height": null,
            "align_content": null,
            "visibility": null,
            "align_self": null,
            "height": null,
            "min_height": null,
            "padding": null,
            "grid_auto_rows": null,
            "grid_gap": null,
            "max_width": null,
            "order": null,
            "_view_module_version": "1.2.0",
            "grid_template_areas": null,
            "object_position": null,
            "object_fit": null,
            "grid_auto_columns": null,
            "margin": null,
            "display": null,
            "left": null
          }
        },
        "da883b0ad04b43db9e9f12d0747ea410": {
          "model_module": "@jupyter-widgets/controls",
          "model_name": "HBoxModel",
          "state": {
            "_view_name": "HBoxView",
            "_dom_classes": [],
            "_model_name": "HBoxModel",
            "_view_module": "@jupyter-widgets/controls",
            "_model_module_version": "1.5.0",
            "_view_count": null,
            "_view_module_version": "1.5.0",
            "box_style": "",
            "layout": "IPY_MODEL_fe5766be04784e9ca77a8db00d131a06",
            "_model_module": "@jupyter-widgets/controls",
            "children": [
              "IPY_MODEL_23524a9eaa3140fd9c212a1580fd392c",
              "IPY_MODEL_86978be0227343fd8db84457c2981c7f"
            ]
          }
        },
        "fe5766be04784e9ca77a8db00d131a06": {
          "model_module": "@jupyter-widgets/base",
          "model_name": "LayoutModel",
          "state": {
            "_view_name": "LayoutView",
            "grid_template_rows": null,
            "right": null,
            "justify_content": null,
            "_view_module": "@jupyter-widgets/base",
            "overflow": null,
            "_model_module_version": "1.2.0",
            "_view_count": null,
            "flex_flow": null,
            "width": null,
            "min_width": null,
            "border": null,
            "align_items": null,
            "bottom": null,
            "_model_module": "@jupyter-widgets/base",
            "top": null,
            "grid_column": null,
            "overflow_y": null,
            "overflow_x": null,
            "grid_auto_flow": null,
            "grid_area": null,
            "grid_template_columns": null,
            "flex": null,
            "_model_name": "LayoutModel",
            "justify_items": null,
            "grid_row": null,
            "max_height": null,
            "align_content": null,
            "visibility": null,
            "align_self": null,
            "height": null,
            "min_height": null,
            "padding": null,
            "grid_auto_rows": null,
            "grid_gap": null,
            "max_width": null,
            "order": null,
            "_view_module_version": "1.2.0",
            "grid_template_areas": null,
            "object_position": null,
            "object_fit": null,
            "grid_auto_columns": null,
            "margin": null,
            "display": null,
            "left": null
          }
        },
        "23524a9eaa3140fd9c212a1580fd392c": {
          "model_module": "@jupyter-widgets/controls",
          "model_name": "FloatProgressModel",
          "state": {
            "_view_name": "ProgressView",
            "style": "IPY_MODEL_b045acace30c4cea8797891e34d1634b",
            "_dom_classes": [],
            "description": "Downloading: 100%",
            "_model_name": "FloatProgressModel",
            "bar_style": "success",
            "max": 435797,
            "_view_module": "@jupyter-widgets/controls",
            "_model_module_version": "1.5.0",
            "value": 435797,
            "_view_count": null,
            "_view_module_version": "1.5.0",
            "orientation": "horizontal",
            "min": 0,
            "description_tooltip": null,
            "_model_module": "@jupyter-widgets/controls",
            "layout": "IPY_MODEL_7a838817f5f347b0aa203ce4553fafb2"
          }
        },
        "86978be0227343fd8db84457c2981c7f": {
          "model_module": "@jupyter-widgets/controls",
          "model_name": "HTMLModel",
          "state": {
            "_view_name": "HTMLView",
            "style": "IPY_MODEL_0d308438d6e145c9b299fd99894cfc40",
            "_dom_classes": [],
            "description": "",
            "_model_name": "HTMLModel",
            "placeholder": "​",
            "_view_module": "@jupyter-widgets/controls",
            "_model_module_version": "1.5.0",
            "value": " 436k/436k [00:00&lt;00:00, 5.25MB/s]",
            "_view_count": null,
            "_view_module_version": "1.5.0",
            "description_tooltip": null,
            "_model_module": "@jupyter-widgets/controls",
            "layout": "IPY_MODEL_61658bbc204c4e98a30c90846ee590ed"
          }
        },
        "b045acace30c4cea8797891e34d1634b": {
          "model_module": "@jupyter-widgets/controls",
          "model_name": "ProgressStyleModel",
          "state": {
            "_view_name": "StyleView",
            "_model_name": "ProgressStyleModel",
            "description_width": "initial",
            "_view_module": "@jupyter-widgets/base",
            "_model_module_version": "1.5.0",
            "_view_count": null,
            "_view_module_version": "1.2.0",
            "bar_color": null,
            "_model_module": "@jupyter-widgets/controls"
          }
        },
        "7a838817f5f347b0aa203ce4553fafb2": {
          "model_module": "@jupyter-widgets/base",
          "model_name": "LayoutModel",
          "state": {
            "_view_name": "LayoutView",
            "grid_template_rows": null,
            "right": null,
            "justify_content": null,
            "_view_module": "@jupyter-widgets/base",
            "overflow": null,
            "_model_module_version": "1.2.0",
            "_view_count": null,
            "flex_flow": null,
            "width": null,
            "min_width": null,
            "border": null,
            "align_items": null,
            "bottom": null,
            "_model_module": "@jupyter-widgets/base",
            "top": null,
            "grid_column": null,
            "overflow_y": null,
            "overflow_x": null,
            "grid_auto_flow": null,
            "grid_area": null,
            "grid_template_columns": null,
            "flex": null,
            "_model_name": "LayoutModel",
            "justify_items": null,
            "grid_row": null,
            "max_height": null,
            "align_content": null,
            "visibility": null,
            "align_self": null,
            "height": null,
            "min_height": null,
            "padding": null,
            "grid_auto_rows": null,
            "grid_gap": null,
            "max_width": null,
            "order": null,
            "_view_module_version": "1.2.0",
            "grid_template_areas": null,
            "object_position": null,
            "object_fit": null,
            "grid_auto_columns": null,
            "margin": null,
            "display": null,
            "left": null
          }
        },
        "0d308438d6e145c9b299fd99894cfc40": {
          "model_module": "@jupyter-widgets/controls",
          "model_name": "DescriptionStyleModel",
          "state": {
            "_view_name": "StyleView",
            "_model_name": "DescriptionStyleModel",
            "description_width": "",
            "_view_module": "@jupyter-widgets/base",
            "_model_module_version": "1.5.0",
            "_view_count": null,
            "_view_module_version": "1.2.0",
            "_model_module": "@jupyter-widgets/controls"
          }
        },
        "61658bbc204c4e98a30c90846ee590ed": {
          "model_module": "@jupyter-widgets/base",
          "model_name": "LayoutModel",
          "state": {
            "_view_name": "LayoutView",
            "grid_template_rows": null,
            "right": null,
            "justify_content": null,
            "_view_module": "@jupyter-widgets/base",
            "overflow": null,
            "_model_module_version": "1.2.0",
            "_view_count": null,
            "flex_flow": null,
            "width": null,
            "min_width": null,
            "border": null,
            "align_items": null,
            "bottom": null,
            "_model_module": "@jupyter-widgets/base",
            "top": null,
            "grid_column": null,
            "overflow_y": null,
            "overflow_x": null,
            "grid_auto_flow": null,
            "grid_area": null,
            "grid_template_columns": null,
            "flex": null,
            "_model_name": "LayoutModel",
            "justify_items": null,
            "grid_row": null,
            "max_height": null,
            "align_content": null,
            "visibility": null,
            "align_self": null,
            "height": null,
            "min_height": null,
            "padding": null,
            "grid_auto_rows": null,
            "grid_gap": null,
            "max_width": null,
            "order": null,
            "_view_module_version": "1.2.0",
            "grid_template_areas": null,
            "object_position": null,
            "object_fit": null,
            "grid_auto_columns": null,
            "margin": null,
            "display": null,
            "left": null
          }
        },
        "8d05cd42b8a841aeb7a5ad86e4675bae": {
          "model_module": "@jupyter-widgets/controls",
          "model_name": "HBoxModel",
          "state": {
            "_view_name": "HBoxView",
            "_dom_classes": [],
            "_model_name": "HBoxModel",
            "_view_module": "@jupyter-widgets/controls",
            "_model_module_version": "1.5.0",
            "_view_count": null,
            "_view_module_version": "1.5.0",
            "box_style": "",
            "layout": "IPY_MODEL_b9c74f797f114955883712ea3e933b83",
            "_model_module": "@jupyter-widgets/controls",
            "children": [
              "IPY_MODEL_9e21a4da81bf4231820290a9deee7263",
              "IPY_MODEL_abd3ff0f8e9c447a88c77f9bb4f746af"
            ]
          }
        },
        "b9c74f797f114955883712ea3e933b83": {
          "model_module": "@jupyter-widgets/base",
          "model_name": "LayoutModel",
          "state": {
            "_view_name": "LayoutView",
            "grid_template_rows": null,
            "right": null,
            "justify_content": null,
            "_view_module": "@jupyter-widgets/base",
            "overflow": null,
            "_model_module_version": "1.2.0",
            "_view_count": null,
            "flex_flow": null,
            "width": null,
            "min_width": null,
            "border": null,
            "align_items": null,
            "bottom": null,
            "_model_module": "@jupyter-widgets/base",
            "top": null,
            "grid_column": null,
            "overflow_y": null,
            "overflow_x": null,
            "grid_auto_flow": null,
            "grid_area": null,
            "grid_template_columns": null,
            "flex": null,
            "_model_name": "LayoutModel",
            "justify_items": null,
            "grid_row": null,
            "max_height": null,
            "align_content": null,
            "visibility": null,
            "align_self": null,
            "height": null,
            "min_height": null,
            "padding": null,
            "grid_auto_rows": null,
            "grid_gap": null,
            "max_width": null,
            "order": null,
            "_view_module_version": "1.2.0",
            "grid_template_areas": null,
            "object_position": null,
            "object_fit": null,
            "grid_auto_columns": null,
            "margin": null,
            "display": null,
            "left": null
          }
        },
        "9e21a4da81bf4231820290a9deee7263": {
          "model_module": "@jupyter-widgets/controls",
          "model_name": "FloatProgressModel",
          "state": {
            "_view_name": "ProgressView",
            "style": "IPY_MODEL_c14b7534cb6b40f5bb879af896941451",
            "_dom_classes": [],
            "description": "Downloading: 100%",
            "_model_name": "FloatProgressModel",
            "bar_style": "success",
            "max": 570,
            "_view_module": "@jupyter-widgets/controls",
            "_model_module_version": "1.5.0",
            "value": 570,
            "_view_count": null,
            "_view_module_version": "1.5.0",
            "orientation": "horizontal",
            "min": 0,
            "description_tooltip": null,
            "_model_module": "@jupyter-widgets/controls",
            "layout": "IPY_MODEL_8fb5b8348f6f4bde9c1575ecb1cab47d"
          }
        },
        "abd3ff0f8e9c447a88c77f9bb4f746af": {
          "model_module": "@jupyter-widgets/controls",
          "model_name": "HTMLModel",
          "state": {
            "_view_name": "HTMLView",
            "style": "IPY_MODEL_95efd771912c4767891916d5eb5a0b52",
            "_dom_classes": [],
            "description": "",
            "_model_name": "HTMLModel",
            "placeholder": "​",
            "_view_module": "@jupyter-widgets/controls",
            "_model_module_version": "1.5.0",
            "value": " 570/570 [00:00&lt;00:00, 2.92kB/s]",
            "_view_count": null,
            "_view_module_version": "1.5.0",
            "description_tooltip": null,
            "_model_module": "@jupyter-widgets/controls",
            "layout": "IPY_MODEL_bccb706bc0bc49ed80aa77bbe202f519"
          }
        },
        "c14b7534cb6b40f5bb879af896941451": {
          "model_module": "@jupyter-widgets/controls",
          "model_name": "ProgressStyleModel",
          "state": {
            "_view_name": "StyleView",
            "_model_name": "ProgressStyleModel",
            "description_width": "initial",
            "_view_module": "@jupyter-widgets/base",
            "_model_module_version": "1.5.0",
            "_view_count": null,
            "_view_module_version": "1.2.0",
            "bar_color": null,
            "_model_module": "@jupyter-widgets/controls"
          }
        },
        "8fb5b8348f6f4bde9c1575ecb1cab47d": {
          "model_module": "@jupyter-widgets/base",
          "model_name": "LayoutModel",
          "state": {
            "_view_name": "LayoutView",
            "grid_template_rows": null,
            "right": null,
            "justify_content": null,
            "_view_module": "@jupyter-widgets/base",
            "overflow": null,
            "_model_module_version": "1.2.0",
            "_view_count": null,
            "flex_flow": null,
            "width": null,
            "min_width": null,
            "border": null,
            "align_items": null,
            "bottom": null,
            "_model_module": "@jupyter-widgets/base",
            "top": null,
            "grid_column": null,
            "overflow_y": null,
            "overflow_x": null,
            "grid_auto_flow": null,
            "grid_area": null,
            "grid_template_columns": null,
            "flex": null,
            "_model_name": "LayoutModel",
            "justify_items": null,
            "grid_row": null,
            "max_height": null,
            "align_content": null,
            "visibility": null,
            "align_self": null,
            "height": null,
            "min_height": null,
            "padding": null,
            "grid_auto_rows": null,
            "grid_gap": null,
            "max_width": null,
            "order": null,
            "_view_module_version": "1.2.0",
            "grid_template_areas": null,
            "object_position": null,
            "object_fit": null,
            "grid_auto_columns": null,
            "margin": null,
            "display": null,
            "left": null
          }
        },
        "95efd771912c4767891916d5eb5a0b52": {
          "model_module": "@jupyter-widgets/controls",
          "model_name": "DescriptionStyleModel",
          "state": {
            "_view_name": "StyleView",
            "_model_name": "DescriptionStyleModel",
            "description_width": "",
            "_view_module": "@jupyter-widgets/base",
            "_model_module_version": "1.5.0",
            "_view_count": null,
            "_view_module_version": "1.2.0",
            "_model_module": "@jupyter-widgets/controls"
          }
        },
        "bccb706bc0bc49ed80aa77bbe202f519": {
          "model_module": "@jupyter-widgets/base",
          "model_name": "LayoutModel",
          "state": {
            "_view_name": "LayoutView",
            "grid_template_rows": null,
            "right": null,
            "justify_content": null,
            "_view_module": "@jupyter-widgets/base",
            "overflow": null,
            "_model_module_version": "1.2.0",
            "_view_count": null,
            "flex_flow": null,
            "width": null,
            "min_width": null,
            "border": null,
            "align_items": null,
            "bottom": null,
            "_model_module": "@jupyter-widgets/base",
            "top": null,
            "grid_column": null,
            "overflow_y": null,
            "overflow_x": null,
            "grid_auto_flow": null,
            "grid_area": null,
            "grid_template_columns": null,
            "flex": null,
            "_model_name": "LayoutModel",
            "justify_items": null,
            "grid_row": null,
            "max_height": null,
            "align_content": null,
            "visibility": null,
            "align_self": null,
            "height": null,
            "min_height": null,
            "padding": null,
            "grid_auto_rows": null,
            "grid_gap": null,
            "max_width": null,
            "order": null,
            "_view_module_version": "1.2.0",
            "grid_template_areas": null,
            "object_position": null,
            "object_fit": null,
            "grid_auto_columns": null,
            "margin": null,
            "display": null,
            "left": null
          }
        },
        "930333a530654dcaab20578d8962e2eb": {
          "model_module": "@jupyter-widgets/controls",
          "model_name": "HBoxModel",
          "state": {
            "_view_name": "HBoxView",
            "_dom_classes": [],
            "_model_name": "HBoxModel",
            "_view_module": "@jupyter-widgets/controls",
            "_model_module_version": "1.5.0",
            "_view_count": null,
            "_view_module_version": "1.5.0",
            "box_style": "",
            "layout": "IPY_MODEL_3af58040251f4054bfcc0d2c892685dd",
            "_model_module": "@jupyter-widgets/controls",
            "children": [
              "IPY_MODEL_faf9bc0b8c384ec184b284ff35ce0df6",
              "IPY_MODEL_d00e17c40b2c439089aed974ac172f10"
            ]
          }
        },
        "3af58040251f4054bfcc0d2c892685dd": {
          "model_module": "@jupyter-widgets/base",
          "model_name": "LayoutModel",
          "state": {
            "_view_name": "LayoutView",
            "grid_template_rows": null,
            "right": null,
            "justify_content": null,
            "_view_module": "@jupyter-widgets/base",
            "overflow": null,
            "_model_module_version": "1.2.0",
            "_view_count": null,
            "flex_flow": null,
            "width": null,
            "min_width": null,
            "border": null,
            "align_items": null,
            "bottom": null,
            "_model_module": "@jupyter-widgets/base",
            "top": null,
            "grid_column": null,
            "overflow_y": null,
            "overflow_x": null,
            "grid_auto_flow": null,
            "grid_area": null,
            "grid_template_columns": null,
            "flex": null,
            "_model_name": "LayoutModel",
            "justify_items": null,
            "grid_row": null,
            "max_height": null,
            "align_content": null,
            "visibility": null,
            "align_self": null,
            "height": null,
            "min_height": null,
            "padding": null,
            "grid_auto_rows": null,
            "grid_gap": null,
            "max_width": null,
            "order": null,
            "_view_module_version": "1.2.0",
            "grid_template_areas": null,
            "object_position": null,
            "object_fit": null,
            "grid_auto_columns": null,
            "margin": null,
            "display": null,
            "left": null
          }
        },
        "faf9bc0b8c384ec184b284ff35ce0df6": {
          "model_module": "@jupyter-widgets/controls",
          "model_name": "FloatProgressModel",
          "state": {
            "_view_name": "ProgressView",
            "style": "IPY_MODEL_c254a9ca33a943a39d17f6131c7ca599",
            "_dom_classes": [],
            "description": "Downloading: 100%",
            "_model_name": "FloatProgressModel",
            "bar_style": "success",
            "max": 435779157,
            "_view_module": "@jupyter-widgets/controls",
            "_model_module_version": "1.5.0",
            "value": 435779157,
            "_view_count": null,
            "_view_module_version": "1.5.0",
            "orientation": "horizontal",
            "min": 0,
            "description_tooltip": null,
            "_model_module": "@jupyter-widgets/controls",
            "layout": "IPY_MODEL_d8b5e22636cb41b794f2c535e2282ed2"
          }
        },
        "d00e17c40b2c439089aed974ac172f10": {
          "model_module": "@jupyter-widgets/controls",
          "model_name": "HTMLModel",
          "state": {
            "_view_name": "HTMLView",
            "style": "IPY_MODEL_4875a68e0730470e9db9a8f9fe1293dd",
            "_dom_classes": [],
            "description": "",
            "_model_name": "HTMLModel",
            "placeholder": "​",
            "_view_module": "@jupyter-widgets/controls",
            "_model_module_version": "1.5.0",
            "value": " 436M/436M [00:09&lt;00:00, 45.3MB/s]",
            "_view_count": null,
            "_view_module_version": "1.5.0",
            "description_tooltip": null,
            "_model_module": "@jupyter-widgets/controls",
            "layout": "IPY_MODEL_cc3626f3e7584c30a5d94235849e64d1"
          }
        },
        "c254a9ca33a943a39d17f6131c7ca599": {
          "model_module": "@jupyter-widgets/controls",
          "model_name": "ProgressStyleModel",
          "state": {
            "_view_name": "StyleView",
            "_model_name": "ProgressStyleModel",
            "description_width": "initial",
            "_view_module": "@jupyter-widgets/base",
            "_model_module_version": "1.5.0",
            "_view_count": null,
            "_view_module_version": "1.2.0",
            "bar_color": null,
            "_model_module": "@jupyter-widgets/controls"
          }
        },
        "d8b5e22636cb41b794f2c535e2282ed2": {
          "model_module": "@jupyter-widgets/base",
          "model_name": "LayoutModel",
          "state": {
            "_view_name": "LayoutView",
            "grid_template_rows": null,
            "right": null,
            "justify_content": null,
            "_view_module": "@jupyter-widgets/base",
            "overflow": null,
            "_model_module_version": "1.2.0",
            "_view_count": null,
            "flex_flow": null,
            "width": null,
            "min_width": null,
            "border": null,
            "align_items": null,
            "bottom": null,
            "_model_module": "@jupyter-widgets/base",
            "top": null,
            "grid_column": null,
            "overflow_y": null,
            "overflow_x": null,
            "grid_auto_flow": null,
            "grid_area": null,
            "grid_template_columns": null,
            "flex": null,
            "_model_name": "LayoutModel",
            "justify_items": null,
            "grid_row": null,
            "max_height": null,
            "align_content": null,
            "visibility": null,
            "align_self": null,
            "height": null,
            "min_height": null,
            "padding": null,
            "grid_auto_rows": null,
            "grid_gap": null,
            "max_width": null,
            "order": null,
            "_view_module_version": "1.2.0",
            "grid_template_areas": null,
            "object_position": null,
            "object_fit": null,
            "grid_auto_columns": null,
            "margin": null,
            "display": null,
            "left": null
          }
        },
        "4875a68e0730470e9db9a8f9fe1293dd": {
          "model_module": "@jupyter-widgets/controls",
          "model_name": "DescriptionStyleModel",
          "state": {
            "_view_name": "StyleView",
            "_model_name": "DescriptionStyleModel",
            "description_width": "",
            "_view_module": "@jupyter-widgets/base",
            "_model_module_version": "1.5.0",
            "_view_count": null,
            "_view_module_version": "1.2.0",
            "_model_module": "@jupyter-widgets/controls"
          }
        },
        "cc3626f3e7584c30a5d94235849e64d1": {
          "model_module": "@jupyter-widgets/base",
          "model_name": "LayoutModel",
          "state": {
            "_view_name": "LayoutView",
            "grid_template_rows": null,
            "right": null,
            "justify_content": null,
            "_view_module": "@jupyter-widgets/base",
            "overflow": null,
            "_model_module_version": "1.2.0",
            "_view_count": null,
            "flex_flow": null,
            "width": null,
            "min_width": null,
            "border": null,
            "align_items": null,
            "bottom": null,
            "_model_module": "@jupyter-widgets/base",
            "top": null,
            "grid_column": null,
            "overflow_y": null,
            "overflow_x": null,
            "grid_auto_flow": null,
            "grid_area": null,
            "grid_template_columns": null,
            "flex": null,
            "_model_name": "LayoutModel",
            "justify_items": null,
            "grid_row": null,
            "max_height": null,
            "align_content": null,
            "visibility": null,
            "align_self": null,
            "height": null,
            "min_height": null,
            "padding": null,
            "grid_auto_rows": null,
            "grid_gap": null,
            "max_width": null,
            "order": null,
            "_view_module_version": "1.2.0",
            "grid_template_areas": null,
            "object_position": null,
            "object_fit": null,
            "grid_auto_columns": null,
            "margin": null,
            "display": null,
            "left": null
          }
        },
        "32089a0b56644791980efce563358372": {
          "model_module": "@jupyter-widgets/controls",
          "model_name": "HBoxModel",
          "state": {
            "_view_name": "HBoxView",
            "_dom_classes": [],
            "_model_name": "HBoxModel",
            "_view_module": "@jupyter-widgets/controls",
            "_model_module_version": "1.5.0",
            "_view_count": null,
            "_view_module_version": "1.5.0",
            "box_style": "",
            "layout": "IPY_MODEL_9966bd1054ed4e029eb2542b0bff5388",
            "_model_module": "@jupyter-widgets/controls",
            "children": [
              "IPY_MODEL_28b55a09e0b44637b2a8b09c98eac51a",
              "IPY_MODEL_85156fad48f242f7b216b2bb37ab1098"
            ]
          }
        },
        "9966bd1054ed4e029eb2542b0bff5388": {
          "model_module": "@jupyter-widgets/base",
          "model_name": "LayoutModel",
          "state": {
            "_view_name": "LayoutView",
            "grid_template_rows": null,
            "right": null,
            "justify_content": null,
            "_view_module": "@jupyter-widgets/base",
            "overflow": null,
            "_model_module_version": "1.2.0",
            "_view_count": null,
            "flex_flow": null,
            "width": null,
            "min_width": null,
            "border": null,
            "align_items": null,
            "bottom": null,
            "_model_module": "@jupyter-widgets/base",
            "top": null,
            "grid_column": null,
            "overflow_y": null,
            "overflow_x": null,
            "grid_auto_flow": null,
            "grid_area": null,
            "grid_template_columns": null,
            "flex": null,
            "_model_name": "LayoutModel",
            "justify_items": null,
            "grid_row": null,
            "max_height": null,
            "align_content": null,
            "visibility": null,
            "align_self": null,
            "height": null,
            "min_height": null,
            "padding": null,
            "grid_auto_rows": null,
            "grid_gap": null,
            "max_width": null,
            "order": null,
            "_view_module_version": "1.2.0",
            "grid_template_areas": null,
            "object_position": null,
            "object_fit": null,
            "grid_auto_columns": null,
            "margin": null,
            "display": null,
            "left": null
          }
        },
        "28b55a09e0b44637b2a8b09c98eac51a": {
          "model_module": "@jupyter-widgets/controls",
          "model_name": "FloatProgressModel",
          "state": {
            "_view_name": "ProgressView",
            "style": "IPY_MODEL_7812fa93674242f3a13e510a350abe5b",
            "_dom_classes": [],
            "description": "Downloading: 100%",
            "_model_name": "FloatProgressModel",
            "bar_style": "success",
            "max": 213450,
            "_view_module": "@jupyter-widgets/controls",
            "_model_module_version": "1.5.0",
            "value": 213450,
            "_view_count": null,
            "_view_module_version": "1.5.0",
            "orientation": "horizontal",
            "min": 0,
            "description_tooltip": null,
            "_model_module": "@jupyter-widgets/controls",
            "layout": "IPY_MODEL_5d86ded5efc645d993ec92bf8eac44af"
          }
        },
        "85156fad48f242f7b216b2bb37ab1098": {
          "model_module": "@jupyter-widgets/controls",
          "model_name": "HTMLModel",
          "state": {
            "_view_name": "HTMLView",
            "style": "IPY_MODEL_ca99075a49284ad18e693b8e362ab301",
            "_dom_classes": [],
            "description": "",
            "_model_name": "HTMLModel",
            "placeholder": "​",
            "_view_module": "@jupyter-widgets/controls",
            "_model_module_version": "1.5.0",
            "value": " 213k/213k [00:00&lt;00:00, 1.18MB/s]",
            "_view_count": null,
            "_view_module_version": "1.5.0",
            "description_tooltip": null,
            "_model_module": "@jupyter-widgets/controls",
            "layout": "IPY_MODEL_8e825e2489e348318cbc3d18ebdd1945"
          }
        },
        "7812fa93674242f3a13e510a350abe5b": {
          "model_module": "@jupyter-widgets/controls",
          "model_name": "ProgressStyleModel",
          "state": {
            "_view_name": "StyleView",
            "_model_name": "ProgressStyleModel",
            "description_width": "initial",
            "_view_module": "@jupyter-widgets/base",
            "_model_module_version": "1.5.0",
            "_view_count": null,
            "_view_module_version": "1.2.0",
            "bar_color": null,
            "_model_module": "@jupyter-widgets/controls"
          }
        },
        "5d86ded5efc645d993ec92bf8eac44af": {
          "model_module": "@jupyter-widgets/base",
          "model_name": "LayoutModel",
          "state": {
            "_view_name": "LayoutView",
            "grid_template_rows": null,
            "right": null,
            "justify_content": null,
            "_view_module": "@jupyter-widgets/base",
            "overflow": null,
            "_model_module_version": "1.2.0",
            "_view_count": null,
            "flex_flow": null,
            "width": null,
            "min_width": null,
            "border": null,
            "align_items": null,
            "bottom": null,
            "_model_module": "@jupyter-widgets/base",
            "top": null,
            "grid_column": null,
            "overflow_y": null,
            "overflow_x": null,
            "grid_auto_flow": null,
            "grid_area": null,
            "grid_template_columns": null,
            "flex": null,
            "_model_name": "LayoutModel",
            "justify_items": null,
            "grid_row": null,
            "max_height": null,
            "align_content": null,
            "visibility": null,
            "align_self": null,
            "height": null,
            "min_height": null,
            "padding": null,
            "grid_auto_rows": null,
            "grid_gap": null,
            "max_width": null,
            "order": null,
            "_view_module_version": "1.2.0",
            "grid_template_areas": null,
            "object_position": null,
            "object_fit": null,
            "grid_auto_columns": null,
            "margin": null,
            "display": null,
            "left": null
          }
        },
        "ca99075a49284ad18e693b8e362ab301": {
          "model_module": "@jupyter-widgets/controls",
          "model_name": "DescriptionStyleModel",
          "state": {
            "_view_name": "StyleView",
            "_model_name": "DescriptionStyleModel",
            "description_width": "",
            "_view_module": "@jupyter-widgets/base",
            "_model_module_version": "1.5.0",
            "_view_count": null,
            "_view_module_version": "1.2.0",
            "_model_module": "@jupyter-widgets/controls"
          }
        },
        "8e825e2489e348318cbc3d18ebdd1945": {
          "model_module": "@jupyter-widgets/base",
          "model_name": "LayoutModel",
          "state": {
            "_view_name": "LayoutView",
            "grid_template_rows": null,
            "right": null,
            "justify_content": null,
            "_view_module": "@jupyter-widgets/base",
            "overflow": null,
            "_model_module_version": "1.2.0",
            "_view_count": null,
            "flex_flow": null,
            "width": null,
            "min_width": null,
            "border": null,
            "align_items": null,
            "bottom": null,
            "_model_module": "@jupyter-widgets/base",
            "top": null,
            "grid_column": null,
            "overflow_y": null,
            "overflow_x": null,
            "grid_auto_flow": null,
            "grid_area": null,
            "grid_template_columns": null,
            "flex": null,
            "_model_name": "LayoutModel",
            "justify_items": null,
            "grid_row": null,
            "max_height": null,
            "align_content": null,
            "visibility": null,
            "align_self": null,
            "height": null,
            "min_height": null,
            "padding": null,
            "grid_auto_rows": null,
            "grid_gap": null,
            "max_width": null,
            "order": null,
            "_view_module_version": "1.2.0",
            "grid_template_areas": null,
            "object_position": null,
            "object_fit": null,
            "grid_auto_columns": null,
            "margin": null,
            "display": null,
            "left": null
          }
        },
        "80b8d7b0b8f34471ba60b5d05de66440": {
          "model_module": "@jupyter-widgets/controls",
          "model_name": "HBoxModel",
          "state": {
            "_view_name": "HBoxView",
            "_dom_classes": [],
            "_model_name": "HBoxModel",
            "_view_module": "@jupyter-widgets/controls",
            "_model_module_version": "1.5.0",
            "_view_count": null,
            "_view_module_version": "1.5.0",
            "box_style": "",
            "layout": "IPY_MODEL_c9da7338480f4f55aea973b3ff3deb03",
            "_model_module": "@jupyter-widgets/controls",
            "children": [
              "IPY_MODEL_48224e2fd8ba40b19e407bf86c78cae8",
              "IPY_MODEL_841cd5952d70455f8b6ebff7d5e692c1"
            ]
          }
        },
        "c9da7338480f4f55aea973b3ff3deb03": {
          "model_module": "@jupyter-widgets/base",
          "model_name": "LayoutModel",
          "state": {
            "_view_name": "LayoutView",
            "grid_template_rows": null,
            "right": null,
            "justify_content": null,
            "_view_module": "@jupyter-widgets/base",
            "overflow": null,
            "_model_module_version": "1.2.0",
            "_view_count": null,
            "flex_flow": null,
            "width": null,
            "min_width": null,
            "border": null,
            "align_items": null,
            "bottom": null,
            "_model_module": "@jupyter-widgets/base",
            "top": null,
            "grid_column": null,
            "overflow_y": null,
            "overflow_x": null,
            "grid_auto_flow": null,
            "grid_area": null,
            "grid_template_columns": null,
            "flex": null,
            "_model_name": "LayoutModel",
            "justify_items": null,
            "grid_row": null,
            "max_height": null,
            "align_content": null,
            "visibility": null,
            "align_self": null,
            "height": null,
            "min_height": null,
            "padding": null,
            "grid_auto_rows": null,
            "grid_gap": null,
            "max_width": null,
            "order": null,
            "_view_module_version": "1.2.0",
            "grid_template_areas": null,
            "object_position": null,
            "object_fit": null,
            "grid_auto_columns": null,
            "margin": null,
            "display": null,
            "left": null
          }
        },
        "48224e2fd8ba40b19e407bf86c78cae8": {
          "model_module": "@jupyter-widgets/controls",
          "model_name": "FloatProgressModel",
          "state": {
            "_view_name": "ProgressView",
            "style": "IPY_MODEL_628c8cfef244412ea41f7fcb0ab6ac22",
            "_dom_classes": [],
            "description": "Downloading: 100%",
            "_model_name": "FloatProgressModel",
            "bar_style": "success",
            "max": 29,
            "_view_module": "@jupyter-widgets/controls",
            "_model_module_version": "1.5.0",
            "value": 29,
            "_view_count": null,
            "_view_module_version": "1.5.0",
            "orientation": "horizontal",
            "min": 0,
            "description_tooltip": null,
            "_model_module": "@jupyter-widgets/controls",
            "layout": "IPY_MODEL_be7e08d429214ac29bcf6649f284aa1f"
          }
        },
        "841cd5952d70455f8b6ebff7d5e692c1": {
          "model_module": "@jupyter-widgets/controls",
          "model_name": "HTMLModel",
          "state": {
            "_view_name": "HTMLView",
            "style": "IPY_MODEL_eae2191cbe05467da6cd2f701c3126bf",
            "_dom_classes": [],
            "description": "",
            "_model_name": "HTMLModel",
            "placeholder": "​",
            "_view_module": "@jupyter-widgets/controls",
            "_model_module_version": "1.5.0",
            "value": " 29.0/29.0 [00:00&lt;00:00, 139B/s]",
            "_view_count": null,
            "_view_module_version": "1.5.0",
            "description_tooltip": null,
            "_model_module": "@jupyter-widgets/controls",
            "layout": "IPY_MODEL_e4f7375048e44730918181bc5f87be15"
          }
        },
        "628c8cfef244412ea41f7fcb0ab6ac22": {
          "model_module": "@jupyter-widgets/controls",
          "model_name": "ProgressStyleModel",
          "state": {
            "_view_name": "StyleView",
            "_model_name": "ProgressStyleModel",
            "description_width": "initial",
            "_view_module": "@jupyter-widgets/base",
            "_model_module_version": "1.5.0",
            "_view_count": null,
            "_view_module_version": "1.2.0",
            "bar_color": null,
            "_model_module": "@jupyter-widgets/controls"
          }
        },
        "be7e08d429214ac29bcf6649f284aa1f": {
          "model_module": "@jupyter-widgets/base",
          "model_name": "LayoutModel",
          "state": {
            "_view_name": "LayoutView",
            "grid_template_rows": null,
            "right": null,
            "justify_content": null,
            "_view_module": "@jupyter-widgets/base",
            "overflow": null,
            "_model_module_version": "1.2.0",
            "_view_count": null,
            "flex_flow": null,
            "width": null,
            "min_width": null,
            "border": null,
            "align_items": null,
            "bottom": null,
            "_model_module": "@jupyter-widgets/base",
            "top": null,
            "grid_column": null,
            "overflow_y": null,
            "overflow_x": null,
            "grid_auto_flow": null,
            "grid_area": null,
            "grid_template_columns": null,
            "flex": null,
            "_model_name": "LayoutModel",
            "justify_items": null,
            "grid_row": null,
            "max_height": null,
            "align_content": null,
            "visibility": null,
            "align_self": null,
            "height": null,
            "min_height": null,
            "padding": null,
            "grid_auto_rows": null,
            "grid_gap": null,
            "max_width": null,
            "order": null,
            "_view_module_version": "1.2.0",
            "grid_template_areas": null,
            "object_position": null,
            "object_fit": null,
            "grid_auto_columns": null,
            "margin": null,
            "display": null,
            "left": null
          }
        },
        "eae2191cbe05467da6cd2f701c3126bf": {
          "model_module": "@jupyter-widgets/controls",
          "model_name": "DescriptionStyleModel",
          "state": {
            "_view_name": "StyleView",
            "_model_name": "DescriptionStyleModel",
            "description_width": "",
            "_view_module": "@jupyter-widgets/base",
            "_model_module_version": "1.5.0",
            "_view_count": null,
            "_view_module_version": "1.2.0",
            "_model_module": "@jupyter-widgets/controls"
          }
        },
        "e4f7375048e44730918181bc5f87be15": {
          "model_module": "@jupyter-widgets/base",
          "model_name": "LayoutModel",
          "state": {
            "_view_name": "LayoutView",
            "grid_template_rows": null,
            "right": null,
            "justify_content": null,
            "_view_module": "@jupyter-widgets/base",
            "overflow": null,
            "_model_module_version": "1.2.0",
            "_view_count": null,
            "flex_flow": null,
            "width": null,
            "min_width": null,
            "border": null,
            "align_items": null,
            "bottom": null,
            "_model_module": "@jupyter-widgets/base",
            "top": null,
            "grid_column": null,
            "overflow_y": null,
            "overflow_x": null,
            "grid_auto_flow": null,
            "grid_area": null,
            "grid_template_columns": null,
            "flex": null,
            "_model_name": "LayoutModel",
            "justify_items": null,
            "grid_row": null,
            "max_height": null,
            "align_content": null,
            "visibility": null,
            "align_self": null,
            "height": null,
            "min_height": null,
            "padding": null,
            "grid_auto_rows": null,
            "grid_gap": null,
            "max_width": null,
            "order": null,
            "_view_module_version": "1.2.0",
            "grid_template_areas": null,
            "object_position": null,
            "object_fit": null,
            "grid_auto_columns": null,
            "margin": null,
            "display": null,
            "left": null
          }
        },
        "49d036cd75234f4abe5aef169960278a": {
          "model_module": "@jupyter-widgets/controls",
          "model_name": "HBoxModel",
          "state": {
            "_view_name": "HBoxView",
            "_dom_classes": [],
            "_model_name": "HBoxModel",
            "_view_module": "@jupyter-widgets/controls",
            "_model_module_version": "1.5.0",
            "_view_count": null,
            "_view_module_version": "1.5.0",
            "box_style": "",
            "layout": "IPY_MODEL_b715acc30bed43b1a62827ef9a7ddd4b",
            "_model_module": "@jupyter-widgets/controls",
            "children": [
              "IPY_MODEL_7ea924e52b084b4797f005b358dca585",
              "IPY_MODEL_1145e886d06b4fe592e0cd4aae988571"
            ]
          }
        },
        "b715acc30bed43b1a62827ef9a7ddd4b": {
          "model_module": "@jupyter-widgets/base",
          "model_name": "LayoutModel",
          "state": {
            "_view_name": "LayoutView",
            "grid_template_rows": null,
            "right": null,
            "justify_content": null,
            "_view_module": "@jupyter-widgets/base",
            "overflow": null,
            "_model_module_version": "1.2.0",
            "_view_count": null,
            "flex_flow": null,
            "width": null,
            "min_width": null,
            "border": null,
            "align_items": null,
            "bottom": null,
            "_model_module": "@jupyter-widgets/base",
            "top": null,
            "grid_column": null,
            "overflow_y": null,
            "overflow_x": null,
            "grid_auto_flow": null,
            "grid_area": null,
            "grid_template_columns": null,
            "flex": null,
            "_model_name": "LayoutModel",
            "justify_items": null,
            "grid_row": null,
            "max_height": null,
            "align_content": null,
            "visibility": null,
            "align_self": null,
            "height": null,
            "min_height": null,
            "padding": null,
            "grid_auto_rows": null,
            "grid_gap": null,
            "max_width": null,
            "order": null,
            "_view_module_version": "1.2.0",
            "grid_template_areas": null,
            "object_position": null,
            "object_fit": null,
            "grid_auto_columns": null,
            "margin": null,
            "display": null,
            "left": null
          }
        },
        "7ea924e52b084b4797f005b358dca585": {
          "model_module": "@jupyter-widgets/controls",
          "model_name": "FloatProgressModel",
          "state": {
            "_view_name": "ProgressView",
            "style": "IPY_MODEL_32a29c78eb2f4bd3bbf6924153105d57",
            "_dom_classes": [],
            "description": "Downloading: 100%",
            "_model_name": "FloatProgressModel",
            "bar_style": "success",
            "max": 435797,
            "_view_module": "@jupyter-widgets/controls",
            "_model_module_version": "1.5.0",
            "value": 435797,
            "_view_count": null,
            "_view_module_version": "1.5.0",
            "orientation": "horizontal",
            "min": 0,
            "description_tooltip": null,
            "_model_module": "@jupyter-widgets/controls",
            "layout": "IPY_MODEL_f4dddfa9f92b4eb0b1467bfe92f5e8ca"
          }
        },
        "1145e886d06b4fe592e0cd4aae988571": {
          "model_module": "@jupyter-widgets/controls",
          "model_name": "HTMLModel",
          "state": {
            "_view_name": "HTMLView",
            "style": "IPY_MODEL_62a7d904222741739b04ffdda85c62d6",
            "_dom_classes": [],
            "description": "",
            "_model_name": "HTMLModel",
            "placeholder": "​",
            "_view_module": "@jupyter-widgets/controls",
            "_model_module_version": "1.5.0",
            "value": " 436k/436k [00:00&lt;00:00, 4.47MB/s]",
            "_view_count": null,
            "_view_module_version": "1.5.0",
            "description_tooltip": null,
            "_model_module": "@jupyter-widgets/controls",
            "layout": "IPY_MODEL_39bc3d19af6942bd87753d05380ad2ea"
          }
        },
        "32a29c78eb2f4bd3bbf6924153105d57": {
          "model_module": "@jupyter-widgets/controls",
          "model_name": "ProgressStyleModel",
          "state": {
            "_view_name": "StyleView",
            "_model_name": "ProgressStyleModel",
            "description_width": "initial",
            "_view_module": "@jupyter-widgets/base",
            "_model_module_version": "1.5.0",
            "_view_count": null,
            "_view_module_version": "1.2.0",
            "bar_color": null,
            "_model_module": "@jupyter-widgets/controls"
          }
        },
        "f4dddfa9f92b4eb0b1467bfe92f5e8ca": {
          "model_module": "@jupyter-widgets/base",
          "model_name": "LayoutModel",
          "state": {
            "_view_name": "LayoutView",
            "grid_template_rows": null,
            "right": null,
            "justify_content": null,
            "_view_module": "@jupyter-widgets/base",
            "overflow": null,
            "_model_module_version": "1.2.0",
            "_view_count": null,
            "flex_flow": null,
            "width": null,
            "min_width": null,
            "border": null,
            "align_items": null,
            "bottom": null,
            "_model_module": "@jupyter-widgets/base",
            "top": null,
            "grid_column": null,
            "overflow_y": null,
            "overflow_x": null,
            "grid_auto_flow": null,
            "grid_area": null,
            "grid_template_columns": null,
            "flex": null,
            "_model_name": "LayoutModel",
            "justify_items": null,
            "grid_row": null,
            "max_height": null,
            "align_content": null,
            "visibility": null,
            "align_self": null,
            "height": null,
            "min_height": null,
            "padding": null,
            "grid_auto_rows": null,
            "grid_gap": null,
            "max_width": null,
            "order": null,
            "_view_module_version": "1.2.0",
            "grid_template_areas": null,
            "object_position": null,
            "object_fit": null,
            "grid_auto_columns": null,
            "margin": null,
            "display": null,
            "left": null
          }
        },
        "62a7d904222741739b04ffdda85c62d6": {
          "model_module": "@jupyter-widgets/controls",
          "model_name": "DescriptionStyleModel",
          "state": {
            "_view_name": "StyleView",
            "_model_name": "DescriptionStyleModel",
            "description_width": "",
            "_view_module": "@jupyter-widgets/base",
            "_model_module_version": "1.5.0",
            "_view_count": null,
            "_view_module_version": "1.2.0",
            "_model_module": "@jupyter-widgets/controls"
          }
        },
        "39bc3d19af6942bd87753d05380ad2ea": {
          "model_module": "@jupyter-widgets/base",
          "model_name": "LayoutModel",
          "state": {
            "_view_name": "LayoutView",
            "grid_template_rows": null,
            "right": null,
            "justify_content": null,
            "_view_module": "@jupyter-widgets/base",
            "overflow": null,
            "_model_module_version": "1.2.0",
            "_view_count": null,
            "flex_flow": null,
            "width": null,
            "min_width": null,
            "border": null,
            "align_items": null,
            "bottom": null,
            "_model_module": "@jupyter-widgets/base",
            "top": null,
            "grid_column": null,
            "overflow_y": null,
            "overflow_x": null,
            "grid_auto_flow": null,
            "grid_area": null,
            "grid_template_columns": null,
            "flex": null,
            "_model_name": "LayoutModel",
            "justify_items": null,
            "grid_row": null,
            "max_height": null,
            "align_content": null,
            "visibility": null,
            "align_self": null,
            "height": null,
            "min_height": null,
            "padding": null,
            "grid_auto_rows": null,
            "grid_gap": null,
            "max_width": null,
            "order": null,
            "_view_module_version": "1.2.0",
            "grid_template_areas": null,
            "object_position": null,
            "object_fit": null,
            "grid_auto_columns": null,
            "margin": null,
            "display": null,
            "left": null
          }
        },
        "78e4a24c523b4b53beca400e0948a199": {
          "model_module": "@jupyter-widgets/controls",
          "model_name": "HBoxModel",
          "state": {
            "_view_name": "HBoxView",
            "_dom_classes": [],
            "_model_name": "HBoxModel",
            "_view_module": "@jupyter-widgets/controls",
            "_model_module_version": "1.5.0",
            "_view_count": null,
            "_view_module_version": "1.5.0",
            "box_style": "",
            "layout": "IPY_MODEL_a53ba4e1bd054537a489d93f4c70c760",
            "_model_module": "@jupyter-widgets/controls",
            "children": [
              "IPY_MODEL_93eff2e5549342cf8654633f38a02288",
              "IPY_MODEL_bc6237ce8df741cf8e736d0bd6f6cdf2"
            ]
          }
        },
        "a53ba4e1bd054537a489d93f4c70c760": {
          "model_module": "@jupyter-widgets/base",
          "model_name": "LayoutModel",
          "state": {
            "_view_name": "LayoutView",
            "grid_template_rows": null,
            "right": null,
            "justify_content": null,
            "_view_module": "@jupyter-widgets/base",
            "overflow": null,
            "_model_module_version": "1.2.0",
            "_view_count": null,
            "flex_flow": null,
            "width": null,
            "min_width": null,
            "border": null,
            "align_items": null,
            "bottom": null,
            "_model_module": "@jupyter-widgets/base",
            "top": null,
            "grid_column": null,
            "overflow_y": null,
            "overflow_x": null,
            "grid_auto_flow": null,
            "grid_area": null,
            "grid_template_columns": null,
            "flex": null,
            "_model_name": "LayoutModel",
            "justify_items": null,
            "grid_row": null,
            "max_height": null,
            "align_content": null,
            "visibility": null,
            "align_self": null,
            "height": null,
            "min_height": null,
            "padding": null,
            "grid_auto_rows": null,
            "grid_gap": null,
            "max_width": null,
            "order": null,
            "_view_module_version": "1.2.0",
            "grid_template_areas": null,
            "object_position": null,
            "object_fit": null,
            "grid_auto_columns": null,
            "margin": null,
            "display": null,
            "left": null
          }
        },
        "93eff2e5549342cf8654633f38a02288": {
          "model_module": "@jupyter-widgets/controls",
          "model_name": "FloatProgressModel",
          "state": {
            "_view_name": "ProgressView",
            "style": "IPY_MODEL_ce1a9e2109a74b5da9919fbe3ea921b8",
            "_dom_classes": [],
            "description": "Downloading: 100%",
            "_model_name": "FloatProgressModel",
            "bar_style": "success",
            "max": 411,
            "_view_module": "@jupyter-widgets/controls",
            "_model_module_version": "1.5.0",
            "value": 411,
            "_view_count": null,
            "_view_module_version": "1.5.0",
            "orientation": "horizontal",
            "min": 0,
            "description_tooltip": null,
            "_model_module": "@jupyter-widgets/controls",
            "layout": "IPY_MODEL_11d60edc0d4d44308bb431f1eced2f42"
          }
        },
        "bc6237ce8df741cf8e736d0bd6f6cdf2": {
          "model_module": "@jupyter-widgets/controls",
          "model_name": "HTMLModel",
          "state": {
            "_view_name": "HTMLView",
            "style": "IPY_MODEL_2d193ce92d004a76a398dbd31a53f215",
            "_dom_classes": [],
            "description": "",
            "_model_name": "HTMLModel",
            "placeholder": "​",
            "_view_module": "@jupyter-widgets/controls",
            "_model_module_version": "1.5.0",
            "value": " 411/411 [00:06&lt;00:00, 68.1B/s]",
            "_view_count": null,
            "_view_module_version": "1.5.0",
            "description_tooltip": null,
            "_model_module": "@jupyter-widgets/controls",
            "layout": "IPY_MODEL_6abc60bf1a574b8581a6d85336a4f266"
          }
        },
        "ce1a9e2109a74b5da9919fbe3ea921b8": {
          "model_module": "@jupyter-widgets/controls",
          "model_name": "ProgressStyleModel",
          "state": {
            "_view_name": "StyleView",
            "_model_name": "ProgressStyleModel",
            "description_width": "initial",
            "_view_module": "@jupyter-widgets/base",
            "_model_module_version": "1.5.0",
            "_view_count": null,
            "_view_module_version": "1.2.0",
            "bar_color": null,
            "_model_module": "@jupyter-widgets/controls"
          }
        },
        "11d60edc0d4d44308bb431f1eced2f42": {
          "model_module": "@jupyter-widgets/base",
          "model_name": "LayoutModel",
          "state": {
            "_view_name": "LayoutView",
            "grid_template_rows": null,
            "right": null,
            "justify_content": null,
            "_view_module": "@jupyter-widgets/base",
            "overflow": null,
            "_model_module_version": "1.2.0",
            "_view_count": null,
            "flex_flow": null,
            "width": null,
            "min_width": null,
            "border": null,
            "align_items": null,
            "bottom": null,
            "_model_module": "@jupyter-widgets/base",
            "top": null,
            "grid_column": null,
            "overflow_y": null,
            "overflow_x": null,
            "grid_auto_flow": null,
            "grid_area": null,
            "grid_template_columns": null,
            "flex": null,
            "_model_name": "LayoutModel",
            "justify_items": null,
            "grid_row": null,
            "max_height": null,
            "align_content": null,
            "visibility": null,
            "align_self": null,
            "height": null,
            "min_height": null,
            "padding": null,
            "grid_auto_rows": null,
            "grid_gap": null,
            "max_width": null,
            "order": null,
            "_view_module_version": "1.2.0",
            "grid_template_areas": null,
            "object_position": null,
            "object_fit": null,
            "grid_auto_columns": null,
            "margin": null,
            "display": null,
            "left": null
          }
        },
        "2d193ce92d004a76a398dbd31a53f215": {
          "model_module": "@jupyter-widgets/controls",
          "model_name": "DescriptionStyleModel",
          "state": {
            "_view_name": "StyleView",
            "_model_name": "DescriptionStyleModel",
            "description_width": "",
            "_view_module": "@jupyter-widgets/base",
            "_model_module_version": "1.5.0",
            "_view_count": null,
            "_view_module_version": "1.2.0",
            "_model_module": "@jupyter-widgets/controls"
          }
        },
        "6abc60bf1a574b8581a6d85336a4f266": {
          "model_module": "@jupyter-widgets/base",
          "model_name": "LayoutModel",
          "state": {
            "_view_name": "LayoutView",
            "grid_template_rows": null,
            "right": null,
            "justify_content": null,
            "_view_module": "@jupyter-widgets/base",
            "overflow": null,
            "_model_module_version": "1.2.0",
            "_view_count": null,
            "flex_flow": null,
            "width": null,
            "min_width": null,
            "border": null,
            "align_items": null,
            "bottom": null,
            "_model_module": "@jupyter-widgets/base",
            "top": null,
            "grid_column": null,
            "overflow_y": null,
            "overflow_x": null,
            "grid_auto_flow": null,
            "grid_area": null,
            "grid_template_columns": null,
            "flex": null,
            "_model_name": "LayoutModel",
            "justify_items": null,
            "grid_row": null,
            "max_height": null,
            "align_content": null,
            "visibility": null,
            "align_self": null,
            "height": null,
            "min_height": null,
            "padding": null,
            "grid_auto_rows": null,
            "grid_gap": null,
            "max_width": null,
            "order": null,
            "_view_module_version": "1.2.0",
            "grid_template_areas": null,
            "object_position": null,
            "object_fit": null,
            "grid_auto_columns": null,
            "margin": null,
            "display": null,
            "left": null
          }
        },
        "55106d978f614c2884b1b5d9e3ae6cbd": {
          "model_module": "@jupyter-widgets/controls",
          "model_name": "HBoxModel",
          "state": {
            "_view_name": "HBoxView",
            "_dom_classes": [],
            "_model_name": "HBoxModel",
            "_view_module": "@jupyter-widgets/controls",
            "_model_module_version": "1.5.0",
            "_view_count": null,
            "_view_module_version": "1.5.0",
            "box_style": "",
            "layout": "IPY_MODEL_0662be411734498ea4caa6ae28c0a032",
            "_model_module": "@jupyter-widgets/controls",
            "children": [
              "IPY_MODEL_7fb7a6e6fb0d42d98bf5e8638818dab8",
              "IPY_MODEL_26ce5097726b49d3a2c74e8c3ceabd96"
            ]
          }
        },
        "0662be411734498ea4caa6ae28c0a032": {
          "model_module": "@jupyter-widgets/base",
          "model_name": "LayoutModel",
          "state": {
            "_view_name": "LayoutView",
            "grid_template_rows": null,
            "right": null,
            "justify_content": null,
            "_view_module": "@jupyter-widgets/base",
            "overflow": null,
            "_model_module_version": "1.2.0",
            "_view_count": null,
            "flex_flow": null,
            "width": null,
            "min_width": null,
            "border": null,
            "align_items": null,
            "bottom": null,
            "_model_module": "@jupyter-widgets/base",
            "top": null,
            "grid_column": null,
            "overflow_y": null,
            "overflow_x": null,
            "grid_auto_flow": null,
            "grid_area": null,
            "grid_template_columns": null,
            "flex": null,
            "_model_name": "LayoutModel",
            "justify_items": null,
            "grid_row": null,
            "max_height": null,
            "align_content": null,
            "visibility": null,
            "align_self": null,
            "height": null,
            "min_height": null,
            "padding": null,
            "grid_auto_rows": null,
            "grid_gap": null,
            "max_width": null,
            "order": null,
            "_view_module_version": "1.2.0",
            "grid_template_areas": null,
            "object_position": null,
            "object_fit": null,
            "grid_auto_columns": null,
            "margin": null,
            "display": null,
            "left": null
          }
        },
        "7fb7a6e6fb0d42d98bf5e8638818dab8": {
          "model_module": "@jupyter-widgets/controls",
          "model_name": "FloatProgressModel",
          "state": {
            "_view_name": "ProgressView",
            "style": "IPY_MODEL_54a91afe0a6e460ca8c1bdc4710da465",
            "_dom_classes": [],
            "description": "Downloading: 100%",
            "_model_name": "FloatProgressModel",
            "bar_style": "success",
            "max": 263273408,
            "_view_module": "@jupyter-widgets/controls",
            "_model_module_version": "1.5.0",
            "value": 263273408,
            "_view_count": null,
            "_view_module_version": "1.5.0",
            "orientation": "horizontal",
            "min": 0,
            "description_tooltip": null,
            "_model_module": "@jupyter-widgets/controls",
            "layout": "IPY_MODEL_d06e22f1895643aa84f8d6afabcb248f"
          }
        },
        "26ce5097726b49d3a2c74e8c3ceabd96": {
          "model_module": "@jupyter-widgets/controls",
          "model_name": "HTMLModel",
          "state": {
            "_view_name": "HTMLView",
            "style": "IPY_MODEL_2215ebeebd8d4ed0a33edc6888b5899b",
            "_dom_classes": [],
            "description": "",
            "_model_name": "HTMLModel",
            "placeholder": "​",
            "_view_module": "@jupyter-widgets/controls",
            "_model_module_version": "1.5.0",
            "value": " 263M/263M [00:05&lt;00:00, 45.1MB/s]",
            "_view_count": null,
            "_view_module_version": "1.5.0",
            "description_tooltip": null,
            "_model_module": "@jupyter-widgets/controls",
            "layout": "IPY_MODEL_0b972f1a6b274981928f3fd08d3063bc"
          }
        },
        "54a91afe0a6e460ca8c1bdc4710da465": {
          "model_module": "@jupyter-widgets/controls",
          "model_name": "ProgressStyleModel",
          "state": {
            "_view_name": "StyleView",
            "_model_name": "ProgressStyleModel",
            "description_width": "initial",
            "_view_module": "@jupyter-widgets/base",
            "_model_module_version": "1.5.0",
            "_view_count": null,
            "_view_module_version": "1.2.0",
            "bar_color": null,
            "_model_module": "@jupyter-widgets/controls"
          }
        },
        "d06e22f1895643aa84f8d6afabcb248f": {
          "model_module": "@jupyter-widgets/base",
          "model_name": "LayoutModel",
          "state": {
            "_view_name": "LayoutView",
            "grid_template_rows": null,
            "right": null,
            "justify_content": null,
            "_view_module": "@jupyter-widgets/base",
            "overflow": null,
            "_model_module_version": "1.2.0",
            "_view_count": null,
            "flex_flow": null,
            "width": null,
            "min_width": null,
            "border": null,
            "align_items": null,
            "bottom": null,
            "_model_module": "@jupyter-widgets/base",
            "top": null,
            "grid_column": null,
            "overflow_y": null,
            "overflow_x": null,
            "grid_auto_flow": null,
            "grid_area": null,
            "grid_template_columns": null,
            "flex": null,
            "_model_name": "LayoutModel",
            "justify_items": null,
            "grid_row": null,
            "max_height": null,
            "align_content": null,
            "visibility": null,
            "align_self": null,
            "height": null,
            "min_height": null,
            "padding": null,
            "grid_auto_rows": null,
            "grid_gap": null,
            "max_width": null,
            "order": null,
            "_view_module_version": "1.2.0",
            "grid_template_areas": null,
            "object_position": null,
            "object_fit": null,
            "grid_auto_columns": null,
            "margin": null,
            "display": null,
            "left": null
          }
        },
        "2215ebeebd8d4ed0a33edc6888b5899b": {
          "model_module": "@jupyter-widgets/controls",
          "model_name": "DescriptionStyleModel",
          "state": {
            "_view_name": "StyleView",
            "_model_name": "DescriptionStyleModel",
            "description_width": "",
            "_view_module": "@jupyter-widgets/base",
            "_model_module_version": "1.5.0",
            "_view_count": null,
            "_view_module_version": "1.2.0",
            "_model_module": "@jupyter-widgets/controls"
          }
        },
        "0b972f1a6b274981928f3fd08d3063bc": {
          "model_module": "@jupyter-widgets/base",
          "model_name": "LayoutModel",
          "state": {
            "_view_name": "LayoutView",
            "grid_template_rows": null,
            "right": null,
            "justify_content": null,
            "_view_module": "@jupyter-widgets/base",
            "overflow": null,
            "_model_module_version": "1.2.0",
            "_view_count": null,
            "flex_flow": null,
            "width": null,
            "min_width": null,
            "border": null,
            "align_items": null,
            "bottom": null,
            "_model_module": "@jupyter-widgets/base",
            "top": null,
            "grid_column": null,
            "overflow_y": null,
            "overflow_x": null,
            "grid_auto_flow": null,
            "grid_area": null,
            "grid_template_columns": null,
            "flex": null,
            "_model_name": "LayoutModel",
            "justify_items": null,
            "grid_row": null,
            "max_height": null,
            "align_content": null,
            "visibility": null,
            "align_self": null,
            "height": null,
            "min_height": null,
            "padding": null,
            "grid_auto_rows": null,
            "grid_gap": null,
            "max_width": null,
            "order": null,
            "_view_module_version": "1.2.0",
            "grid_template_areas": null,
            "object_position": null,
            "object_fit": null,
            "grid_auto_columns": null,
            "margin": null,
            "display": null,
            "left": null
          }
        },
        "1fac1baaefd647a9b7562f06923712c1": {
          "model_module": "@jupyter-widgets/controls",
          "model_name": "HBoxModel",
          "state": {
            "_view_name": "HBoxView",
            "_dom_classes": [],
            "_model_name": "HBoxModel",
            "_view_module": "@jupyter-widgets/controls",
            "_model_module_version": "1.5.0",
            "_view_count": null,
            "_view_module_version": "1.5.0",
            "box_style": "",
            "layout": "IPY_MODEL_7909178dde9347d18693e8fc65d3990a",
            "_model_module": "@jupyter-widgets/controls",
            "children": [
              "IPY_MODEL_564946c974f34283a3b84c1179861fab",
              "IPY_MODEL_80ade76ef38d48aa8fb71480d2ad569c"
            ]
          }
        },
        "7909178dde9347d18693e8fc65d3990a": {
          "model_module": "@jupyter-widgets/base",
          "model_name": "LayoutModel",
          "state": {
            "_view_name": "LayoutView",
            "grid_template_rows": null,
            "right": null,
            "justify_content": null,
            "_view_module": "@jupyter-widgets/base",
            "overflow": null,
            "_model_module_version": "1.2.0",
            "_view_count": null,
            "flex_flow": null,
            "width": null,
            "min_width": null,
            "border": null,
            "align_items": null,
            "bottom": null,
            "_model_module": "@jupyter-widgets/base",
            "top": null,
            "grid_column": null,
            "overflow_y": null,
            "overflow_x": null,
            "grid_auto_flow": null,
            "grid_area": null,
            "grid_template_columns": null,
            "flex": null,
            "_model_name": "LayoutModel",
            "justify_items": null,
            "grid_row": null,
            "max_height": null,
            "align_content": null,
            "visibility": null,
            "align_self": null,
            "height": null,
            "min_height": null,
            "padding": null,
            "grid_auto_rows": null,
            "grid_gap": null,
            "max_width": null,
            "order": null,
            "_view_module_version": "1.2.0",
            "grid_template_areas": null,
            "object_position": null,
            "object_fit": null,
            "grid_auto_columns": null,
            "margin": null,
            "display": null,
            "left": null
          }
        },
        "564946c974f34283a3b84c1179861fab": {
          "model_module": "@jupyter-widgets/controls",
          "model_name": "FloatProgressModel",
          "state": {
            "_view_name": "ProgressView",
            "style": "IPY_MODEL_b26beb7832a342e39040366103829eef",
            "_dom_classes": [],
            "description": "Downloading: 100%",
            "_model_name": "FloatProgressModel",
            "bar_style": "success",
            "max": 898823,
            "_view_module": "@jupyter-widgets/controls",
            "_model_module_version": "1.5.0",
            "value": 898823,
            "_view_count": null,
            "_view_module_version": "1.5.0",
            "orientation": "horizontal",
            "min": 0,
            "description_tooltip": null,
            "_model_module": "@jupyter-widgets/controls",
            "layout": "IPY_MODEL_59dfe2536a4a46e4a04e666e45e0460b"
          }
        },
        "80ade76ef38d48aa8fb71480d2ad569c": {
          "model_module": "@jupyter-widgets/controls",
          "model_name": "HTMLModel",
          "state": {
            "_view_name": "HTMLView",
            "style": "IPY_MODEL_6d4f4377f6eb44adaa9db37d8cabecc1",
            "_dom_classes": [],
            "description": "",
            "_model_name": "HTMLModel",
            "placeholder": "​",
            "_view_module": "@jupyter-widgets/controls",
            "_model_module_version": "1.5.0",
            "value": " 899k/899k [00:00&lt;00:00, 2.73MB/s]",
            "_view_count": null,
            "_view_module_version": "1.5.0",
            "description_tooltip": null,
            "_model_module": "@jupyter-widgets/controls",
            "layout": "IPY_MODEL_8abf5c20a8ac472fa6203f204638284a"
          }
        },
        "b26beb7832a342e39040366103829eef": {
          "model_module": "@jupyter-widgets/controls",
          "model_name": "ProgressStyleModel",
          "state": {
            "_view_name": "StyleView",
            "_model_name": "ProgressStyleModel",
            "description_width": "initial",
            "_view_module": "@jupyter-widgets/base",
            "_model_module_version": "1.5.0",
            "_view_count": null,
            "_view_module_version": "1.2.0",
            "bar_color": null,
            "_model_module": "@jupyter-widgets/controls"
          }
        },
        "59dfe2536a4a46e4a04e666e45e0460b": {
          "model_module": "@jupyter-widgets/base",
          "model_name": "LayoutModel",
          "state": {
            "_view_name": "LayoutView",
            "grid_template_rows": null,
            "right": null,
            "justify_content": null,
            "_view_module": "@jupyter-widgets/base",
            "overflow": null,
            "_model_module_version": "1.2.0",
            "_view_count": null,
            "flex_flow": null,
            "width": null,
            "min_width": null,
            "border": null,
            "align_items": null,
            "bottom": null,
            "_model_module": "@jupyter-widgets/base",
            "top": null,
            "grid_column": null,
            "overflow_y": null,
            "overflow_x": null,
            "grid_auto_flow": null,
            "grid_area": null,
            "grid_template_columns": null,
            "flex": null,
            "_model_name": "LayoutModel",
            "justify_items": null,
            "grid_row": null,
            "max_height": null,
            "align_content": null,
            "visibility": null,
            "align_self": null,
            "height": null,
            "min_height": null,
            "padding": null,
            "grid_auto_rows": null,
            "grid_gap": null,
            "max_width": null,
            "order": null,
            "_view_module_version": "1.2.0",
            "grid_template_areas": null,
            "object_position": null,
            "object_fit": null,
            "grid_auto_columns": null,
            "margin": null,
            "display": null,
            "left": null
          }
        },
        "6d4f4377f6eb44adaa9db37d8cabecc1": {
          "model_module": "@jupyter-widgets/controls",
          "model_name": "DescriptionStyleModel",
          "state": {
            "_view_name": "StyleView",
            "_model_name": "DescriptionStyleModel",
            "description_width": "",
            "_view_module": "@jupyter-widgets/base",
            "_model_module_version": "1.5.0",
            "_view_count": null,
            "_view_module_version": "1.2.0",
            "_model_module": "@jupyter-widgets/controls"
          }
        },
        "8abf5c20a8ac472fa6203f204638284a": {
          "model_module": "@jupyter-widgets/base",
          "model_name": "LayoutModel",
          "state": {
            "_view_name": "LayoutView",
            "grid_template_rows": null,
            "right": null,
            "justify_content": null,
            "_view_module": "@jupyter-widgets/base",
            "overflow": null,
            "_model_module_version": "1.2.0",
            "_view_count": null,
            "flex_flow": null,
            "width": null,
            "min_width": null,
            "border": null,
            "align_items": null,
            "bottom": null,
            "_model_module": "@jupyter-widgets/base",
            "top": null,
            "grid_column": null,
            "overflow_y": null,
            "overflow_x": null,
            "grid_auto_flow": null,
            "grid_area": null,
            "grid_template_columns": null,
            "flex": null,
            "_model_name": "LayoutModel",
            "justify_items": null,
            "grid_row": null,
            "max_height": null,
            "align_content": null,
            "visibility": null,
            "align_self": null,
            "height": null,
            "min_height": null,
            "padding": null,
            "grid_auto_rows": null,
            "grid_gap": null,
            "max_width": null,
            "order": null,
            "_view_module_version": "1.2.0",
            "grid_template_areas": null,
            "object_position": null,
            "object_fit": null,
            "grid_auto_columns": null,
            "margin": null,
            "display": null,
            "left": null
          }
        },
        "2ef9fbf76a7044c3a9a3f8f4f1da5fbd": {
          "model_module": "@jupyter-widgets/controls",
          "model_name": "HBoxModel",
          "state": {
            "_view_name": "HBoxView",
            "_dom_classes": [],
            "_model_name": "HBoxModel",
            "_view_module": "@jupyter-widgets/controls",
            "_model_module_version": "1.5.0",
            "_view_count": null,
            "_view_module_version": "1.5.0",
            "box_style": "",
            "layout": "IPY_MODEL_a59f0976feb14980ae298b77d8a720db",
            "_model_module": "@jupyter-widgets/controls",
            "children": [
              "IPY_MODEL_ee03b35354104a6f8526933c53e54bed",
              "IPY_MODEL_19cd42395f6d41b29d3ad7157a54947d"
            ]
          }
        },
        "a59f0976feb14980ae298b77d8a720db": {
          "model_module": "@jupyter-widgets/base",
          "model_name": "LayoutModel",
          "state": {
            "_view_name": "LayoutView",
            "grid_template_rows": null,
            "right": null,
            "justify_content": null,
            "_view_module": "@jupyter-widgets/base",
            "overflow": null,
            "_model_module_version": "1.2.0",
            "_view_count": null,
            "flex_flow": null,
            "width": null,
            "min_width": null,
            "border": null,
            "align_items": null,
            "bottom": null,
            "_model_module": "@jupyter-widgets/base",
            "top": null,
            "grid_column": null,
            "overflow_y": null,
            "overflow_x": null,
            "grid_auto_flow": null,
            "grid_area": null,
            "grid_template_columns": null,
            "flex": null,
            "_model_name": "LayoutModel",
            "justify_items": null,
            "grid_row": null,
            "max_height": null,
            "align_content": null,
            "visibility": null,
            "align_self": null,
            "height": null,
            "min_height": null,
            "padding": null,
            "grid_auto_rows": null,
            "grid_gap": null,
            "max_width": null,
            "order": null,
            "_view_module_version": "1.2.0",
            "grid_template_areas": null,
            "object_position": null,
            "object_fit": null,
            "grid_auto_columns": null,
            "margin": null,
            "display": null,
            "left": null
          }
        },
        "ee03b35354104a6f8526933c53e54bed": {
          "model_module": "@jupyter-widgets/controls",
          "model_name": "FloatProgressModel",
          "state": {
            "_view_name": "ProgressView",
            "style": "IPY_MODEL_b33fba39ffed43f2ae959a44ee862f7b",
            "_dom_classes": [],
            "description": "Downloading: 100%",
            "_model_name": "FloatProgressModel",
            "bar_style": "success",
            "max": 456318,
            "_view_module": "@jupyter-widgets/controls",
            "_model_module_version": "1.5.0",
            "value": 456318,
            "_view_count": null,
            "_view_module_version": "1.5.0",
            "orientation": "horizontal",
            "min": 0,
            "description_tooltip": null,
            "_model_module": "@jupyter-widgets/controls",
            "layout": "IPY_MODEL_21cdeefbcb2e430988c06cb24b58d9b0"
          }
        },
        "19cd42395f6d41b29d3ad7157a54947d": {
          "model_module": "@jupyter-widgets/controls",
          "model_name": "HTMLModel",
          "state": {
            "_view_name": "HTMLView",
            "style": "IPY_MODEL_4685b94694fc46fa92a897c1cc2980a4",
            "_dom_classes": [],
            "description": "",
            "_model_name": "HTMLModel",
            "placeholder": "​",
            "_view_module": "@jupyter-widgets/controls",
            "_model_module_version": "1.5.0",
            "value": " 456k/456k [00:00&lt;00:00, 2.50MB/s]",
            "_view_count": null,
            "_view_module_version": "1.5.0",
            "description_tooltip": null,
            "_model_module": "@jupyter-widgets/controls",
            "layout": "IPY_MODEL_0d78be6447f04a0dabfdd6c27c4a887b"
          }
        },
        "b33fba39ffed43f2ae959a44ee862f7b": {
          "model_module": "@jupyter-widgets/controls",
          "model_name": "ProgressStyleModel",
          "state": {
            "_view_name": "StyleView",
            "_model_name": "ProgressStyleModel",
            "description_width": "initial",
            "_view_module": "@jupyter-widgets/base",
            "_model_module_version": "1.5.0",
            "_view_count": null,
            "_view_module_version": "1.2.0",
            "bar_color": null,
            "_model_module": "@jupyter-widgets/controls"
          }
        },
        "21cdeefbcb2e430988c06cb24b58d9b0": {
          "model_module": "@jupyter-widgets/base",
          "model_name": "LayoutModel",
          "state": {
            "_view_name": "LayoutView",
            "grid_template_rows": null,
            "right": null,
            "justify_content": null,
            "_view_module": "@jupyter-widgets/base",
            "overflow": null,
            "_model_module_version": "1.2.0",
            "_view_count": null,
            "flex_flow": null,
            "width": null,
            "min_width": null,
            "border": null,
            "align_items": null,
            "bottom": null,
            "_model_module": "@jupyter-widgets/base",
            "top": null,
            "grid_column": null,
            "overflow_y": null,
            "overflow_x": null,
            "grid_auto_flow": null,
            "grid_area": null,
            "grid_template_columns": null,
            "flex": null,
            "_model_name": "LayoutModel",
            "justify_items": null,
            "grid_row": null,
            "max_height": null,
            "align_content": null,
            "visibility": null,
            "align_self": null,
            "height": null,
            "min_height": null,
            "padding": null,
            "grid_auto_rows": null,
            "grid_gap": null,
            "max_width": null,
            "order": null,
            "_view_module_version": "1.2.0",
            "grid_template_areas": null,
            "object_position": null,
            "object_fit": null,
            "grid_auto_columns": null,
            "margin": null,
            "display": null,
            "left": null
          }
        },
        "4685b94694fc46fa92a897c1cc2980a4": {
          "model_module": "@jupyter-widgets/controls",
          "model_name": "DescriptionStyleModel",
          "state": {
            "_view_name": "StyleView",
            "_model_name": "DescriptionStyleModel",
            "description_width": "",
            "_view_module": "@jupyter-widgets/base",
            "_model_module_version": "1.5.0",
            "_view_count": null,
            "_view_module_version": "1.2.0",
            "_model_module": "@jupyter-widgets/controls"
          }
        },
        "0d78be6447f04a0dabfdd6c27c4a887b": {
          "model_module": "@jupyter-widgets/base",
          "model_name": "LayoutModel",
          "state": {
            "_view_name": "LayoutView",
            "grid_template_rows": null,
            "right": null,
            "justify_content": null,
            "_view_module": "@jupyter-widgets/base",
            "overflow": null,
            "_model_module_version": "1.2.0",
            "_view_count": null,
            "flex_flow": null,
            "width": null,
            "min_width": null,
            "border": null,
            "align_items": null,
            "bottom": null,
            "_model_module": "@jupyter-widgets/base",
            "top": null,
            "grid_column": null,
            "overflow_y": null,
            "overflow_x": null,
            "grid_auto_flow": null,
            "grid_area": null,
            "grid_template_columns": null,
            "flex": null,
            "_model_name": "LayoutModel",
            "justify_items": null,
            "grid_row": null,
            "max_height": null,
            "align_content": null,
            "visibility": null,
            "align_self": null,
            "height": null,
            "min_height": null,
            "padding": null,
            "grid_auto_rows": null,
            "grid_gap": null,
            "max_width": null,
            "order": null,
            "_view_module_version": "1.2.0",
            "grid_template_areas": null,
            "object_position": null,
            "object_fit": null,
            "grid_auto_columns": null,
            "margin": null,
            "display": null,
            "left": null
          }
        },
        "9584f404cc1240b9a9bb785ddd4b31ff": {
          "model_module": "@jupyter-widgets/controls",
          "model_name": "HBoxModel",
          "state": {
            "_view_name": "HBoxView",
            "_dom_classes": [],
            "_model_name": "HBoxModel",
            "_view_module": "@jupyter-widgets/controls",
            "_model_module_version": "1.5.0",
            "_view_count": null,
            "_view_module_version": "1.5.0",
            "box_style": "",
            "layout": "IPY_MODEL_8ef9efe71b5b4858be421aecb820be9c",
            "_model_module": "@jupyter-widgets/controls",
            "children": [
              "IPY_MODEL_0baae93638dd404dbdbf2bd2ad3cda17",
              "IPY_MODEL_86a2b2ef175e40849d1f9fc3517f072f"
            ]
          }
        },
        "8ef9efe71b5b4858be421aecb820be9c": {
          "model_module": "@jupyter-widgets/base",
          "model_name": "LayoutModel",
          "state": {
            "_view_name": "LayoutView",
            "grid_template_rows": null,
            "right": null,
            "justify_content": null,
            "_view_module": "@jupyter-widgets/base",
            "overflow": null,
            "_model_module_version": "1.2.0",
            "_view_count": null,
            "flex_flow": null,
            "width": null,
            "min_width": null,
            "border": null,
            "align_items": null,
            "bottom": null,
            "_model_module": "@jupyter-widgets/base",
            "top": null,
            "grid_column": null,
            "overflow_y": null,
            "overflow_x": null,
            "grid_auto_flow": null,
            "grid_area": null,
            "grid_template_columns": null,
            "flex": null,
            "_model_name": "LayoutModel",
            "justify_items": null,
            "grid_row": null,
            "max_height": null,
            "align_content": null,
            "visibility": null,
            "align_self": null,
            "height": null,
            "min_height": null,
            "padding": null,
            "grid_auto_rows": null,
            "grid_gap": null,
            "max_width": null,
            "order": null,
            "_view_module_version": "1.2.0",
            "grid_template_areas": null,
            "object_position": null,
            "object_fit": null,
            "grid_auto_columns": null,
            "margin": null,
            "display": null,
            "left": null
          }
        },
        "0baae93638dd404dbdbf2bd2ad3cda17": {
          "model_module": "@jupyter-widgets/controls",
          "model_name": "FloatProgressModel",
          "state": {
            "_view_name": "ProgressView",
            "style": "IPY_MODEL_b0947ce6127c46ed87169a6cbf749c7d",
            "_dom_classes": [],
            "description": "Downloading: 100%",
            "_model_name": "FloatProgressModel",
            "bar_style": "success",
            "max": 1355863,
            "_view_module": "@jupyter-widgets/controls",
            "_model_module_version": "1.5.0",
            "value": 1355863,
            "_view_count": null,
            "_view_module_version": "1.5.0",
            "orientation": "horizontal",
            "min": 0,
            "description_tooltip": null,
            "_model_module": "@jupyter-widgets/controls",
            "layout": "IPY_MODEL_0d2d43ee4300446e94336b9b9c2f3b0b"
          }
        },
        "86a2b2ef175e40849d1f9fc3517f072f": {
          "model_module": "@jupyter-widgets/controls",
          "model_name": "HTMLModel",
          "state": {
            "_view_name": "HTMLView",
            "style": "IPY_MODEL_a01505aef06d443ca150f3d4973acaf4",
            "_dom_classes": [],
            "description": "",
            "_model_name": "HTMLModel",
            "placeholder": "​",
            "_view_module": "@jupyter-widgets/controls",
            "_model_module_version": "1.5.0",
            "value": " 1.36M/1.36M [00:00&lt;00:00, 9.39MB/s]",
            "_view_count": null,
            "_view_module_version": "1.5.0",
            "description_tooltip": null,
            "_model_module": "@jupyter-widgets/controls",
            "layout": "IPY_MODEL_703098f6495d47339197e9d14fe11cda"
          }
        },
        "b0947ce6127c46ed87169a6cbf749c7d": {
          "model_module": "@jupyter-widgets/controls",
          "model_name": "ProgressStyleModel",
          "state": {
            "_view_name": "StyleView",
            "_model_name": "ProgressStyleModel",
            "description_width": "initial",
            "_view_module": "@jupyter-widgets/base",
            "_model_module_version": "1.5.0",
            "_view_count": null,
            "_view_module_version": "1.2.0",
            "bar_color": null,
            "_model_module": "@jupyter-widgets/controls"
          }
        },
        "0d2d43ee4300446e94336b9b9c2f3b0b": {
          "model_module": "@jupyter-widgets/base",
          "model_name": "LayoutModel",
          "state": {
            "_view_name": "LayoutView",
            "grid_template_rows": null,
            "right": null,
            "justify_content": null,
            "_view_module": "@jupyter-widgets/base",
            "overflow": null,
            "_model_module_version": "1.2.0",
            "_view_count": null,
            "flex_flow": null,
            "width": null,
            "min_width": null,
            "border": null,
            "align_items": null,
            "bottom": null,
            "_model_module": "@jupyter-widgets/base",
            "top": null,
            "grid_column": null,
            "overflow_y": null,
            "overflow_x": null,
            "grid_auto_flow": null,
            "grid_area": null,
            "grid_template_columns": null,
            "flex": null,
            "_model_name": "LayoutModel",
            "justify_items": null,
            "grid_row": null,
            "max_height": null,
            "align_content": null,
            "visibility": null,
            "align_self": null,
            "height": null,
            "min_height": null,
            "padding": null,
            "grid_auto_rows": null,
            "grid_gap": null,
            "max_width": null,
            "order": null,
            "_view_module_version": "1.2.0",
            "grid_template_areas": null,
            "object_position": null,
            "object_fit": null,
            "grid_auto_columns": null,
            "margin": null,
            "display": null,
            "left": null
          }
        },
        "a01505aef06d443ca150f3d4973acaf4": {
          "model_module": "@jupyter-widgets/controls",
          "model_name": "DescriptionStyleModel",
          "state": {
            "_view_name": "StyleView",
            "_model_name": "DescriptionStyleModel",
            "description_width": "",
            "_view_module": "@jupyter-widgets/base",
            "_model_module_version": "1.5.0",
            "_view_count": null,
            "_view_module_version": "1.2.0",
            "_model_module": "@jupyter-widgets/controls"
          }
        },
        "703098f6495d47339197e9d14fe11cda": {
          "model_module": "@jupyter-widgets/base",
          "model_name": "LayoutModel",
          "state": {
            "_view_name": "LayoutView",
            "grid_template_rows": null,
            "right": null,
            "justify_content": null,
            "_view_module": "@jupyter-widgets/base",
            "overflow": null,
            "_model_module_version": "1.2.0",
            "_view_count": null,
            "flex_flow": null,
            "width": null,
            "min_width": null,
            "border": null,
            "align_items": null,
            "bottom": null,
            "_model_module": "@jupyter-widgets/base",
            "top": null,
            "grid_column": null,
            "overflow_y": null,
            "overflow_x": null,
            "grid_auto_flow": null,
            "grid_area": null,
            "grid_template_columns": null,
            "flex": null,
            "_model_name": "LayoutModel",
            "justify_items": null,
            "grid_row": null,
            "max_height": null,
            "align_content": null,
            "visibility": null,
            "align_self": null,
            "height": null,
            "min_height": null,
            "padding": null,
            "grid_auto_rows": null,
            "grid_gap": null,
            "max_width": null,
            "order": null,
            "_view_module_version": "1.2.0",
            "grid_template_areas": null,
            "object_position": null,
            "object_fit": null,
            "grid_auto_columns": null,
            "margin": null,
            "display": null,
            "left": null
          }
        },
        "924f2e025bae42d2aa7b3e3bb98e159a": {
          "model_module": "@jupyter-widgets/controls",
          "model_name": "HBoxModel",
          "state": {
            "_view_name": "HBoxView",
            "_dom_classes": [],
            "_model_name": "HBoxModel",
            "_view_module": "@jupyter-widgets/controls",
            "_model_module_version": "1.5.0",
            "_view_count": null,
            "_view_module_version": "1.5.0",
            "box_style": "",
            "layout": "IPY_MODEL_ca440c1bd6d5439b95c26db28ee10e71",
            "_model_module": "@jupyter-widgets/controls",
            "children": [
              "IPY_MODEL_3ff351daebc74444b266bc75ea20285d",
              "IPY_MODEL_0e0591daa85c42e0b3b5ca1ad93cf9dd"
            ]
          }
        },
        "ca440c1bd6d5439b95c26db28ee10e71": {
          "model_module": "@jupyter-widgets/base",
          "model_name": "LayoutModel",
          "state": {
            "_view_name": "LayoutView",
            "grid_template_rows": null,
            "right": null,
            "justify_content": null,
            "_view_module": "@jupyter-widgets/base",
            "overflow": null,
            "_model_module_version": "1.2.0",
            "_view_count": null,
            "flex_flow": null,
            "width": null,
            "min_width": null,
            "border": null,
            "align_items": null,
            "bottom": null,
            "_model_module": "@jupyter-widgets/base",
            "top": null,
            "grid_column": null,
            "overflow_y": null,
            "overflow_x": null,
            "grid_auto_flow": null,
            "grid_area": null,
            "grid_template_columns": null,
            "flex": null,
            "_model_name": "LayoutModel",
            "justify_items": null,
            "grid_row": null,
            "max_height": null,
            "align_content": null,
            "visibility": null,
            "align_self": null,
            "height": null,
            "min_height": null,
            "padding": null,
            "grid_auto_rows": null,
            "grid_gap": null,
            "max_width": null,
            "order": null,
            "_view_module_version": "1.2.0",
            "grid_template_areas": null,
            "object_position": null,
            "object_fit": null,
            "grid_auto_columns": null,
            "margin": null,
            "display": null,
            "left": null
          }
        },
        "3ff351daebc74444b266bc75ea20285d": {
          "model_module": "@jupyter-widgets/controls",
          "model_name": "FloatProgressModel",
          "state": {
            "_view_name": "ProgressView",
            "style": "IPY_MODEL_e5cd3de625b54f77a293d27e332224b9",
            "_dom_classes": [],
            "description": "Downloading: 100%",
            "_model_name": "FloatProgressModel",
            "bar_style": "success",
            "max": 481,
            "_view_module": "@jupyter-widgets/controls",
            "_model_module_version": "1.5.0",
            "value": 481,
            "_view_count": null,
            "_view_module_version": "1.5.0",
            "orientation": "horizontal",
            "min": 0,
            "description_tooltip": null,
            "_model_module": "@jupyter-widgets/controls",
            "layout": "IPY_MODEL_0eb44e0f981a45f68880b83c9ae915ef"
          }
        },
        "0e0591daa85c42e0b3b5ca1ad93cf9dd": {
          "model_module": "@jupyter-widgets/controls",
          "model_name": "HTMLModel",
          "state": {
            "_view_name": "HTMLView",
            "style": "IPY_MODEL_408cedf2a00249abba40a93efc17917b",
            "_dom_classes": [],
            "description": "",
            "_model_name": "HTMLModel",
            "placeholder": "​",
            "_view_module": "@jupyter-widgets/controls",
            "_model_module_version": "1.5.0",
            "value": " 481/481 [00:01&lt;00:00, 249B/s]",
            "_view_count": null,
            "_view_module_version": "1.5.0",
            "description_tooltip": null,
            "_model_module": "@jupyter-widgets/controls",
            "layout": "IPY_MODEL_c7a42f878fd04df7a58da0dcf6d8dbc7"
          }
        },
        "e5cd3de625b54f77a293d27e332224b9": {
          "model_module": "@jupyter-widgets/controls",
          "model_name": "ProgressStyleModel",
          "state": {
            "_view_name": "StyleView",
            "_model_name": "ProgressStyleModel",
            "description_width": "initial",
            "_view_module": "@jupyter-widgets/base",
            "_model_module_version": "1.5.0",
            "_view_count": null,
            "_view_module_version": "1.2.0",
            "bar_color": null,
            "_model_module": "@jupyter-widgets/controls"
          }
        },
        "0eb44e0f981a45f68880b83c9ae915ef": {
          "model_module": "@jupyter-widgets/base",
          "model_name": "LayoutModel",
          "state": {
            "_view_name": "LayoutView",
            "grid_template_rows": null,
            "right": null,
            "justify_content": null,
            "_view_module": "@jupyter-widgets/base",
            "overflow": null,
            "_model_module_version": "1.2.0",
            "_view_count": null,
            "flex_flow": null,
            "width": null,
            "min_width": null,
            "border": null,
            "align_items": null,
            "bottom": null,
            "_model_module": "@jupyter-widgets/base",
            "top": null,
            "grid_column": null,
            "overflow_y": null,
            "overflow_x": null,
            "grid_auto_flow": null,
            "grid_area": null,
            "grid_template_columns": null,
            "flex": null,
            "_model_name": "LayoutModel",
            "justify_items": null,
            "grid_row": null,
            "max_height": null,
            "align_content": null,
            "visibility": null,
            "align_self": null,
            "height": null,
            "min_height": null,
            "padding": null,
            "grid_auto_rows": null,
            "grid_gap": null,
            "max_width": null,
            "order": null,
            "_view_module_version": "1.2.0",
            "grid_template_areas": null,
            "object_position": null,
            "object_fit": null,
            "grid_auto_columns": null,
            "margin": null,
            "display": null,
            "left": null
          }
        },
        "408cedf2a00249abba40a93efc17917b": {
          "model_module": "@jupyter-widgets/controls",
          "model_name": "DescriptionStyleModel",
          "state": {
            "_view_name": "StyleView",
            "_model_name": "DescriptionStyleModel",
            "description_width": "",
            "_view_module": "@jupyter-widgets/base",
            "_model_module_version": "1.5.0",
            "_view_count": null,
            "_view_module_version": "1.2.0",
            "_model_module": "@jupyter-widgets/controls"
          }
        },
        "c7a42f878fd04df7a58da0dcf6d8dbc7": {
          "model_module": "@jupyter-widgets/base",
          "model_name": "LayoutModel",
          "state": {
            "_view_name": "LayoutView",
            "grid_template_rows": null,
            "right": null,
            "justify_content": null,
            "_view_module": "@jupyter-widgets/base",
            "overflow": null,
            "_model_module_version": "1.2.0",
            "_view_count": null,
            "flex_flow": null,
            "width": null,
            "min_width": null,
            "border": null,
            "align_items": null,
            "bottom": null,
            "_model_module": "@jupyter-widgets/base",
            "top": null,
            "grid_column": null,
            "overflow_y": null,
            "overflow_x": null,
            "grid_auto_flow": null,
            "grid_area": null,
            "grid_template_columns": null,
            "flex": null,
            "_model_name": "LayoutModel",
            "justify_items": null,
            "grid_row": null,
            "max_height": null,
            "align_content": null,
            "visibility": null,
            "align_self": null,
            "height": null,
            "min_height": null,
            "padding": null,
            "grid_auto_rows": null,
            "grid_gap": null,
            "max_width": null,
            "order": null,
            "_view_module_version": "1.2.0",
            "grid_template_areas": null,
            "object_position": null,
            "object_fit": null,
            "grid_auto_columns": null,
            "margin": null,
            "display": null,
            "left": null
          }
        },
        "d78c46988a914ff1a99c5ab5c11f74a1": {
          "model_module": "@jupyter-widgets/controls",
          "model_name": "HBoxModel",
          "state": {
            "_view_name": "HBoxView",
            "_dom_classes": [],
            "_model_name": "HBoxModel",
            "_view_module": "@jupyter-widgets/controls",
            "_model_module_version": "1.5.0",
            "_view_count": null,
            "_view_module_version": "1.5.0",
            "box_style": "",
            "layout": "IPY_MODEL_e8871fed3ae1463c9f33e1ec7bc5448b",
            "_model_module": "@jupyter-widgets/controls",
            "children": [
              "IPY_MODEL_41b30cc969b44d04a8c54a8a51e7ed15",
              "IPY_MODEL_c81d4491ae5d4609b43461b4f9c11ded"
            ]
          }
        },
        "e8871fed3ae1463c9f33e1ec7bc5448b": {
          "model_module": "@jupyter-widgets/base",
          "model_name": "LayoutModel",
          "state": {
            "_view_name": "LayoutView",
            "grid_template_rows": null,
            "right": null,
            "justify_content": null,
            "_view_module": "@jupyter-widgets/base",
            "overflow": null,
            "_model_module_version": "1.2.0",
            "_view_count": null,
            "flex_flow": null,
            "width": null,
            "min_width": null,
            "border": null,
            "align_items": null,
            "bottom": null,
            "_model_module": "@jupyter-widgets/base",
            "top": null,
            "grid_column": null,
            "overflow_y": null,
            "overflow_x": null,
            "grid_auto_flow": null,
            "grid_area": null,
            "grid_template_columns": null,
            "flex": null,
            "_model_name": "LayoutModel",
            "justify_items": null,
            "grid_row": null,
            "max_height": null,
            "align_content": null,
            "visibility": null,
            "align_self": null,
            "height": null,
            "min_height": null,
            "padding": null,
            "grid_auto_rows": null,
            "grid_gap": null,
            "max_width": null,
            "order": null,
            "_view_module_version": "1.2.0",
            "grid_template_areas": null,
            "object_position": null,
            "object_fit": null,
            "grid_auto_columns": null,
            "margin": null,
            "display": null,
            "left": null
          }
        },
        "41b30cc969b44d04a8c54a8a51e7ed15": {
          "model_module": "@jupyter-widgets/controls",
          "model_name": "FloatProgressModel",
          "state": {
            "_view_name": "ProgressView",
            "style": "IPY_MODEL_8021fdd443a2479c80462cfaa78d3f84",
            "_dom_classes": [],
            "description": "Downloading: 100%",
            "_model_name": "FloatProgressModel",
            "bar_style": "success",
            "max": 501200538,
            "_view_module": "@jupyter-widgets/controls",
            "_model_module_version": "1.5.0",
            "value": 501200538,
            "_view_count": null,
            "_view_module_version": "1.5.0",
            "orientation": "horizontal",
            "min": 0,
            "description_tooltip": null,
            "_model_module": "@jupyter-widgets/controls",
            "layout": "IPY_MODEL_da9141319eeb4cd0918cb6ba4ac5554a"
          }
        },
        "c81d4491ae5d4609b43461b4f9c11ded": {
          "model_module": "@jupyter-widgets/controls",
          "model_name": "HTMLModel",
          "state": {
            "_view_name": "HTMLView",
            "style": "IPY_MODEL_36d4641a0dd24867abd3beb97e89ea32",
            "_dom_classes": [],
            "description": "",
            "_model_name": "HTMLModel",
            "placeholder": "​",
            "_view_module": "@jupyter-widgets/controls",
            "_model_module_version": "1.5.0",
            "value": " 501M/501M [00:21&lt;00:00, 23.0MB/s]",
            "_view_count": null,
            "_view_module_version": "1.5.0",
            "description_tooltip": null,
            "_model_module": "@jupyter-widgets/controls",
            "layout": "IPY_MODEL_5f96f50b32904cdea694201c4e0b18ba"
          }
        },
        "8021fdd443a2479c80462cfaa78d3f84": {
          "model_module": "@jupyter-widgets/controls",
          "model_name": "ProgressStyleModel",
          "state": {
            "_view_name": "StyleView",
            "_model_name": "ProgressStyleModel",
            "description_width": "initial",
            "_view_module": "@jupyter-widgets/base",
            "_model_module_version": "1.5.0",
            "_view_count": null,
            "_view_module_version": "1.2.0",
            "bar_color": null,
            "_model_module": "@jupyter-widgets/controls"
          }
        },
        "da9141319eeb4cd0918cb6ba4ac5554a": {
          "model_module": "@jupyter-widgets/base",
          "model_name": "LayoutModel",
          "state": {
            "_view_name": "LayoutView",
            "grid_template_rows": null,
            "right": null,
            "justify_content": null,
            "_view_module": "@jupyter-widgets/base",
            "overflow": null,
            "_model_module_version": "1.2.0",
            "_view_count": null,
            "flex_flow": null,
            "width": null,
            "min_width": null,
            "border": null,
            "align_items": null,
            "bottom": null,
            "_model_module": "@jupyter-widgets/base",
            "top": null,
            "grid_column": null,
            "overflow_y": null,
            "overflow_x": null,
            "grid_auto_flow": null,
            "grid_area": null,
            "grid_template_columns": null,
            "flex": null,
            "_model_name": "LayoutModel",
            "justify_items": null,
            "grid_row": null,
            "max_height": null,
            "align_content": null,
            "visibility": null,
            "align_self": null,
            "height": null,
            "min_height": null,
            "padding": null,
            "grid_auto_rows": null,
            "grid_gap": null,
            "max_width": null,
            "order": null,
            "_view_module_version": "1.2.0",
            "grid_template_areas": null,
            "object_position": null,
            "object_fit": null,
            "grid_auto_columns": null,
            "margin": null,
            "display": null,
            "left": null
          }
        },
        "36d4641a0dd24867abd3beb97e89ea32": {
          "model_module": "@jupyter-widgets/controls",
          "model_name": "DescriptionStyleModel",
          "state": {
            "_view_name": "StyleView",
            "_model_name": "DescriptionStyleModel",
            "description_width": "",
            "_view_module": "@jupyter-widgets/base",
            "_model_module_version": "1.5.0",
            "_view_count": null,
            "_view_module_version": "1.2.0",
            "_model_module": "@jupyter-widgets/controls"
          }
        },
        "5f96f50b32904cdea694201c4e0b18ba": {
          "model_module": "@jupyter-widgets/base",
          "model_name": "LayoutModel",
          "state": {
            "_view_name": "LayoutView",
            "grid_template_rows": null,
            "right": null,
            "justify_content": null,
            "_view_module": "@jupyter-widgets/base",
            "overflow": null,
            "_model_module_version": "1.2.0",
            "_view_count": null,
            "flex_flow": null,
            "width": null,
            "min_width": null,
            "border": null,
            "align_items": null,
            "bottom": null,
            "_model_module": "@jupyter-widgets/base",
            "top": null,
            "grid_column": null,
            "overflow_y": null,
            "overflow_x": null,
            "grid_auto_flow": null,
            "grid_area": null,
            "grid_template_columns": null,
            "flex": null,
            "_model_name": "LayoutModel",
            "justify_items": null,
            "grid_row": null,
            "max_height": null,
            "align_content": null,
            "visibility": null,
            "align_self": null,
            "height": null,
            "min_height": null,
            "padding": null,
            "grid_auto_rows": null,
            "grid_gap": null,
            "max_width": null,
            "order": null,
            "_view_module_version": "1.2.0",
            "grid_template_areas": null,
            "object_position": null,
            "object_fit": null,
            "grid_auto_columns": null,
            "margin": null,
            "display": null,
            "left": null
          }
        }
      }
    }
  },
  "cells": [
    {
      "cell_type": "markdown",
      "metadata": {
        "id": "maJkl3ZFzU5A"
      },
      "source": [
        "In this project, we are trying to compare the performance of transformer models using the Fake news dataset."
      ]
    },
    {
      "cell_type": "markdown",
      "metadata": {
        "id": "D9QPhEmAzk9H"
      },
      "source": [
        "# **1.  Setup**"
      ]
    },
    {
      "cell_type": "code",
      "metadata": {
        "colab": {
          "base_uri": "https://localhost:8080/"
        },
        "id": "jCmYVP63L_nD",
        "outputId": "d29fdc0d-e3d3-48df-f01c-ce3c63e5eb89"
      },
      "source": [
        "!pip install transformers gspread gspread-dataframe"
      ],
      "execution_count": 1,
      "outputs": [
        {
          "output_type": "stream",
          "text": [
            "Collecting transformers\n",
            "\u001b[?25l  Downloading https://files.pythonhosted.org/packages/b0/9e/5b80becd952d5f7250eaf8fc64b957077b12ccfe73e9c03d37146ab29712/transformers-4.6.0-py3-none-any.whl (2.3MB)\n",
            "\r\u001b[K     |▏                               | 10kB 20.5MB/s eta 0:00:01\r\u001b[K     |▎                               | 20kB 28.8MB/s eta 0:00:01\r\u001b[K     |▍                               | 30kB 34.1MB/s eta 0:00:01\r\u001b[K     |▋                               | 40kB 30.7MB/s eta 0:00:01\r\u001b[K     |▊                               | 51kB 32.2MB/s eta 0:00:01\r\u001b[K     |▉                               | 61kB 33.3MB/s eta 0:00:01\r\u001b[K     |█                               | 71kB 30.2MB/s eta 0:00:01\r\u001b[K     |█▏                              | 81kB 31.2MB/s eta 0:00:01\r\u001b[K     |█▎                              | 92kB 32.7MB/s eta 0:00:01\r\u001b[K     |█▍                              | 102kB 33.7MB/s eta 0:00:01\r\u001b[K     |█▌                              | 112kB 33.7MB/s eta 0:00:01\r\u001b[K     |█▊                              | 122kB 33.7MB/s eta 0:00:01\r\u001b[K     |█▉                              | 133kB 33.7MB/s eta 0:00:01\r\u001b[K     |██                              | 143kB 33.7MB/s eta 0:00:01\r\u001b[K     |██                              | 153kB 33.7MB/s eta 0:00:01\r\u001b[K     |██▎                             | 163kB 33.7MB/s eta 0:00:01\r\u001b[K     |██▍                             | 174kB 33.7MB/s eta 0:00:01\r\u001b[K     |██▌                             | 184kB 33.7MB/s eta 0:00:01\r\u001b[K     |██▋                             | 194kB 33.7MB/s eta 0:00:01\r\u001b[K     |██▉                             | 204kB 33.7MB/s eta 0:00:01\r\u001b[K     |███                             | 215kB 33.7MB/s eta 0:00:01\r\u001b[K     |███                             | 225kB 33.7MB/s eta 0:00:01\r\u001b[K     |███▎                            | 235kB 33.7MB/s eta 0:00:01\r\u001b[K     |███▍                            | 245kB 33.7MB/s eta 0:00:01\r\u001b[K     |███▌                            | 256kB 33.7MB/s eta 0:00:01\r\u001b[K     |███▋                            | 266kB 33.7MB/s eta 0:00:01\r\u001b[K     |███▉                            | 276kB 33.7MB/s eta 0:00:01\r\u001b[K     |████                            | 286kB 33.7MB/s eta 0:00:01\r\u001b[K     |████                            | 296kB 33.7MB/s eta 0:00:01\r\u001b[K     |████▏                           | 307kB 33.7MB/s eta 0:00:01\r\u001b[K     |████▍                           | 317kB 33.7MB/s eta 0:00:01\r\u001b[K     |████▌                           | 327kB 33.7MB/s eta 0:00:01\r\u001b[K     |████▋                           | 337kB 33.7MB/s eta 0:00:01\r\u001b[K     |████▊                           | 348kB 33.7MB/s eta 0:00:01\r\u001b[K     |█████                           | 358kB 33.7MB/s eta 0:00:01\r\u001b[K     |█████                           | 368kB 33.7MB/s eta 0:00:01\r\u001b[K     |█████▏                          | 378kB 33.7MB/s eta 0:00:01\r\u001b[K     |█████▎                          | 389kB 33.7MB/s eta 0:00:01\r\u001b[K     |█████▌                          | 399kB 33.7MB/s eta 0:00:01\r\u001b[K     |█████▋                          | 409kB 33.7MB/s eta 0:00:01\r\u001b[K     |█████▊                          | 419kB 33.7MB/s eta 0:00:01\r\u001b[K     |██████                          | 430kB 33.7MB/s eta 0:00:01\r\u001b[K     |██████                          | 440kB 33.7MB/s eta 0:00:01\r\u001b[K     |██████▏                         | 450kB 33.7MB/s eta 0:00:01\r\u001b[K     |██████▎                         | 460kB 33.7MB/s eta 0:00:01\r\u001b[K     |██████▌                         | 471kB 33.7MB/s eta 0:00:01\r\u001b[K     |██████▋                         | 481kB 33.7MB/s eta 0:00:01\r\u001b[K     |██████▊                         | 491kB 33.7MB/s eta 0:00:01\r\u001b[K     |██████▉                         | 501kB 33.7MB/s eta 0:00:01\r\u001b[K     |███████                         | 512kB 33.7MB/s eta 0:00:01\r\u001b[K     |███████▏                        | 522kB 33.7MB/s eta 0:00:01\r\u001b[K     |███████▎                        | 532kB 33.7MB/s eta 0:00:01\r\u001b[K     |███████▍                        | 542kB 33.7MB/s eta 0:00:01\r\u001b[K     |███████▋                        | 552kB 33.7MB/s eta 0:00:01\r\u001b[K     |███████▊                        | 563kB 33.7MB/s eta 0:00:01\r\u001b[K     |███████▉                        | 573kB 33.7MB/s eta 0:00:01\r\u001b[K     |████████                        | 583kB 33.7MB/s eta 0:00:01\r\u001b[K     |████████▏                       | 593kB 33.7MB/s eta 0:00:01\r\u001b[K     |████████▎                       | 604kB 33.7MB/s eta 0:00:01\r\u001b[K     |████████▍                       | 614kB 33.7MB/s eta 0:00:01\r\u001b[K     |████████▋                       | 624kB 33.7MB/s eta 0:00:01\r\u001b[K     |████████▊                       | 634kB 33.7MB/s eta 0:00:01\r\u001b[K     |████████▉                       | 645kB 33.7MB/s eta 0:00:01\r\u001b[K     |█████████                       | 655kB 33.7MB/s eta 0:00:01\r\u001b[K     |█████████▏                      | 665kB 33.7MB/s eta 0:00:01\r\u001b[K     |█████████▎                      | 675kB 33.7MB/s eta 0:00:01\r\u001b[K     |█████████▍                      | 686kB 33.7MB/s eta 0:00:01\r\u001b[K     |█████████▌                      | 696kB 33.7MB/s eta 0:00:01\r\u001b[K     |█████████▊                      | 706kB 33.7MB/s eta 0:00:01\r\u001b[K     |█████████▉                      | 716kB 33.7MB/s eta 0:00:01\r\u001b[K     |██████████                      | 727kB 33.7MB/s eta 0:00:01\r\u001b[K     |██████████                      | 737kB 33.7MB/s eta 0:00:01\r\u001b[K     |██████████▎                     | 747kB 33.7MB/s eta 0:00:01\r\u001b[K     |██████████▍                     | 757kB 33.7MB/s eta 0:00:01\r\u001b[K     |██████████▌                     | 768kB 33.7MB/s eta 0:00:01\r\u001b[K     |██████████▋                     | 778kB 33.7MB/s eta 0:00:01\r\u001b[K     |██████████▉                     | 788kB 33.7MB/s eta 0:00:01\r\u001b[K     |███████████                     | 798kB 33.7MB/s eta 0:00:01\r\u001b[K     |███████████                     | 808kB 33.7MB/s eta 0:00:01\r\u001b[K     |███████████▎                    | 819kB 33.7MB/s eta 0:00:01\r\u001b[K     |███████████▍                    | 829kB 33.7MB/s eta 0:00:01\r\u001b[K     |███████████▌                    | 839kB 33.7MB/s eta 0:00:01\r\u001b[K     |███████████▋                    | 849kB 33.7MB/s eta 0:00:01\r\u001b[K     |███████████▉                    | 860kB 33.7MB/s eta 0:00:01\r\u001b[K     |████████████                    | 870kB 33.7MB/s eta 0:00:01\r\u001b[K     |████████████                    | 880kB 33.7MB/s eta 0:00:01\r\u001b[K     |████████████▏                   | 890kB 33.7MB/s eta 0:00:01\r\u001b[K     |████████████▍                   | 901kB 33.7MB/s eta 0:00:01\r\u001b[K     |████████████▌                   | 911kB 33.7MB/s eta 0:00:01\r\u001b[K     |████████████▋                   | 921kB 33.7MB/s eta 0:00:01\r\u001b[K     |████████████▊                   | 931kB 33.7MB/s eta 0:00:01\r\u001b[K     |█████████████                   | 942kB 33.7MB/s eta 0:00:01\r\u001b[K     |█████████████                   | 952kB 33.7MB/s eta 0:00:01\r\u001b[K     |█████████████▏                  | 962kB 33.7MB/s eta 0:00:01\r\u001b[K     |█████████████▎                  | 972kB 33.7MB/s eta 0:00:01\r\u001b[K     |█████████████▌                  | 983kB 33.7MB/s eta 0:00:01\r\u001b[K     |█████████████▋                  | 993kB 33.7MB/s eta 0:00:01\r\u001b[K     |█████████████▊                  | 1.0MB 33.7MB/s eta 0:00:01\r\u001b[K     |██████████████                  | 1.0MB 33.7MB/s eta 0:00:01\r\u001b[K     |██████████████                  | 1.0MB 33.7MB/s eta 0:00:01\r\u001b[K     |██████████████▏                 | 1.0MB 33.7MB/s eta 0:00:01\r\u001b[K     |██████████████▎                 | 1.0MB 33.7MB/s eta 0:00:01\r\u001b[K     |██████████████▌                 | 1.1MB 33.7MB/s eta 0:00:01\r\u001b[K     |██████████████▋                 | 1.1MB 33.7MB/s eta 0:00:01\r\u001b[K     |██████████████▊                 | 1.1MB 33.7MB/s eta 0:00:01\r\u001b[K     |██████████████▉                 | 1.1MB 33.7MB/s eta 0:00:01\r\u001b[K     |███████████████                 | 1.1MB 33.7MB/s eta 0:00:01\r\u001b[K     |███████████████▏                | 1.1MB 33.7MB/s eta 0:00:01\r\u001b[K     |███████████████▎                | 1.1MB 33.7MB/s eta 0:00:01\r\u001b[K     |███████████████▍                | 1.1MB 33.7MB/s eta 0:00:01\r\u001b[K     |███████████████▋                | 1.1MB 33.7MB/s eta 0:00:01\r\u001b[K     |███████████████▊                | 1.1MB 33.7MB/s eta 0:00:01\r\u001b[K     |███████████████▉                | 1.2MB 33.7MB/s eta 0:00:01\r\u001b[K     |████████████████                | 1.2MB 33.7MB/s eta 0:00:01\r\u001b[K     |████████████████▏               | 1.2MB 33.7MB/s eta 0:00:01\r\u001b[K     |████████████████▎               | 1.2MB 33.7MB/s eta 0:00:01\r\u001b[K     |████████████████▍               | 1.2MB 33.7MB/s eta 0:00:01\r\u001b[K     |████████████████▋               | 1.2MB 33.7MB/s eta 0:00:01\r\u001b[K     |████████████████▊               | 1.2MB 33.7MB/s eta 0:00:01\r\u001b[K     |████████████████▉               | 1.2MB 33.7MB/s eta 0:00:01\r\u001b[K     |█████████████████               | 1.2MB 33.7MB/s eta 0:00:01\r\u001b[K     |█████████████████▏              | 1.2MB 33.7MB/s eta 0:00:01\r\u001b[K     |█████████████████▎              | 1.3MB 33.7MB/s eta 0:00:01\r\u001b[K     |█████████████████▍              | 1.3MB 33.7MB/s eta 0:00:01\r\u001b[K     |█████████████████▌              | 1.3MB 33.7MB/s eta 0:00:01\r\u001b[K     |█████████████████▊              | 1.3MB 33.7MB/s eta 0:00:01\r\u001b[K     |█████████████████▉              | 1.3MB 33.7MB/s eta 0:00:01\r\u001b[K     |██████████████████              | 1.3MB 33.7MB/s eta 0:00:01\r\u001b[K     |██████████████████              | 1.3MB 33.7MB/s eta 0:00:01\r\u001b[K     |██████████████████▎             | 1.3MB 33.7MB/s eta 0:00:01\r\u001b[K     |██████████████████▍             | 1.3MB 33.7MB/s eta 0:00:01\r\u001b[K     |██████████████████▌             | 1.4MB 33.7MB/s eta 0:00:01\r\u001b[K     |██████████████████▋             | 1.4MB 33.7MB/s eta 0:00:01\r\u001b[K     |██████████████████▉             | 1.4MB 33.7MB/s eta 0:00:01\r\u001b[K     |███████████████████             | 1.4MB 33.7MB/s eta 0:00:01\r\u001b[K     |███████████████████             | 1.4MB 33.7MB/s eta 0:00:01\r\u001b[K     |███████████████████▎            | 1.4MB 33.7MB/s eta 0:00:01\r\u001b[K     |███████████████████▍            | 1.4MB 33.7MB/s eta 0:00:01\r\u001b[K     |███████████████████▌            | 1.4MB 33.7MB/s eta 0:00:01\r\u001b[K     |███████████████████▋            | 1.4MB 33.7MB/s eta 0:00:01\r\u001b[K     |███████████████████▉            | 1.4MB 33.7MB/s eta 0:00:01\r\u001b[K     |████████████████████            | 1.5MB 33.7MB/s eta 0:00:01\r\u001b[K     |████████████████████            | 1.5MB 33.7MB/s eta 0:00:01\r\u001b[K     |████████████████████▏           | 1.5MB 33.7MB/s eta 0:00:01\r\u001b[K     |████████████████████▍           | 1.5MB 33.7MB/s eta 0:00:01\r\u001b[K     |████████████████████▌           | 1.5MB 33.7MB/s eta 0:00:01\r\u001b[K     |████████████████████▋           | 1.5MB 33.7MB/s eta 0:00:01\r\u001b[K     |████████████████████▊           | 1.5MB 33.7MB/s eta 0:00:01\r\u001b[K     |█████████████████████           | 1.5MB 33.7MB/s eta 0:00:01\r\u001b[K     |█████████████████████           | 1.5MB 33.7MB/s eta 0:00:01\r\u001b[K     |█████████████████████▏          | 1.5MB 33.7MB/s eta 0:00:01\r\u001b[K     |█████████████████████▎          | 1.6MB 33.7MB/s eta 0:00:01\r\u001b[K     |█████████████████████▌          | 1.6MB 33.7MB/s eta 0:00:01\r\u001b[K     |█████████████████████▋          | 1.6MB 33.7MB/s eta 0:00:01\r\u001b[K     |█████████████████████▊          | 1.6MB 33.7MB/s eta 0:00:01\r\u001b[K     |█████████████████████▉          | 1.6MB 33.7MB/s eta 0:00:01\r\u001b[K     |██████████████████████          | 1.6MB 33.7MB/s eta 0:00:01\r\u001b[K     |██████████████████████▏         | 1.6MB 33.7MB/s eta 0:00:01\r\u001b[K     |██████████████████████▎         | 1.6MB 33.7MB/s eta 0:00:01\r\u001b[K     |██████████████████████▌         | 1.6MB 33.7MB/s eta 0:00:01\r\u001b[K     |██████████████████████▋         | 1.6MB 33.7MB/s eta 0:00:01\r\u001b[K     |██████████████████████▊         | 1.7MB 33.7MB/s eta 0:00:01\r\u001b[K     |██████████████████████▉         | 1.7MB 33.7MB/s eta 0:00:01\r\u001b[K     |███████████████████████         | 1.7MB 33.7MB/s eta 0:00:01\r\u001b[K     |███████████████████████▏        | 1.7MB 33.7MB/s eta 0:00:01\r\u001b[K     |███████████████████████▎        | 1.7MB 33.7MB/s eta 0:00:01\r\u001b[K     |███████████████████████▍        | 1.7MB 33.7MB/s eta 0:00:01\r\u001b[K     |███████████████████████▋        | 1.7MB 33.7MB/s eta 0:00:01\r\u001b[K     |███████████████████████▊        | 1.7MB 33.7MB/s eta 0:00:01\r\u001b[K     |███████████████████████▉        | 1.7MB 33.7MB/s eta 0:00:01\r\u001b[K     |████████████████████████        | 1.8MB 33.7MB/s eta 0:00:01\r\u001b[K     |████████████████████████▏       | 1.8MB 33.7MB/s eta 0:00:01\r\u001b[K     |████████████████████████▎       | 1.8MB 33.7MB/s eta 0:00:01\r\u001b[K     |████████████████████████▍       | 1.8MB 33.7MB/s eta 0:00:01\r\u001b[K     |████████████████████████▌       | 1.8MB 33.7MB/s eta 0:00:01\r\u001b[K     |████████████████████████▊       | 1.8MB 33.7MB/s eta 0:00:01\r\u001b[K     |████████████████████████▉       | 1.8MB 33.7MB/s eta 0:00:01\r\u001b[K     |█████████████████████████       | 1.8MB 33.7MB/s eta 0:00:01\r\u001b[K     |█████████████████████████▏      | 1.8MB 33.7MB/s eta 0:00:01\r\u001b[K     |█████████████████████████▎      | 1.8MB 33.7MB/s eta 0:00:01\r\u001b[K     |█████████████████████████▍      | 1.9MB 33.7MB/s eta 0:00:01\r\u001b[K     |█████████████████████████▌      | 1.9MB 33.7MB/s eta 0:00:01\r\u001b[K     |█████████████████████████▊      | 1.9MB 33.7MB/s eta 0:00:01\r\u001b[K     |█████████████████████████▉      | 1.9MB 33.7MB/s eta 0:00:01\r\u001b[K     |██████████████████████████      | 1.9MB 33.7MB/s eta 0:00:01\r\u001b[K     |██████████████████████████      | 1.9MB 33.7MB/s eta 0:00:01\r\u001b[K     |██████████████████████████▎     | 1.9MB 33.7MB/s eta 0:00:01\r\u001b[K     |██████████████████████████▍     | 1.9MB 33.7MB/s eta 0:00:01\r\u001b[K     |██████████████████████████▌     | 1.9MB 33.7MB/s eta 0:00:01\r\u001b[K     |██████████████████████████▋     | 1.9MB 33.7MB/s eta 0:00:01\r\u001b[K     |██████████████████████████▉     | 2.0MB 33.7MB/s eta 0:00:01\r\u001b[K     |███████████████████████████     | 2.0MB 33.7MB/s eta 0:00:01\r\u001b[K     |███████████████████████████     | 2.0MB 33.7MB/s eta 0:00:01\r\u001b[K     |███████████████████████████▏    | 2.0MB 33.7MB/s eta 0:00:01\r\u001b[K     |███████████████████████████▍    | 2.0MB 33.7MB/s eta 0:00:01\r\u001b[K     |███████████████████████████▌    | 2.0MB 33.7MB/s eta 0:00:01\r\u001b[K     |███████████████████████████▋    | 2.0MB 33.7MB/s eta 0:00:01\r\u001b[K     |███████████████████████████▉    | 2.0MB 33.7MB/s eta 0:00:01\r\u001b[K     |████████████████████████████    | 2.0MB 33.7MB/s eta 0:00:01\r\u001b[K     |████████████████████████████    | 2.0MB 33.7MB/s eta 0:00:01\r\u001b[K     |████████████████████████████▏   | 2.1MB 33.7MB/s eta 0:00:01\r\u001b[K     |████████████████████████████▍   | 2.1MB 33.7MB/s eta 0:00:01\r\u001b[K     |████████████████████████████▌   | 2.1MB 33.7MB/s eta 0:00:01\r\u001b[K     |████████████████████████████▋   | 2.1MB 33.7MB/s eta 0:00:01\r\u001b[K     |████████████████████████████▊   | 2.1MB 33.7MB/s eta 0:00:01\r\u001b[K     |█████████████████████████████   | 2.1MB 33.7MB/s eta 0:00:01\r\u001b[K     |█████████████████████████████   | 2.1MB 33.7MB/s eta 0:00:01\r\u001b[K     |█████████████████████████████▏  | 2.1MB 33.7MB/s eta 0:00:01\r\u001b[K     |█████████████████████████████▎  | 2.1MB 33.7MB/s eta 0:00:01\r\u001b[K     |█████████████████████████████▌  | 2.2MB 33.7MB/s eta 0:00:01\r\u001b[K     |█████████████████████████████▋  | 2.2MB 33.7MB/s eta 0:00:01\r\u001b[K     |█████████████████████████████▊  | 2.2MB 33.7MB/s eta 0:00:01\r\u001b[K     |█████████████████████████████▉  | 2.2MB 33.7MB/s eta 0:00:01\r\u001b[K     |██████████████████████████████  | 2.2MB 33.7MB/s eta 0:00:01\r\u001b[K     |██████████████████████████████▏ | 2.2MB 33.7MB/s eta 0:00:01\r\u001b[K     |██████████████████████████████▎ | 2.2MB 33.7MB/s eta 0:00:01\r\u001b[K     |██████████████████████████████▌ | 2.2MB 33.7MB/s eta 0:00:01\r\u001b[K     |██████████████████████████████▋ | 2.2MB 33.7MB/s eta 0:00:01\r\u001b[K     |██████████████████████████████▊ | 2.2MB 33.7MB/s eta 0:00:01\r\u001b[K     |██████████████████████████████▉ | 2.3MB 33.7MB/s eta 0:00:01\r\u001b[K     |███████████████████████████████ | 2.3MB 33.7MB/s eta 0:00:01\r\u001b[K     |███████████████████████████████▏| 2.3MB 33.7MB/s eta 0:00:01\r\u001b[K     |███████████████████████████████▎| 2.3MB 33.7MB/s eta 0:00:01\r\u001b[K     |███████████████████████████████▍| 2.3MB 33.7MB/s eta 0:00:01\r\u001b[K     |███████████████████████████████▋| 2.3MB 33.7MB/s eta 0:00:01\r\u001b[K     |███████████████████████████████▊| 2.3MB 33.7MB/s eta 0:00:01\r\u001b[K     |███████████████████████████████▉| 2.3MB 33.7MB/s eta 0:00:01\r\u001b[K     |████████████████████████████████| 2.3MB 33.7MB/s eta 0:00:01\r\u001b[K     |████████████████████████████████| 2.3MB 33.7MB/s \n",
            "\u001b[?25hRequirement already satisfied: gspread in /usr/local/lib/python3.7/dist-packages (3.0.1)\n",
            "Requirement already satisfied: gspread-dataframe in /usr/local/lib/python3.7/dist-packages (3.0.8)\n",
            "Collecting tokenizers<0.11,>=0.10.1\n",
            "\u001b[?25l  Downloading https://files.pythonhosted.org/packages/ae/04/5b870f26a858552025a62f1649c20d29d2672c02ff3c3fb4c688ca46467a/tokenizers-0.10.2-cp37-cp37m-manylinux2010_x86_64.whl (3.3MB)\n",
            "\u001b[K     |████████████████████████████████| 3.3MB 34.9MB/s \n",
            "\u001b[?25hRequirement already satisfied: tqdm>=4.27 in /usr/local/lib/python3.7/dist-packages (from transformers) (4.41.1)\n",
            "Requirement already satisfied: numpy>=1.17 in /usr/local/lib/python3.7/dist-packages (from transformers) (1.19.5)\n",
            "Collecting sacremoses\n",
            "\u001b[?25l  Downloading https://files.pythonhosted.org/packages/75/ee/67241dc87f266093c533a2d4d3d69438e57d7a90abb216fa076e7d475d4a/sacremoses-0.0.45-py3-none-any.whl (895kB)\n",
            "\u001b[K     |████████████████████████████████| 901kB 52.6MB/s \n",
            "\u001b[?25hRequirement already satisfied: importlib-metadata; python_version < \"3.8\" in /usr/local/lib/python3.7/dist-packages (from transformers) (4.0.1)\n",
            "Requirement already satisfied: packaging in /usr/local/lib/python3.7/dist-packages (from transformers) (20.9)\n",
            "Collecting huggingface-hub==0.0.8\n",
            "  Downloading https://files.pythonhosted.org/packages/a1/88/7b1e45720ecf59c6c6737ff332f41c955963090a18e72acbcbeac6b25e86/huggingface_hub-0.0.8-py3-none-any.whl\n",
            "Requirement already satisfied: filelock in /usr/local/lib/python3.7/dist-packages (from transformers) (3.0.12)\n",
            "Requirement already satisfied: requests in /usr/local/lib/python3.7/dist-packages (from transformers) (2.23.0)\n",
            "Requirement already satisfied: regex!=2019.12.17 in /usr/local/lib/python3.7/dist-packages (from transformers) (2019.12.20)\n",
            "Requirement already satisfied: pandas>=0.14.0 in /usr/local/lib/python3.7/dist-packages (from gspread-dataframe) (1.1.5)\n",
            "Requirement already satisfied: click in /usr/local/lib/python3.7/dist-packages (from sacremoses->transformers) (8.0.0)\n",
            "Requirement already satisfied: joblib in /usr/local/lib/python3.7/dist-packages (from sacremoses->transformers) (1.0.1)\n",
            "Requirement already satisfied: six in /usr/local/lib/python3.7/dist-packages (from sacremoses->transformers) (1.15.0)\n",
            "Requirement already satisfied: typing-extensions>=3.6.4; python_version < \"3.8\" in /usr/local/lib/python3.7/dist-packages (from importlib-metadata; python_version < \"3.8\"->transformers) (3.7.4.3)\n",
            "Requirement already satisfied: zipp>=0.5 in /usr/local/lib/python3.7/dist-packages (from importlib-metadata; python_version < \"3.8\"->transformers) (3.4.1)\n",
            "Requirement already satisfied: pyparsing>=2.0.2 in /usr/local/lib/python3.7/dist-packages (from packaging->transformers) (2.4.7)\n",
            "Requirement already satisfied: chardet<4,>=3.0.2 in /usr/local/lib/python3.7/dist-packages (from requests->transformers) (3.0.4)\n",
            "Requirement already satisfied: certifi>=2017.4.17 in /usr/local/lib/python3.7/dist-packages (from requests->transformers) (2020.12.5)\n",
            "Requirement already satisfied: idna<3,>=2.5 in /usr/local/lib/python3.7/dist-packages (from requests->transformers) (2.10)\n",
            "Requirement already satisfied: urllib3!=1.25.0,!=1.25.1,<1.26,>=1.21.1 in /usr/local/lib/python3.7/dist-packages (from requests->transformers) (1.24.3)\n",
            "Requirement already satisfied: pytz>=2017.2 in /usr/local/lib/python3.7/dist-packages (from pandas>=0.14.0->gspread-dataframe) (2018.9)\n",
            "Requirement already satisfied: python-dateutil>=2.7.3 in /usr/local/lib/python3.7/dist-packages (from pandas>=0.14.0->gspread-dataframe) (2.8.1)\n",
            "Installing collected packages: tokenizers, sacremoses, huggingface-hub, transformers\n",
            "Successfully installed huggingface-hub-0.0.8 sacremoses-0.0.45 tokenizers-0.10.2 transformers-4.6.0\n"
          ],
          "name": "stdout"
        }
      ]
    },
    {
      "cell_type": "code",
      "metadata": {
        "id": "FPeBM4cC3eQr"
      },
      "source": [
        "import warnings\n",
        "warnings.simplefilter(action='ignore', category=FutureWarning)\n",
        "\n",
        "import re\n",
        "import nltk\n",
        "import random\n",
        "import numpy as np\n",
        "import pandas as pd\n",
        "import time\n",
        "import datetime\n",
        "import torch\n",
        "import matplotlib.pyplot as plt\n",
        "import seaborn as sns\n",
        "import tensorflow as tf\n",
        "from wordcloud import WordCloud\n",
        "from nltk.stem import PorterStemmer\n",
        "from torch.utils.data import TensorDataset, random_split\n",
        "from torch.utils.data import DataLoader, RandomSampler, SequentialSampler\n",
        "from transformers import get_linear_schedule_with_warmup, AdamW\n",
        "from transformers import  BertTokenizer, BertForSequenceClassification\n",
        "from transformers import DistilBertTokenizer, DistilBertForSequenceClassification\n",
        "from transformers import RobertaTokenizer, RobertaForSequenceClassification\n",
        "% matplotlib inline"
      ],
      "execution_count": 2,
      "outputs": []
    },
    {
      "cell_type": "code",
      "metadata": {
        "id": "9ukPf86f8yHw"
      },
      "source": [
        "EPOCHS = 4\n",
        "BATCH_SIZE = 32\n",
        "BERT_PRE_TRAINED_MODEL_NAME = 'bert-base-cased'\n",
        "DISTILBERT_PRE_TRAINED_MODEL_NAME = 'distilbert-base-cased'\n",
        "ROBERTA_PRE_TRAINED_MODEL_NAME = 'roberta-base'"
      ],
      "execution_count": 3,
      "outputs": []
    },
    {
      "cell_type": "markdown",
      "metadata": {
        "id": "rJimsI7iz0jd"
      },
      "source": [
        "# **2. Data Exploration**"
      ]
    },
    {
      "cell_type": "markdown",
      "metadata": {
        "id": "6toB0YYlw1le"
      },
      "source": [
        "We read the training and testing datasets provided by the UTK Machine Learning Club on Kaggle. The trainig dataset has around 20000 datapoints with 5 columns."
      ]
    },
    {
      "cell_type": "code",
      "metadata": {
        "id": "9OweOAFG1T9u"
      },
      "source": [
        "train = pd.read_csv('data/train.csv')\n",
        "test = pd.read_csv('data/test.csv')\n",
        "print(\"Shape of trainig dataset=%s\"%train.shape)\n",
        "print(\"Shape of testing dataset=%s\"%test.shape)"
      ],
      "execution_count": 4,
      "outputs": []
    },
    {
      "cell_type": "code",
      "metadata": {
        "colab": {
          "base_uri": "https://localhost:8080/",
          "height": 204
        },
        "id": "-kFBwRI-2PN_",
        "outputId": "61147bf3-40f0-4678-dbbd-4b04dd9d1b28"
      },
      "source": [
        "train.head()"
      ],
      "execution_count": 6,
      "outputs": [
        {
          "output_type": "execute_result",
          "data": {
            "text/html": [
              "<div>\n",
              "<style scoped>\n",
              "    .dataframe tbody tr th:only-of-type {\n",
              "        vertical-align: middle;\n",
              "    }\n",
              "\n",
              "    .dataframe tbody tr th {\n",
              "        vertical-align: top;\n",
              "    }\n",
              "\n",
              "    .dataframe thead th {\n",
              "        text-align: right;\n",
              "    }\n",
              "</style>\n",
              "<table border=\"1\" class=\"dataframe\">\n",
              "  <thead>\n",
              "    <tr style=\"text-align: right;\">\n",
              "      <th></th>\n",
              "      <th>id</th>\n",
              "      <th>title</th>\n",
              "      <th>author</th>\n",
              "      <th>text</th>\n",
              "      <th>label</th>\n",
              "    </tr>\n",
              "  </thead>\n",
              "  <tbody>\n",
              "    <tr>\n",
              "      <th>0</th>\n",
              "      <td>0</td>\n",
              "      <td>House Dem Aide: We Didn’t Even See Comey’s Let...</td>\n",
              "      <td>Darrell Lucus</td>\n",
              "      <td>House Dem Aide: We Didn’t Even See Comey’s Let...</td>\n",
              "      <td>1</td>\n",
              "    </tr>\n",
              "    <tr>\n",
              "      <th>1</th>\n",
              "      <td>1</td>\n",
              "      <td>FLYNN: Hillary Clinton, Big Woman on Campus - ...</td>\n",
              "      <td>Daniel J. Flynn</td>\n",
              "      <td>Ever get the feeling your life circles the rou...</td>\n",
              "      <td>0</td>\n",
              "    </tr>\n",
              "    <tr>\n",
              "      <th>2</th>\n",
              "      <td>2</td>\n",
              "      <td>Why the Truth Might Get You Fired</td>\n",
              "      <td>Consortiumnews.com</td>\n",
              "      <td>Why the Truth Might Get You Fired October 29, ...</td>\n",
              "      <td>1</td>\n",
              "    </tr>\n",
              "    <tr>\n",
              "      <th>3</th>\n",
              "      <td>3</td>\n",
              "      <td>15 Civilians Killed In Single US Airstrike Hav...</td>\n",
              "      <td>Jessica Purkiss</td>\n",
              "      <td>Videos 15 Civilians Killed In Single US Airstr...</td>\n",
              "      <td>1</td>\n",
              "    </tr>\n",
              "    <tr>\n",
              "      <th>4</th>\n",
              "      <td>4</td>\n",
              "      <td>Iranian woman jailed for fictional unpublished...</td>\n",
              "      <td>Howard Portnoy</td>\n",
              "      <td>Print \\nAn Iranian woman has been sentenced to...</td>\n",
              "      <td>1</td>\n",
              "    </tr>\n",
              "  </tbody>\n",
              "</table>\n",
              "</div>"
            ],
            "text/plain": [
              "   id  ... label\n",
              "0   0  ...     1\n",
              "1   1  ...     0\n",
              "2   2  ...     1\n",
              "3   3  ...     1\n",
              "4   4  ...     1\n",
              "\n",
              "[5 rows x 5 columns]"
            ]
          },
          "metadata": {
            "tags": []
          },
          "execution_count": 6
        }
      ]
    },
    {
      "cell_type": "code",
      "metadata": {
        "colab": {
          "base_uri": "https://localhost:8080/",
          "height": 204
        },
        "id": "fQNrOFMTlhsG",
        "outputId": "487cf18c-3256-4126-b53b-b5a1dc946904"
      },
      "source": [
        "\n",
        "test.head()"
      ],
      "execution_count": 7,
      "outputs": [
        {
          "output_type": "execute_result",
          "data": {
            "text/html": [
              "<div>\n",
              "<style scoped>\n",
              "    .dataframe tbody tr th:only-of-type {\n",
              "        vertical-align: middle;\n",
              "    }\n",
              "\n",
              "    .dataframe tbody tr th {\n",
              "        vertical-align: top;\n",
              "    }\n",
              "\n",
              "    .dataframe thead th {\n",
              "        text-align: right;\n",
              "    }\n",
              "</style>\n",
              "<table border=\"1\" class=\"dataframe\">\n",
              "  <thead>\n",
              "    <tr style=\"text-align: right;\">\n",
              "      <th></th>\n",
              "      <th>id</th>\n",
              "      <th>title</th>\n",
              "      <th>author</th>\n",
              "      <th>text</th>\n",
              "    </tr>\n",
              "  </thead>\n",
              "  <tbody>\n",
              "    <tr>\n",
              "      <th>0</th>\n",
              "      <td>20800</td>\n",
              "      <td>Specter of Trump Loosens Tongues, if Not Purse...</td>\n",
              "      <td>David Streitfeld</td>\n",
              "      <td>PALO ALTO, Calif.  —   After years of scorning...</td>\n",
              "    </tr>\n",
              "    <tr>\n",
              "      <th>1</th>\n",
              "      <td>20801</td>\n",
              "      <td>Russian warships ready to strike terrorists ne...</td>\n",
              "      <td>NaN</td>\n",
              "      <td>Russian warships ready to strike terrorists ne...</td>\n",
              "    </tr>\n",
              "    <tr>\n",
              "      <th>2</th>\n",
              "      <td>20802</td>\n",
              "      <td>#NoDAPL: Native American Leaders Vow to Stay A...</td>\n",
              "      <td>Common Dreams</td>\n",
              "      <td>Videos #NoDAPL: Native American Leaders Vow to...</td>\n",
              "    </tr>\n",
              "    <tr>\n",
              "      <th>3</th>\n",
              "      <td>20803</td>\n",
              "      <td>Tim Tebow Will Attempt Another Comeback, This ...</td>\n",
              "      <td>Daniel Victor</td>\n",
              "      <td>If at first you don’t succeed, try a different...</td>\n",
              "    </tr>\n",
              "    <tr>\n",
              "      <th>4</th>\n",
              "      <td>20804</td>\n",
              "      <td>Keiser Report: Meme Wars (E995)</td>\n",
              "      <td>Truth Broadcast Network</td>\n",
              "      <td>42 mins ago 1 Views 0 Comments 0 Likes 'For th...</td>\n",
              "    </tr>\n",
              "  </tbody>\n",
              "</table>\n",
              "</div>"
            ],
            "text/plain": [
              "      id  ...                                               text\n",
              "0  20800  ...  PALO ALTO, Calif.  —   After years of scorning...\n",
              "1  20801  ...  Russian warships ready to strike terrorists ne...\n",
              "2  20802  ...  Videos #NoDAPL: Native American Leaders Vow to...\n",
              "3  20803  ...  If at first you don’t succeed, try a different...\n",
              "4  20804  ...  42 mins ago 1 Views 0 Comments 0 Likes 'For th...\n",
              "\n",
              "[5 rows x 4 columns]"
            ]
          },
          "metadata": {
            "tags": []
          },
          "execution_count": 7
        }
      ]
    },
    {
      "cell_type": "code",
      "metadata": {
        "id": "nME4JJ9_mctz"
      },
      "source": [
        "def process_train_data(data):\n",
        "  text = data.text\n",
        "  temp_df = pd.DataFrame()\n",
        "  temp_df['content'] = text\n",
        "  labels = data.label\n",
        "  temp_df['labels'] = labels\n",
        "  new_data = temp_df.content\n",
        "  labels = temp_df.labels\n",
        "  return new_data, labels"
      ],
      "execution_count": 8,
      "outputs": []
    },
    {
      "cell_type": "code",
      "metadata": {
        "colab": {
          "base_uri": "https://localhost:8080/"
        },
        "id": "nmbrNbyVS-TF",
        "outputId": "17c6ba5a-c189-4721-9154-d06e5604e9ea"
      },
      "source": [
        "nltk.download('stopwords')\n",
        "from nltk.corpus import stopwords\n",
        "porter_stemmer = PorterStemmer()\n",
        "def preprocess_text(data): \n",
        "    text = re.sub('[^a-zA-Z]',' ',data)\n",
        "    text = text.lower()\n",
        "    words = text.split()\n",
        "    words = [porter_stemmer.stem(word) for word in words if word not in stopwords.words('english') and word.isalpha()]\n",
        "    text = ' '.join(words)\n",
        "    return text"
      ],
      "execution_count": 9,
      "outputs": [
        {
          "output_type": "stream",
          "text": [
            "[nltk_data] Downloading package stopwords to /root/nltk_data...\n",
            "[nltk_data]   Unzipping corpora/stopwords.zip.\n"
          ],
          "name": "stdout"
        }
      ]
    },
    {
      "cell_type": "markdown",
      "metadata": {
        "id": "IeXTZTtXxjzP"
      },
      "source": [
        "We pre-process the data and add the author to the content of the article so that author also serves as criteria to classify the article as fake or real."
      ]
    },
    {
      "cell_type": "code",
      "metadata": {
        "id": "uv339Z_Vi6JJ"
      },
      "source": [
        "train = train.fillna('')\n",
        "test = test.fillna('')\n",
        "train['text'] = train['text']+ ' ' +train['author']\n",
        "test['text'] = test['text']+ ' ' +test['author']\n",
        "train_data, train_labels = process_train_data(train)\n",
        "train['title_author'] = train['title'] + ' ' + train['author']\n",
        "test['title_author'] = test['title'] + ' ' + test['author']\n",
        "train['title_author'] = train['title_author'].apply(preprocess_text)\n",
        "test['title_author'] = test['title_author'].apply(preprocess_text)"
      ],
      "execution_count": 10,
      "outputs": []
    },
    {
      "cell_type": "markdown",
      "metadata": {
        "id": "PZV7H5Mex2fQ"
      },
      "source": [
        "The following word cloud shows the top words which constitute towards real or reliable articles. New York, time, donald, michael are some of the words which are part of relaible news articles.\n",
        "\n"
      ]
    },
    {
      "cell_type": "code",
      "metadata": {
        "colab": {
          "base_uri": "https://localhost:8080/",
          "height": 214
        },
        "id": "cyHNzdorVMsv",
        "outputId": "1ba00735-19fc-4007-9197-e8f3720a3a0c"
      },
      "source": [
        "wordcloud = WordCloud(background_color = 'white')\n",
        "wordcloud.generate(' '.join(train[train['label']==0]['title_author']))\n",
        "plt.imshow(wordcloud,interpolation = 'bilinear')\n",
        "plt.title('Real')\n",
        "plt.axis('off')\n",
        "plt.show()"
      ],
      "execution_count": 11,
      "outputs": [
        {
          "output_type": "display_data",
          "data": {
            "image/png": "[encoded data removed]",
            "text/plain": [
              "<Figure size 432x288 with 1 Axes>"
            ]
          },
          "metadata": {
            "tags": [],
            "needs_background": "light"
          }
        }
      ]
    },
    {
      "cell_type": "markdown",
      "metadata": {
        "id": "Os9hyemEyNkh"
      },
      "source": [
        "The following word cloud shows the top words which constitute towards fake or unreliable articles. Trump, Hillari, new, clinton are the top words which are part of fake news."
      ]
    },
    {
      "cell_type": "code",
      "metadata": {
        "colab": {
          "base_uri": "https://localhost:8080/",
          "height": 214
        },
        "id": "5ahLqPNNVB-i",
        "outputId": "ad5f58ee-ead1-4989-b6ca-54b51bbcad72"
      },
      "source": [
        "wordcloud = WordCloud(background_color = 'white')\n",
        "wordcloud.generate(' '.join(train[train['label']==1]['title_author']))\n",
        "plt.imshow(wordcloud,interpolation = 'bilinear')\n",
        "plt.title('Fake')\n",
        "plt.axis('off')\n",
        "plt.show()"
      ],
      "execution_count": 12,
      "outputs": [
        {
          "output_type": "display_data",
          "data": {
            "image/png": "[encoded data removed]",
            "text/plain": [
              "<Figure size 432x288 with 1 Axes>"
            ]
          },
          "metadata": {
            "tags": [],
            "needs_background": "light"
          }
        }
      ]
    },
    {
      "cell_type": "markdown",
      "metadata": {
        "id": "F7U40351y0Yc"
      },
      "source": [
        "We can see that the training dataset has equal number of fake news articles and real news articles. There are over 10000 news articles for both the labels."
      ]
    },
    {
      "cell_type": "code",
      "metadata": {
        "colab": {
          "base_uri": "https://localhost:8080/",
          "height": 330
        },
        "id": "l5A58s4Uaoc5",
        "outputId": "4ab45da9-6706-4907-c631-6c859b29d817"
      },
      "source": [
        "class_names = [\"Real\", \"Fake\"]\n",
        "plt.hist(train.label)\n",
        "plt.xlabel(\"Labels\")\n",
        "plt.ylabel(\"Count\")\n",
        "plt.xticks(ticks=sorted(train.label.unique()), labels=class_names)"
      ],
      "execution_count": 13,
      "outputs": [
        {
          "output_type": "execute_result",
          "data": {
            "text/plain": [
              "([<matplotlib.axis.XTick at 0x7fbd3bde1950>,\n",
              "  <matplotlib.axis.XTick at 0x7fbd3bde18d0>],\n",
              " [Text(0, 0, 'Real'), Text(0, 0, 'Fake')])"
            ]
          },
          "metadata": {
            "tags": []
          },
          "execution_count": 13
        },
        {
          "output_type": "display_data",
          "data": {
            "image/png": "[encoded data removed]",
            "text/plain": [
              "<Figure size 432x288 with 1 Axes>"
            ]
          },
          "metadata": {
            "tags": [],
            "needs_background": "light"
          }
        }
      ]
    },
    {
      "cell_type": "code",
      "metadata": {
        "colab": {
          "base_uri": "https://localhost:8080/",
          "height": 389
        },
        "id": "rTiCbMBRm9cq",
        "outputId": "975b5112-75e3-43d8-a97f-ca028db76874"
      },
      "source": [
        "text_lengths = []\n",
        "for content in train_data:\n",
        "    text_lengths.append(len(str(content)))\n",
        "\n",
        "plt.plot(text_lengths)\n",
        "plt.title('Length of Articles')\n",
        "plt.xlabel('Length')\n",
        "plt.ylabel('Count')"
      ],
      "execution_count": 43,
      "outputs": [
        {
          "output_type": "execute_result",
          "data": {
            "text/plain": [
              "Text(0, 0.5, 'Count')"
            ]
          },
          "metadata": {
            "tags": []
          },
          "execution_count": 43
        },
        {
          "output_type": "display_data",
          "data": {
            "image/png": "[encoded data removed]",
            "text/plain": [
              "<Figure size 720x360 with 1 Axes>"
            ]
          },
          "metadata": {
            "tags": []
          }
        }
      ]
    },
    {
      "cell_type": "code",
      "metadata": {
        "id": "0_80YYn4nsBr"
      },
      "source": [
        "train_labels = torch.tensor(list(train_labels))"
      ],
      "execution_count": 16,
      "outputs": []
    },
    {
      "cell_type": "code",
      "metadata": {
        "id": "OeoXESt_o8nE"
      },
      "source": [
        "def train_validation_split(input_ids, attention_masks, labels):\n",
        "  dataset = TensorDataset(input_ids, attention_masks, labels)\n",
        "  train_size = int(0.9 * len(dataset))\n",
        "  val_size = len(dataset) - train_size\n",
        "\n",
        "  train_dataset, val_dataset = random_split(dataset, [train_size, val_size])\n",
        "  return train_dataset, val_dataset"
      ],
      "execution_count": 17,
      "outputs": []
    },
    {
      "cell_type": "code",
      "metadata": {
        "id": "T1wz8r68883k"
      },
      "source": [
        "def flat_accuracy(preds, labels):\n",
        "    pred_flat = np.argmax(preds, axis = 1).flatten()\n",
        "    labels_flat = labels.flatten()\n",
        "    return np.sum(pred_flat == labels_flat) / len(labels_flat)"
      ],
      "execution_count": 18,
      "outputs": []
    },
    {
      "cell_type": "code",
      "metadata": {
        "id": "K7l8DD1d8_X_"
      },
      "source": [
        "def format_time(elapsed):\n",
        "    elapsed_rounded = int(round(elapsed))\n",
        "    return str(datetime.timedelta(seconds = elapsed_rounded))"
      ],
      "execution_count": 19,
      "outputs": []
    },
    {
      "cell_type": "code",
      "metadata": {
        "colab": {
          "base_uri": "https://localhost:8080/"
        },
        "id": "py8S9VO1LErC",
        "outputId": "265d4ee4-be46-41c4-b49f-b449c60c7057"
      },
      "source": [
        "# If there's a GPU available...\n",
        "if torch.cuda.is_available():       \n",
        "    device = torch.device(\"cuda\")\n",
        "    print('%s GPU(s) available.' % torch.cuda.device_count())\n",
        "    print('Using GPU:', torch.cuda.get_device_name(0))\n",
        "else:\n",
        "    print('No GPU available, using CPU.')\n",
        "    device = torch.device(\"cpu\")"
      ],
      "execution_count": 20,
      "outputs": [
        {
          "output_type": "stream",
          "text": [
            "1 GPU(s) available.\n",
            "Using GPU: Tesla T4\n"
          ],
          "name": "stdout"
        }
      ]
    },
    {
      "cell_type": "markdown",
      "metadata": {
        "id": "ersyjz5s0DMT"
      },
      "source": [
        "## **3 Data Preprocessing**"
      ]
    },
    {
      "cell_type": "markdown",
      "metadata": {
        "id": "dGiUgsBzzJIJ"
      },
      "source": [
        "We use pre-trained transformer models to convert the words into token sequence so that the transformer models can understand. We use the encode_plus() method to tokenize data which returns input ids and attention mask.\n",
        "<br>\n",
        "BERT tokenizer uses special token [CLS] at the start of each sequence and [SEP] token to separate between two sentences.\n",
        "\n"
      ]
    },
    {
      "cell_type": "code",
      "metadata": {
        "id": "OJa6ZJXpnwhC"
      },
      "source": [
        "def tokenize_data(data, tokenizer_class, pretrained_weights, max_length=256):\n",
        "  input_ids = []\n",
        "  attention_masks = []\n",
        "  tokenizer = tokenizer_class.from_pretrained(pretrained_weights)\n",
        "  for content in data:\n",
        "      encoded_dict = tokenizer.encode_plus(\n",
        "                          content,\n",
        "                          add_special_tokens = True,\n",
        "                          max_length = max_length,\n",
        "                          pad_to_max_length = True,\n",
        "                          return_attention_mask = True,\n",
        "                          return_tensors = 'pt',\n",
        "                    )\n",
        "      \n",
        "      input_ids.append(encoded_dict['input_ids'])      \n",
        "      attention_masks.append(encoded_dict['attention_mask'])\n",
        "\n",
        "  input_ids = torch.cat(input_ids, dim=0)\n",
        "  attention_masks = torch.cat(attention_masks, dim=0)\n",
        "\n",
        "  return input_ids, attention_masks"
      ],
      "execution_count": 21,
      "outputs": []
    },
    {
      "cell_type": "code",
      "metadata": {
        "id": "TN5lOxqaiCFe"
      },
      "source": [
        "def test_submission_file(pred, filename):\n",
        "  final_sub = pd.DataFrame()\n",
        "  final_sub['id']=test['id']\n",
        "  final_sub['label'] = pred\n",
        "  final_sub.to_csv(filename,index=False)"
      ],
      "execution_count": 22,
      "outputs": []
    },
    {
      "cell_type": "code",
      "metadata": {
        "id": "FBrKPTuvmUN3"
      },
      "source": [
        "def test_predict(model, data, tokenizer_class, pretrained_weights, batch_size=BATCH_SIZE):\n",
        "  input_ids, attention_masks = tokenize_data(data, tokenizer_class, pretrained_weights)\n",
        "  dataset = TensorDataset(input_ids, attention_masks)\n",
        "  pred_dataloader = DataLoader(\n",
        "                      dataset, \n",
        "                      sampler = SequentialSampler(dataset), \n",
        "                      batch_size = batch_size \n",
        "                      )\n",
        "  preds = []\n",
        "  for batch in pred_dataloader:\n",
        "      batch = tuple(t.to(device) for t in batch)\n",
        "      batch_input_ids, batch_input_mask = batch\n",
        "      \n",
        "      with torch.no_grad():\n",
        "          outputs = model(batch_input_ids,\n",
        "                        attention_mask = batch_input_mask)\n",
        "      logits = outputs[0]\n",
        "      \n",
        "      logits = logits.detach().cpu().numpy()\n",
        "      preds.append(logits)\n",
        "\n",
        "  flat_preds = [item for sublist in preds for item in sublist]\n",
        "  flat_preds = np.argmax(flat_preds, axis=1).flatten()\n",
        "  return flat_preds\n"
      ],
      "execution_count": 23,
      "outputs": []
    },
    {
      "cell_type": "markdown",
      "metadata": {
        "id": "fR74KQv11SnG"
      },
      "source": [
        "# **4. Training**"
      ]
    },
    {
      "cell_type": "markdown",
      "metadata": {
        "id": "hSmuXZum1tCG"
      },
      "source": [
        "In order to train our models, we use the AdamW optimizer with learning rate of 2e-5 and adam epsilon of 1e-8. We also use a scheduler with no warmups.  We make use cross entropy loss to compute the loss as this is a classification problem. We fine-tune the models by running the training step for 5 epochs."
      ]
    },
    {
      "cell_type": "code",
      "metadata": {
        "id": "rE8_C9__8YA4"
      },
      "source": [
        "def train_model(train_dataloader, validation_dataloader, model, optimizer, scheduler, epochs=EPOCHS):\n",
        "  seed_val = 42\n",
        "\n",
        "  random.seed(seed_val)\n",
        "  np.random.seed(seed_val)\n",
        "  torch.manual_seed(seed_val)\n",
        "  torch.cuda.manual_seed_all(seed_val)\n",
        "\n",
        "  loss_values = []\n",
        "\n",
        "  for epoch in range(epochs):\n",
        "      print(\"Epoch {} / {}\".format(epoch + 1, epochs))\n",
        "      print(\"Training step:\")\n",
        "      start_time = time.time()\n",
        "      total_loss = 0\n",
        "      model.train()\n",
        "      for step, batch in enumerate(train_dataloader):              \n",
        "          batch_input_ids  = batch[0].to(device)\n",
        "          batch_input_mask = batch[1].to(device)\n",
        "          batch_labels = batch[2].to(device)\n",
        "          \n",
        "          model.zero_grad()\n",
        "          \n",
        "          outputs = model(batch_input_ids,\n",
        "                        attention_mask = batch_input_mask,\n",
        "                        labels = batch_labels)\n",
        "          \n",
        "          loss = outputs[0]\n",
        "          \n",
        "          total_loss += loss.item()\n",
        "          \n",
        "          loss.backward()\n",
        "          \n",
        "          torch.nn.utils.clip_grad_norm_(model.parameters(), 1.0)\n",
        "          optimizer.step()\n",
        "          scheduler.step()\n",
        "          \n",
        "      avg_train_loss = total_loss / len(train_dataloader)\n",
        "      loss_values.append(avg_train_loss)\n",
        "      \n",
        "      print(\" Average training loss: {}\".format(avg_train_loss))\n",
        "      print(\" Training epoch took: {:}\".format(format_time(time.time() - start_time)))\n",
        "\n",
        "      print()\n",
        "      print(\"Validation step:\")\n",
        "      model.eval()\n",
        "      val_accuracy = 0\n",
        "      val_steps = 0 \n",
        "      for batch in validation_dataloader:\n",
        "          batch = tuple(t.to(device) for t in batch)\n",
        "          batch_input_ids, batch_input_mask, batch_labels = batch\n",
        "          \n",
        "          with torch.no_grad():\n",
        "              outputs = model(batch_input_ids,\n",
        "                            attention_mask = batch_input_mask)\n",
        "          logits = outputs[0]\n",
        "          \n",
        "          logits = logits.detach().cpu().numpy()\n",
        "          true_labels = batch_labels.to('cpu').numpy()\n",
        "          \n",
        "          tmp_eval_accuracy = flat_accuracy(logits, true_labels)\n",
        "          \n",
        "          eval_accuracy += tmp_eval_accuracy\n",
        "          \n",
        "          val_steps += 1\n",
        "      \n",
        "      print(\" Accuracy: {}\".format(val_accuracy/val_steps))\n",
        "      print(\" Validation took: {:}\".format(format_time(time.time() - start_time)))\n",
        "      print()\n",
        "  return loss_values"
      ],
      "execution_count": 24,
      "outputs": []
    },
    {
      "cell_type": "markdown",
      "metadata": {
        "id": "AXYljnrq2gwX"
      },
      "source": [
        "**4.1.  BERT Model**\n",
        "<br>\n",
        "We use the bert-base-cased pre-trained model for transfer learning.\n",
        "\n"
      ]
    },
    {
      "cell_type": "code",
      "metadata": {
        "id": "5Y-EWPTWH-y8"
      },
      "source": [
        "def bert_model_train(data, learning_rate, adam_epsilon, epochs=EPOCHS, batch_size=BATCH_SIZE):\n",
        "\n",
        "  input_ids, attention_masks = tokenize_data(data, BertTokenizer, BERT_PRE_TRAINED_MODEL_NAME, max_length=256)\n",
        "  model = BertForSequenceClassification.from_pretrained(\n",
        "            BERT_PRE_TRAINED_MODEL_NAME,\n",
        "            num_labels = 2,\n",
        "            output_attentions = False, \n",
        "            output_hidden_states = False, \n",
        "            )\n",
        "  model.cuda()\n",
        "\n",
        "  train_dataset, val_dataset = train_validation_split(input_ids, attention_masks, train_labels)\n",
        "\n",
        "  train_dataloader = DataLoader(\n",
        "                      train_dataset,\n",
        "                      sampler = RandomSampler(train_dataset), \n",
        "                      batch_size = batch_size \n",
        "                      )\n",
        "\n",
        "  validation_dataloader = DataLoader(\n",
        "                            val_dataset, \n",
        "                            sampler = SequentialSampler(val_dataset), \n",
        "                            batch_size = batch_size \n",
        "                            )\n",
        "  \n",
        "  optimizer = AdamW(model.parameters(), lr = learning_rate, eps = adam_epsilon)\n",
        "  total_steps = len(train_dataloader)*epochs\n",
        "\n",
        "  scheduler = get_linear_schedule_with_warmup(optimizer, num_warmup_steps = 0, num_training_steps = total_steps)\n",
        "\n",
        "  loss = train_model(train_dataloader, validation_dataloader, model, optimizer, scheduler, epochs)\n",
        "  torch.save(model, \"BERT_Model\")\n",
        "\n",
        "  return loss "
      ],
      "execution_count": 25,
      "outputs": []
    },
    {
      "cell_type": "markdown",
      "metadata": {
        "id": "u2Vfy_C2278Z"
      },
      "source": [
        "**4.2.  DistilBERT Model**\n",
        "<br>\n",
        "We use the distilbert-base-cased pre-trained model for transfer learning."
      ]
    },
    {
      "cell_type": "code",
      "metadata": {
        "id": "YhAMJ-DoZ_1O"
      },
      "source": [
        "def distilbert_model_train(data, learning_rate, adam_epsilon, epochs=EPOCHS, batch_size=BATCH_SIZE):\n",
        "\n",
        "  input_ids, attention_masks = tokenize_data(data, DistilBertTokenizer, DISTILBERT_PRE_TRAINED_MODEL_NAME, max_length=256)\n",
        "  model = DistilBertForSequenceClassification.from_pretrained(\n",
        "            DISTILBERT_PRE_TRAINED_MODEL_NAME,\n",
        "            num_labels = 2,\n",
        "            output_attentions = False, \n",
        "            output_hidden_states = False, \n",
        "            )\n",
        "  model.cuda()\n",
        "\n",
        "  train_dataset, val_dataset = train_validation_split(input_ids, attention_masks, train_labels)\n",
        "\n",
        "  train_dataloader = DataLoader(\n",
        "                      train_dataset,\n",
        "                      sampler = RandomSampler(train_dataset), \n",
        "                      batch_size = batch_size \n",
        "                      )\n",
        "\n",
        "  validation_dataloader = DataLoader(\n",
        "                            val_dataset, \n",
        "                            sampler = SequentialSampler(val_dataset), \n",
        "                            batch_size = batch_size \n",
        "                            )\n",
        "  \n",
        "  optimizer = AdamW(model.parameters(), lr = learning_rate, eps = adam_epsilon)\n",
        "  total_steps = len(train_dataloader)*epochs\n",
        "\n",
        "  scheduler = get_linear_schedule_with_warmup(optimizer, num_warmup_steps = 0, num_training_steps = total_steps)\n",
        "\n",
        "  loss = train_model(train_dataloader, validation_dataloader, model, optimizer, scheduler, epochs)\n",
        "  torch.save(model, \"DistilBERT_Model\")\n",
        "  return loss "
      ],
      "execution_count": 26,
      "outputs": []
    },
    {
      "cell_type": "markdown",
      "metadata": {
        "id": "PKHk4GwP3HDB"
      },
      "source": [
        "**4.2.  RoBERTa Model**\n",
        "<br>\n",
        "We use the roberta-base pre-trained model for transfer learning."
      ]
    },
    {
      "cell_type": "code",
      "metadata": {
        "id": "vIUd1CV2arZM"
      },
      "source": [
        "def roberta_model_train(data, learning_rate, adam_epsilon, epochs=EPOCHS, batch_size=BATCH_SIZE):\n",
        "  input_ids, attention_masks = tokenize_data(data, RobertaTokenizer, ROBERTA_PRE_TRAINED_MODEL_NAME, max_length=256)\n",
        "  model = RobertaForSequenceClassification.from_pretrained(\n",
        "            ROBERTA_PRE_TRAINED_MODEL_NAME,\n",
        "            num_labels = 2,\n",
        "            output_attentions = False, \n",
        "            output_hidden_states = False, \n",
        "            )\n",
        "  model.cuda()\n",
        "\n",
        "  train_dataset, val_dataset = train_validation_split(input_ids, attention_masks, train_labels)\n",
        "\n",
        "  train_dataloader = DataLoader(\n",
        "                      train_dataset,\n",
        "                      sampler = RandomSampler(train_dataset), \n",
        "                      batch_size = batch_size \n",
        "                      )\n",
        "\n",
        "  validation_dataloader = DataLoader(\n",
        "                            val_dataset, \n",
        "                            sampler = SequentialSampler(val_dataset), \n",
        "                            batch_size = batch_size \n",
        "                            )\n",
        "  \n",
        "  optimizer = AdamW(model.parameters(), lr = learning_rate, eps = adam_epsilon)\n",
        "  total_steps = len(train_dataloader)*epochs\n",
        "\n",
        "  scheduler = get_linear_schedule_with_warmup(optimizer, num_warmup_steps = 0, num_training_steps = total_steps)\n",
        "\n",
        "  loss = train_model(train_dataloader, validation_dataloader, model, optimizer, scheduler, epochs)\n",
        "  torch.save(model, \"RoBERTa_Model\")\n",
        "  return loss "
      ],
      "execution_count": 27,
      "outputs": []
    },
    {
      "cell_type": "code",
      "metadata": {
        "colab": {
          "base_uri": "https://localhost:8080/",
          "height": 979,
          "referenced_widgets": [
            "85a3652d768e4c73887700341d8e8ee9",
            "887f58737b85443baf1fc0920d4a5beb",
            "a2c791418e3f4ddca5aae10950129b5a",
            "f2709e213c6b4db29f8785fccbd8d34e",
            "6c0a992d31dc4ba9abb1130e695a0c74",
            "c3b460d6d6124e0ba7bca04aab8eeeca",
            "1d371e9383e145aaab0d949a1dd128e3",
            "1684e7f672524815a90992a63022c9ba",
            "05ed0361fbfa45bf98248f6c7b8a2748",
            "a9ee6c8eb4714c9cbb2341110bfc00ac",
            "58ed6d2e3241491bac1c78334043af0e",
            "07ab669dda724cccbf4e1f370cf8f162",
            "5f06102e765846e5aac7c5effa59e297",
            "de9e3818152a4d24a69d6072a67e46c5",
            "045856e07b2f41d5bad6475f89af6694",
            "a23ad8bd4c2444e5be70d648b09b8410",
            "da883b0ad04b43db9e9f12d0747ea410",
            "fe5766be04784e9ca77a8db00d131a06",
            "23524a9eaa3140fd9c212a1580fd392c",
            "86978be0227343fd8db84457c2981c7f",
            "b045acace30c4cea8797891e34d1634b",
            "7a838817f5f347b0aa203ce4553fafb2",
            "0d308438d6e145c9b299fd99894cfc40",
            "61658bbc204c4e98a30c90846ee590ed",
            "8d05cd42b8a841aeb7a5ad86e4675bae",
            "b9c74f797f114955883712ea3e933b83",
            "9e21a4da81bf4231820290a9deee7263",
            "abd3ff0f8e9c447a88c77f9bb4f746af",
            "c14b7534cb6b40f5bb879af896941451",
            "8fb5b8348f6f4bde9c1575ecb1cab47d",
            "95efd771912c4767891916d5eb5a0b52",
            "bccb706bc0bc49ed80aa77bbe202f519",
            "930333a530654dcaab20578d8962e2eb",
            "3af58040251f4054bfcc0d2c892685dd",
            "faf9bc0b8c384ec184b284ff35ce0df6",
            "d00e17c40b2c439089aed974ac172f10",
            "c254a9ca33a943a39d17f6131c7ca599",
            "d8b5e22636cb41b794f2c535e2282ed2",
            "4875a68e0730470e9db9a8f9fe1293dd",
            "cc3626f3e7584c30a5d94235849e64d1"
          ]
        },
        "id": "wGoHl6I1OOU6",
        "outputId": "65c27e33-eaed-4e03-e3a7-a839762a4591"
      },
      "source": [
        "bert_loss = bert_model_train(train_data, learning_rate=2e-5, adam_epsilon=1e-8, epochs=EPOCHS, batch_size=BATCH_SIZE)"
      ],
      "execution_count": 28,
      "outputs": [
        {
          "output_type": "display_data",
          "data": {
            "application/vnd.jupyter.widget-view+json": {
              "model_id": "85a3652d768e4c73887700341d8e8ee9",
              "version_minor": 0,
              "version_major": 2
            },
            "text/plain": [
              "HBox(children=(FloatProgress(value=0.0, description='Downloading', max=213450.0, style=ProgressStyle(descripti…"
            ]
          },
          "metadata": {
            "tags": []
          }
        },
        {
          "output_type": "stream",
          "text": [
            "\n"
          ],
          "name": "stdout"
        },
        {
          "output_type": "display_data",
          "data": {
            "application/vnd.jupyter.widget-view+json": {
              "model_id": "05ed0361fbfa45bf98248f6c7b8a2748",
              "version_minor": 0,
              "version_major": 2
            },
            "text/plain": [
              "HBox(children=(FloatProgress(value=0.0, description='Downloading', max=29.0, style=ProgressStyle(description_w…"
            ]
          },
          "metadata": {
            "tags": []
          }
        },
        {
          "output_type": "stream",
          "text": [
            "\n"
          ],
          "name": "stdout"
        },
        {
          "output_type": "display_data",
          "data": {
            "application/vnd.jupyter.widget-view+json": {
              "model_id": "da883b0ad04b43db9e9f12d0747ea410",
              "version_minor": 0,
              "version_major": 2
            },
            "text/plain": [
              "HBox(children=(FloatProgress(value=0.0, description='Downloading', max=435797.0, style=ProgressStyle(descripti…"
            ]
          },
          "metadata": {
            "tags": []
          }
        },
        {
          "output_type": "stream",
          "text": [
            "Truncation was not explicitly activated but `max_length` is provided a specific value, please use `truncation=True` to explicitly truncate examples to max length. Defaulting to 'longest_first' truncation strategy. If you encode pairs of sequences (GLUE-style) with the tokenizer you can select this strategy more precisely by providing a specific strategy to `truncation`.\n"
          ],
          "name": "stderr"
        },
        {
          "output_type": "stream",
          "text": [
            "\n"
          ],
          "name": "stdout"
        },
        {
          "output_type": "display_data",
          "data": {
            "application/vnd.jupyter.widget-view+json": {
              "model_id": "8d05cd42b8a841aeb7a5ad86e4675bae",
              "version_minor": 0,
              "version_major": 2
            },
            "text/plain": [
              "HBox(children=(FloatProgress(value=0.0, description='Downloading', max=570.0, style=ProgressStyle(description_…"
            ]
          },
          "metadata": {
            "tags": []
          }
        },
        {
          "output_type": "stream",
          "text": [
            "\n"
          ],
          "name": "stdout"
        },
        {
          "output_type": "display_data",
          "data": {
            "application/vnd.jupyter.widget-view+json": {
              "model_id": "930333a530654dcaab20578d8962e2eb",
              "version_minor": 0,
              "version_major": 2
            },
            "text/plain": [
              "HBox(children=(FloatProgress(value=0.0, description='Downloading', max=435779157.0, style=ProgressStyle(descri…"
            ]
          },
          "metadata": {
            "tags": []
          }
        },
        {
          "output_type": "stream",
          "text": [
            "\n"
          ],
          "name": "stdout"
        },
        {
          "output_type": "stream",
          "text": [
            "Some weights of the model checkpoint at bert-base-cased were not used when initializing BertForSequenceClassification: ['cls.seq_relationship.bias', 'cls.predictions.transform.LayerNorm.bias', 'cls.predictions.transform.dense.bias', 'cls.predictions.bias', 'cls.seq_relationship.weight', 'cls.predictions.transform.dense.weight', 'cls.predictions.transform.LayerNorm.weight', 'cls.predictions.decoder.weight']\n",
            "- This IS expected if you are initializing BertForSequenceClassification from the checkpoint of a model trained on another task or with another architecture (e.g. initializing a BertForSequenceClassification model from a BertForPreTraining model).\n",
            "- This IS NOT expected if you are initializing BertForSequenceClassification from the checkpoint of a model that you expect to be exactly identical (initializing a BertForSequenceClassification model from a BertForSequenceClassification model).\n",
            "Some weights of BertForSequenceClassification were not initialized from the model checkpoint at bert-base-cased and are newly initialized: ['classifier.bias', 'classifier.weight']\n",
            "You should probably TRAIN this model on a down-stream task to be able to use it for predictions and inference.\n"
          ],
          "name": "stderr"
        },
        {
          "output_type": "stream",
          "text": [
            "Epoch 1 / 4\n",
            "\n",
            " Average training loss: 0.11870470245400619\n",
            " Training epoch took: 0:03:39\n",
            "\n",
            "Running validation...\n",
            " Accuracy: 0.9798076923076923\n",
            " Validation took: 0:03:47\n",
            "Epoch 2 / 4\n",
            "\n",
            " Average training loss: 0.0339626674576161\n",
            " Training epoch took: 0:03:44\n",
            "\n",
            "Running validation...\n",
            " Accuracy: 0.9899038461538462\n",
            " Validation took: 0:03:52\n",
            "Epoch 3 / 4\n",
            "\n",
            " Average training loss: 0.00876194809712211\n",
            " Training epoch took: 0:03:43\n",
            "\n",
            "Running validation...\n",
            " Accuracy: 0.9879807692307693\n",
            " Validation took: 0:03:51\n",
            "Epoch 4 / 4\n",
            "\n",
            " Average training loss: 0.0027395234932975233\n",
            " Training epoch took: 0:03:43\n",
            "\n",
            "Running validation...\n",
            " Accuracy: 0.9884615384615385\n",
            " Validation took: 0:03:51\n",
            "Training complete!\n",
            " Validation Accuracy = 0.9884615384615385\n",
            "\n"
          ],
          "name": "stdout"
        }
      ]
    },
    {
      "cell_type": "code",
      "metadata": {
        "colab": {
          "base_uri": "https://localhost:8080/",
          "height": 979,
          "referenced_widgets": [
            "32089a0b56644791980efce563358372",
            "9966bd1054ed4e029eb2542b0bff5388",
            "28b55a09e0b44637b2a8b09c98eac51a",
            "85156fad48f242f7b216b2bb37ab1098",
            "7812fa93674242f3a13e510a350abe5b",
            "5d86ded5efc645d993ec92bf8eac44af",
            "ca99075a49284ad18e693b8e362ab301",
            "8e825e2489e348318cbc3d18ebdd1945",
            "80b8d7b0b8f34471ba60b5d05de66440",
            "c9da7338480f4f55aea973b3ff3deb03",
            "48224e2fd8ba40b19e407bf86c78cae8",
            "841cd5952d70455f8b6ebff7d5e692c1",
            "628c8cfef244412ea41f7fcb0ab6ac22",
            "be7e08d429214ac29bcf6649f284aa1f",
            "eae2191cbe05467da6cd2f701c3126bf",
            "e4f7375048e44730918181bc5f87be15",
            "49d036cd75234f4abe5aef169960278a",
            "b715acc30bed43b1a62827ef9a7ddd4b",
            "7ea924e52b084b4797f005b358dca585",
            "1145e886d06b4fe592e0cd4aae988571",
            "32a29c78eb2f4bd3bbf6924153105d57",
            "f4dddfa9f92b4eb0b1467bfe92f5e8ca",
            "62a7d904222741739b04ffdda85c62d6",
            "39bc3d19af6942bd87753d05380ad2ea",
            "78e4a24c523b4b53beca400e0948a199",
            "a53ba4e1bd054537a489d93f4c70c760",
            "93eff2e5549342cf8654633f38a02288",
            "bc6237ce8df741cf8e736d0bd6f6cdf2",
            "ce1a9e2109a74b5da9919fbe3ea921b8",
            "11d60edc0d4d44308bb431f1eced2f42",
            "2d193ce92d004a76a398dbd31a53f215",
            "6abc60bf1a574b8581a6d85336a4f266",
            "55106d978f614c2884b1b5d9e3ae6cbd",
            "0662be411734498ea4caa6ae28c0a032",
            "7fb7a6e6fb0d42d98bf5e8638818dab8",
            "26ce5097726b49d3a2c74e8c3ceabd96",
            "54a91afe0a6e460ca8c1bdc4710da465",
            "d06e22f1895643aa84f8d6afabcb248f",
            "2215ebeebd8d4ed0a33edc6888b5899b",
            "0b972f1a6b274981928f3fd08d3063bc"
          ]
        },
        "id": "eXbPGB5hafJn",
        "outputId": "ca0e73da-4b87-4ef1-ea19-33e4b6501846"
      },
      "source": [
        "distilbert_loss = distilbert_model_train(train_data, learning_rate=2e-5, adam_epsilon=1e-8, epochs=EPOCHS, batch_size=BATCH_SIZE)"
      ],
      "execution_count": 29,
      "outputs": [
        {
          "output_type": "display_data",
          "data": {
            "application/vnd.jupyter.widget-view+json": {
              "model_id": "32089a0b56644791980efce563358372",
              "version_minor": 0,
              "version_major": 2
            },
            "text/plain": [
              "HBox(children=(FloatProgress(value=0.0, description='Downloading', max=213450.0, style=ProgressStyle(descripti…"
            ]
          },
          "metadata": {
            "tags": []
          }
        },
        {
          "output_type": "stream",
          "text": [
            "\n"
          ],
          "name": "stdout"
        },
        {
          "output_type": "display_data",
          "data": {
            "application/vnd.jupyter.widget-view+json": {
              "model_id": "80b8d7b0b8f34471ba60b5d05de66440",
              "version_minor": 0,
              "version_major": 2
            },
            "text/plain": [
              "HBox(children=(FloatProgress(value=0.0, description='Downloading', max=29.0, style=ProgressStyle(description_w…"
            ]
          },
          "metadata": {
            "tags": []
          }
        },
        {
          "output_type": "stream",
          "text": [
            "\n"
          ],
          "name": "stdout"
        },
        {
          "output_type": "display_data",
          "data": {
            "application/vnd.jupyter.widget-view+json": {
              "model_id": "49d036cd75234f4abe5aef169960278a",
              "version_minor": 0,
              "version_major": 2
            },
            "text/plain": [
              "HBox(children=(FloatProgress(value=0.0, description='Downloading', max=435797.0, style=ProgressStyle(descripti…"
            ]
          },
          "metadata": {
            "tags": []
          }
        },
        {
          "output_type": "stream",
          "text": [
            "Truncation was not explicitly activated but `max_length` is provided a specific value, please use `truncation=True` to explicitly truncate examples to max length. Defaulting to 'longest_first' truncation strategy. If you encode pairs of sequences (GLUE-style) with the tokenizer you can select this strategy more precisely by providing a specific strategy to `truncation`.\n"
          ],
          "name": "stderr"
        },
        {
          "output_type": "stream",
          "text": [
            "\n"
          ],
          "name": "stdout"
        },
        {
          "output_type": "display_data",
          "data": {
            "application/vnd.jupyter.widget-view+json": {
              "model_id": "78e4a24c523b4b53beca400e0948a199",
              "version_minor": 0,
              "version_major": 2
            },
            "text/plain": [
              "HBox(children=(FloatProgress(value=0.0, description='Downloading', max=411.0, style=ProgressStyle(description_…"
            ]
          },
          "metadata": {
            "tags": []
          }
        },
        {
          "output_type": "stream",
          "text": [
            "\n"
          ],
          "name": "stdout"
        },
        {
          "output_type": "display_data",
          "data": {
            "application/vnd.jupyter.widget-view+json": {
              "model_id": "55106d978f614c2884b1b5d9e3ae6cbd",
              "version_minor": 0,
              "version_major": 2
            },
            "text/plain": [
              "HBox(children=(FloatProgress(value=0.0, description='Downloading', max=263273408.0, style=ProgressStyle(descri…"
            ]
          },
          "metadata": {
            "tags": []
          }
        },
        {
          "output_type": "stream",
          "text": [
            "\n"
          ],
          "name": "stdout"
        },
        {
          "output_type": "stream",
          "text": [
            "Some weights of the model checkpoint at distilbert-base-cased were not used when initializing DistilBertForSequenceClassification: ['vocab_projector.weight', 'vocab_layer_norm.bias', 'vocab_transform.weight', 'vocab_layer_norm.weight', 'vocab_projector.bias', 'vocab_transform.bias']\n",
            "- This IS expected if you are initializing DistilBertForSequenceClassification from the checkpoint of a model trained on another task or with another architecture (e.g. initializing a BertForSequenceClassification model from a BertForPreTraining model).\n",
            "- This IS NOT expected if you are initializing DistilBertForSequenceClassification from the checkpoint of a model that you expect to be exactly identical (initializing a BertForSequenceClassification model from a BertForSequenceClassification model).\n",
            "Some weights of DistilBertForSequenceClassification were not initialized from the model checkpoint at distilbert-base-cased and are newly initialized: ['classifier.bias', 'pre_classifier.weight', 'classifier.weight', 'pre_classifier.bias']\n",
            "You should probably TRAIN this model on a down-stream task to be able to use it for predictions and inference.\n"
          ],
          "name": "stderr"
        },
        {
          "output_type": "stream",
          "text": [
            "Epoch 1 / 4\n",
            "\n",
            " Average training loss: 0.12926575552381606\n",
            " Training epoch took: 0:01:53\n",
            "\n",
            "Running validation...\n",
            " Accuracy: 0.9778846153846154\n",
            " Validation took: 0:01:57\n",
            "Epoch 2 / 4\n",
            "\n",
            " Average training loss: 0.04070978038541328\n",
            " Training epoch took: 0:01:52\n",
            "\n",
            "Running validation...\n",
            " Accuracy: 0.9802884615384615\n",
            " Validation took: 0:01:56\n",
            "Epoch 3 / 4\n",
            "\n",
            " Average training loss: 0.014349505256311212\n",
            " Training epoch took: 0:01:51\n",
            "\n",
            "Running validation...\n",
            " Accuracy: 0.9865384615384616\n",
            " Validation took: 0:01:55\n",
            "Epoch 4 / 4\n",
            "\n",
            " Average training loss: 0.004429170209989071\n",
            " Training epoch took: 0:01:51\n",
            "\n",
            "Running validation...\n",
            " Accuracy: 0.9879807692307693\n",
            " Validation took: 0:01:55\n",
            "Training complete!\n",
            " Validation Accuracy = 0.9879807692307693\n",
            "\n"
          ],
          "name": "stdout"
        }
      ]
    },
    {
      "cell_type": "code",
      "metadata": {
        "colab": {
          "base_uri": "https://localhost:8080/",
          "height": 979,
          "referenced_widgets": [
            "1fac1baaefd647a9b7562f06923712c1",
            "7909178dde9347d18693e8fc65d3990a",
            "564946c974f34283a3b84c1179861fab",
            "80ade76ef38d48aa8fb71480d2ad569c",
            "b26beb7832a342e39040366103829eef",
            "59dfe2536a4a46e4a04e666e45e0460b",
            "6d4f4377f6eb44adaa9db37d8cabecc1",
            "8abf5c20a8ac472fa6203f204638284a",
            "2ef9fbf76a7044c3a9a3f8f4f1da5fbd",
            "a59f0976feb14980ae298b77d8a720db",
            "ee03b35354104a6f8526933c53e54bed",
            "19cd42395f6d41b29d3ad7157a54947d",
            "b33fba39ffed43f2ae959a44ee862f7b",
            "21cdeefbcb2e430988c06cb24b58d9b0",
            "4685b94694fc46fa92a897c1cc2980a4",
            "0d78be6447f04a0dabfdd6c27c4a887b",
            "9584f404cc1240b9a9bb785ddd4b31ff",
            "8ef9efe71b5b4858be421aecb820be9c",
            "0baae93638dd404dbdbf2bd2ad3cda17",
            "86a2b2ef175e40849d1f9fc3517f072f",
            "b0947ce6127c46ed87169a6cbf749c7d",
            "0d2d43ee4300446e94336b9b9c2f3b0b",
            "a01505aef06d443ca150f3d4973acaf4",
            "703098f6495d47339197e9d14fe11cda",
            "924f2e025bae42d2aa7b3e3bb98e159a",
            "ca440c1bd6d5439b95c26db28ee10e71",
            "3ff351daebc74444b266bc75ea20285d",
            "0e0591daa85c42e0b3b5ca1ad93cf9dd",
            "e5cd3de625b54f77a293d27e332224b9",
            "0eb44e0f981a45f68880b83c9ae915ef",
            "408cedf2a00249abba40a93efc17917b",
            "c7a42f878fd04df7a58da0dcf6d8dbc7",
            "d78c46988a914ff1a99c5ab5c11f74a1",
            "e8871fed3ae1463c9f33e1ec7bc5448b",
            "41b30cc969b44d04a8c54a8a51e7ed15",
            "c81d4491ae5d4609b43461b4f9c11ded",
            "8021fdd443a2479c80462cfaa78d3f84",
            "da9141319eeb4cd0918cb6ba4ac5554a",
            "36d4641a0dd24867abd3beb97e89ea32",
            "5f96f50b32904cdea694201c4e0b18ba"
          ]
        },
        "id": "oUMrqoYPa8sm",
        "outputId": "f9da9e07-9777-4bdb-be18-d74cadee5f41"
      },
      "source": [
        "roberta_loss = roberta_model_train(train_data, learning_rate=2e-5, adam_epsilon=1e-8, epochs=EPOCHS, batch_size=BATCH_SIZE)"
      ],
      "execution_count": 30,
      "outputs": [
        {
          "output_type": "display_data",
          "data": {
            "application/vnd.jupyter.widget-view+json": {
              "model_id": "1fac1baaefd647a9b7562f06923712c1",
              "version_minor": 0,
              "version_major": 2
            },
            "text/plain": [
              "HBox(children=(FloatProgress(value=0.0, description='Downloading', max=898823.0, style=ProgressStyle(descripti…"
            ]
          },
          "metadata": {
            "tags": []
          }
        },
        {
          "output_type": "stream",
          "text": [
            "\n"
          ],
          "name": "stdout"
        },
        {
          "output_type": "display_data",
          "data": {
            "application/vnd.jupyter.widget-view+json": {
              "model_id": "2ef9fbf76a7044c3a9a3f8f4f1da5fbd",
              "version_minor": 0,
              "version_major": 2
            },
            "text/plain": [
              "HBox(children=(FloatProgress(value=0.0, description='Downloading', max=456318.0, style=ProgressStyle(descripti…"
            ]
          },
          "metadata": {
            "tags": []
          }
        },
        {
          "output_type": "stream",
          "text": [
            "\n"
          ],
          "name": "stdout"
        },
        {
          "output_type": "display_data",
          "data": {
            "application/vnd.jupyter.widget-view+json": {
              "model_id": "9584f404cc1240b9a9bb785ddd4b31ff",
              "version_minor": 0,
              "version_major": 2
            },
            "text/plain": [
              "HBox(children=(FloatProgress(value=0.0, description='Downloading', max=1355863.0, style=ProgressStyle(descript…"
            ]
          },
          "metadata": {
            "tags": []
          }
        },
        {
          "output_type": "stream",
          "text": [
            "\n"
          ],
          "name": "stdout"
        },
        {
          "output_type": "stream",
          "text": [
            "Truncation was not explicitly activated but `max_length` is provided a specific value, please use `truncation=True` to explicitly truncate examples to max length. Defaulting to 'longest_first' truncation strategy. If you encode pairs of sequences (GLUE-style) with the tokenizer you can select this strategy more precisely by providing a specific strategy to `truncation`.\n"
          ],
          "name": "stderr"
        },
        {
          "output_type": "display_data",
          "data": {
            "application/vnd.jupyter.widget-view+json": {
              "model_id": "924f2e025bae42d2aa7b3e3bb98e159a",
              "version_minor": 0,
              "version_major": 2
            },
            "text/plain": [
              "HBox(children=(FloatProgress(value=0.0, description='Downloading', max=481.0, style=ProgressStyle(description_…"
            ]
          },
          "metadata": {
            "tags": []
          }
        },
        {
          "output_type": "stream",
          "text": [
            "\n"
          ],
          "name": "stdout"
        },
        {
          "output_type": "display_data",
          "data": {
            "application/vnd.jupyter.widget-view+json": {
              "model_id": "d78c46988a914ff1a99c5ab5c11f74a1",
              "version_minor": 0,
              "version_major": 2
            },
            "text/plain": [
              "HBox(children=(FloatProgress(value=0.0, description='Downloading', max=501200538.0, style=ProgressStyle(descri…"
            ]
          },
          "metadata": {
            "tags": []
          }
        },
        {
          "output_type": "stream",
          "text": [
            "\n"
          ],
          "name": "stdout"
        },
        {
          "output_type": "stream",
          "text": [
            "Some weights of the model checkpoint at roberta-base were not used when initializing RobertaForSequenceClassification: ['lm_head.bias', 'lm_head.dense.bias', 'roberta.pooler.dense.weight', 'lm_head.layer_norm.weight', 'roberta.pooler.dense.bias', 'lm_head.decoder.weight', 'lm_head.dense.weight', 'lm_head.layer_norm.bias']\n",
            "- This IS expected if you are initializing RobertaForSequenceClassification from the checkpoint of a model trained on another task or with another architecture (e.g. initializing a BertForSequenceClassification model from a BertForPreTraining model).\n",
            "- This IS NOT expected if you are initializing RobertaForSequenceClassification from the checkpoint of a model that you expect to be exactly identical (initializing a BertForSequenceClassification model from a BertForSequenceClassification model).\n",
            "Some weights of RobertaForSequenceClassification were not initialized from the model checkpoint at roberta-base and are newly initialized: ['classifier.dense.weight', 'classifier.out_proj.weight', 'classifier.out_proj.bias', 'classifier.dense.bias']\n",
            "You should probably TRAIN this model on a down-stream task to be able to use it for predictions and inference.\n"
          ],
          "name": "stderr"
        },
        {
          "output_type": "stream",
          "text": [
            "Epoch 1 / 4\n",
            "\n",
            " Average training loss: 0.07148883101892554\n",
            " Training epoch took: 0:03:48\n",
            "\n",
            "Running validation...\n",
            " Accuracy: 0.9932692307692308\n",
            " Validation took: 0:03:57\n",
            "Epoch 2 / 4\n",
            "\n",
            " Average training loss: 0.015746126337035093\n",
            " Training epoch took: 0:03:46\n",
            "\n",
            "Running validation...\n",
            " Accuracy: 0.9860576923076924\n",
            " Validation took: 0:03:54\n",
            "Epoch 3 / 4\n",
            "\n",
            " Average training loss: 0.004646057584669996\n",
            " Training epoch took: 0:03:46\n",
            "\n",
            "Running validation...\n",
            " Accuracy: 0.9908653846153846\n",
            " Validation took: 0:03:54\n",
            "Epoch 4 / 4\n",
            "\n",
            " Average training loss: 0.0024320467035394335\n",
            " Training epoch took: 0:03:46\n",
            "\n",
            "Running validation...\n",
            " Accuracy: 0.9913461538461539\n",
            " Validation took: 0:03:54\n",
            "Training complete!\n",
            " Validation Accuracy = 0.9913461538461539\n",
            "\n"
          ],
          "name": "stdout"
        }
      ]
    },
    {
      "cell_type": "markdown",
      "metadata": {
        "id": "KioGoNGC3P89"
      },
      "source": [
        "We can see from the following graph that the RoBERTa model outperforms the BERT and DistilBERT models."
      ]
    },
    {
      "cell_type": "code",
      "metadata": {
        "id": "FJM31T959HyJ",
        "colab": {
          "base_uri": "https://localhost:8080/",
          "height": 352
        },
        "outputId": "f043bf2b-a82c-4f6b-fb15-0a7038ad5036"
      },
      "source": [
        "eps = [1,2,3,4]\n",
        "plt.plot(eps,bert_loss)\n",
        "plt.plot(eps,distilbert_loss)\n",
        "plt.plot(eps, roberta_loss)\n",
        "plt.xlabel(\"Epochs\")\n",
        "plt.ylabel(\"Loss\")\n",
        "plt.legend([\"BERT\", \"DistilBERT\", \"RoBERta\"])\n",
        "plt.show()"
      ],
      "execution_count": 31,
      "outputs": [
        {
          "output_type": "display_data",
          "data": {
            "image/png": "[encoded data removed]",
            "text/plain": [
              "<Figure size 720x360 with 1 Axes>"
            ]
          },
          "metadata": {
            "tags": []
          }
        }
      ]
    },
    {
      "cell_type": "markdown",
      "metadata": {
        "id": "7HenP7P43hoO"
      },
      "source": [
        "# **5. Testing**"
      ]
    },
    {
      "cell_type": "code",
      "metadata": {
        "id": "FGmazlDvh2R1",
        "colab": {
          "base_uri": "https://localhost:8080/"
        },
        "outputId": "00da16bf-d2e4-4b89-8c1e-22afe9b8a446"
      },
      "source": [
        "bert_model = torch.load(\"BERT_Model\")\n",
        "bert_model.eval()\n",
        "bert_y_pred = test_predict(bert_model, test.text, BertTokenizer, BERT_PRE_TRAINED_MODEL_NAME)\n",
        "test_submission_file(bert_y_pred, 'BERT_submission.csv')"
      ],
      "execution_count": 36,
      "outputs": [
        {
          "output_type": "stream",
          "text": [
            "Truncation was not explicitly activated but `max_length` is provided a specific value, please use `truncation=True` to explicitly truncate examples to max length. Defaulting to 'longest_first' truncation strategy. If you encode pairs of sequences (GLUE-style) with the tokenizer you can select this strategy more precisely by providing a specific strategy to `truncation`.\n"
          ],
          "name": "stderr"
        }
      ]
    },
    {
      "cell_type": "code",
      "metadata": {
        "id": "YTzch1fevlym",
        "colab": {
          "base_uri": "https://localhost:8080/"
        },
        "outputId": "833ee3cb-a741-4fea-fb95-db46c778a717"
      },
      "source": [
        "distilbert_model = torch.load(\"DistilBERT_Model\")\n",
        "distilbert_model.eval()\n",
        "distilbert_y_pred = test_predict(distilbert_model, test.text, DistilBertTokenizer, DISTILBERT_PRE_TRAINED_MODEL_NAME)\n",
        "test_submission_file(distilbert_y_pred, 'DistilBERT_submission.csv')"
      ],
      "execution_count": 37,
      "outputs": [
        {
          "output_type": "stream",
          "text": [
            "Truncation was not explicitly activated but `max_length` is provided a specific value, please use `truncation=True` to explicitly truncate examples to max length. Defaulting to 'longest_first' truncation strategy. If you encode pairs of sequences (GLUE-style) with the tokenizer you can select this strategy more precisely by providing a specific strategy to `truncation`.\n"
          ],
          "name": "stderr"
        }
      ]
    },
    {
      "cell_type": "code",
      "metadata": {
        "id": "rjkXbTyfvmNo",
        "colab": {
          "base_uri": "https://localhost:8080/"
        },
        "outputId": "d67de0cb-9781-49e2-a0da-a37afa463981"
      },
      "source": [
        "roberta_model = torch.load(\"RoBERTa_Model\")\n",
        "roberta_model.eval()\n",
        "roberta_y_pred = test_predict(roberta_model, test.text, RobertaTokenizer, ROBERTA_PRE_TRAINED_MODEL_NAME)\n",
        "test_submission_file(roberta_y_pred, 'RoBERTa_submission.csv')"
      ],
      "execution_count": 38,
      "outputs": [
        {
          "output_type": "stream",
          "text": [
            "Truncation was not explicitly activated but `max_length` is provided a specific value, please use `truncation=True` to explicitly truncate examples to max length. Defaulting to 'longest_first' truncation strategy. If you encode pairs of sequences (GLUE-style) with the tokenizer you can select this strategy more precisely by providing a specific strategy to `truncation`.\n"
          ],
          "name": "stderr"
        }
      ]
    },
    {
      "cell_type": "markdown",
      "metadata": {
        "id": "yG_Ga4ni3nNM"
      },
      "source": [
        "Following is the screenshot of our submission on Kaggle for test dataset.\n",
        "<br>\n",
        "![Screen Shot 2021-05-18 at 3.06.29 PM.png](data:image/png;base64,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)"
      ]
    }
  ]
}